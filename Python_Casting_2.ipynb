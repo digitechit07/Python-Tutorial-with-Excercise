{
  "nbformat": 4,
  "nbformat_minor": 0,
  "metadata": {
    "colab": {
      "provenance": [],
      "authorship_tag": "ABX9TyMpN4r4C47K51gnjHnO7vBC",
      "include_colab_link": true
    },
    "kernelspec": {
      "name": "python3",
      "display_name": "Python 3"
    },
    "language_info": {
      "name": "python"
    }
  },
  "cells": [
    {
      "cell_type": "markdown",
      "metadata": {
        "id": "view-in-github",
        "colab_type": "text"
      },
      "source": [
        "<a href=\"https://colab.research.google.com/github/digitechit07/Python-Tutorial-with-Excercise/blob/main/Python_Casting_2.ipynb\" target=\"_parent\"><img src=\"https://colab.research.google.com/assets/colab-badge.svg\" alt=\"Open In Colab\"/></a>"
      ]
    },
    {
      "cell_type": "markdown",
      "source": [
        "# **Casting**\n",
        "Casting is the process of converting the value of one type into the value of another. In some cases, methods or concatenations are only possible when a value is converted from one type to another."
      ],
      "metadata": {
        "id": "on1nJL1fYjxC"
      }
    },
    {
      "cell_type": "code",
      "execution_count": 2,
      "metadata": {
        "colab": {
          "base_uri": "https://localhost:8080/"
        },
        "id": "H6Ara65kYGzH",
        "outputId": "8b332709-a49c-4bcf-fee2-bebcab94c7b2"
      },
      "outputs": [
        {
          "output_type": "stream",
          "name": "stdout",
          "text": [
            "23 State Street Brooklyn, NY11231\n",
            "23 State Street Brooklyn, NY 11231\n",
            "14\n",
            "11.7\n",
            "<class 'float'>\n"
          ]
        }
      ],
      "source": [
        "\n",
        "'''\n",
        "zipcode = 11231\n",
        "address = \"23 State Street Brooklyn, NY\"\n",
        "print(address + zipcode)\n",
        "'''\n",
        "zipcode = 11231\n",
        "address = \"23 State Street Brooklyn, NY\"\n",
        "print(address + str(zipcode))\n",
        "\n",
        "zipcode = 11231\n",
        "zipcode_string = str(zipcode)\n",
        "address = \"23 State Street Brooklyn, NY \"\n",
        "print(address + zipcode_string)\n",
        "\n",
        "number = 14.6\n",
        "print(int(number))    #prints the value 14\n",
        "\n",
        "num1 = 6\n",
        "num2 = 5.7\n",
        "num3 = num1 + num2\n",
        "print(num3)  #prints the value 11.7\n",
        "print(type(num3)) # prints <float>\n",
        "\n"
      ]
    },
    {
      "cell_type": "markdown",
      "source": [
        "# **Python Type Conversion**\n",
        "In programming, type conversion is the process of converting data of one type to another. For example: converting int data to str.\n",
        "\n",
        "There are two types of type conversion in Python.\n",
        "\n",
        "**Implicit Conversion**  - automatic type conversion\n",
        "\n",
        "**Explicit Conversion** - manual type conversion\n"
      ],
      "metadata": {
        "id": "JmtdLHvEZBws"
      }
    },
    {
      "cell_type": "code",
      "source": [
        "integer_number = 123\n",
        "float_number = 1.23\n",
        "\n",
        "new_number = integer_number + float_number\n",
        "\n",
        "# display new value and resulting data type\n",
        "print(\"Value:\",new_number)\n",
        "print(\"Data Type:\",type(new_number))\n",
        "\n",
        "num_string = '12'\n",
        "num_integer = 23\n",
        "\n",
        "print(\"Data type of num_string before Type Casting:\",type(num_string))\n",
        "\n",
        "# explicit type conversion\n",
        "num_string = int(num_string)\n",
        "\n",
        "print(\"Data type of num_string after Type Casting:\",type(num_string))\n",
        "\n",
        "num_sum = num_integer + num_string\n",
        "\n",
        "print(\"Sum:\",num_sum)\n",
        "print(\"Data type of num_sum:\",type(num_sum))\n",
        "\n",
        "\n"
      ],
      "metadata": {
        "colab": {
          "base_uri": "https://localhost:8080/"
        },
        "id": "BYe_u0IMZB8S",
        "outputId": "d7a42484-10b4-45d5-9104-57085f3f6b35"
      },
      "execution_count": 3,
      "outputs": [
        {
          "output_type": "stream",
          "name": "stdout",
          "text": [
            "Value: 124.23\n",
            "Data Type: <class 'float'>\n",
            "Data type of num_string before Type Casting: <class 'str'>\n",
            "Data type of num_string after Type Casting: <class 'int'>\n",
            "Sum: 35\n",
            "Data type of num_sum: <class 'int'>\n"
          ]
        }
      ]
    },
    {
      "cell_type": "markdown",
      "source": [
        "# **Key Points to Remember**\n",
        "Type Conversion is the conversion of an object from one data type to another data type.\n",
        "Implicit Type Conversion is automatically performed by the Python interpreter.\n",
        "Python avoids the loss of data in Implicit Type Conversion.\n",
        "Explicit Type Conversion is also called Type Casting, the data types of objects are converted using predefined functions by the user.\n",
        "In Type Casting, loss of data may occur as we enforce the object to a specific data type.\n",
        "\n",
        "\n",
        "# **Note:**\n",
        "\n",
        "We get TypeError, if we try to add str and int. For example, '12' + 23. Python is not able to use Implicit Conversion in such conditions.\n",
        "Python has a solution for these types of situations which is known as Explicit Conversion."
      ],
      "metadata": {
        "id": "EjflmODBZPNK"
      }
    },
    {
      "cell_type": "code",
      "source": [
        "# num_one of type integer\n",
        "num_one = 50\n",
        "# num_two of type float\n",
        "num_two = 150.75\n",
        "print(type(num_one))\n",
        "print(type(num_two))\n",
        "\n",
        "# add 'num_one' of type int to 'num two' of type float\n",
        "result = num_one + num_two\n",
        "print(result)\n",
        "print(type(result))\n",
        "\n",
        "\n",
        "# num_one of type integer\n",
        "nun_one = 50\n",
        "# num_two of type string\n",
        "num_two = \"150.75\"\n",
        "print(type(num_one))\n",
        "print(type(num_two))\n",
        "\n",
        "# add 'num_one' of type int to 'num_two' of type string\n",
        "result = num_one + float(num_two)\n",
        "print(result)\n",
        "print(type(result))\n"
      ],
      "metadata": {
        "colab": {
          "base_uri": "https://localhost:8080/"
        },
        "id": "Xa_A3chIZPVL",
        "outputId": "969f0b7e-28c8-4872-f67f-5ca70fe150db"
      },
      "execution_count": 7,
      "outputs": [
        {
          "output_type": "stream",
          "name": "stdout",
          "text": [
            "<class 'int'>\n",
            "<class 'float'>\n",
            "200.75\n",
            "<class 'float'>\n",
            "<class 'int'>\n",
            "<class 'str'>\n",
            "200.75\n",
            "<class 'float'>\n"
          ]
        }
      ]
    },
    {
      "cell_type": "markdown",
      "source": [
        "#**Type casting or Type conversion in Python **\n",
        " allows casting or conversion of one value into another. At large, type casting or conversion is divided into two parts:\n",
        "\n",
        "Implicit Type Casting/Conversion\n",
        "Explicit Type Casting/Conversion\n",
        "Let’s explore each type of casting in detail.\n",
        "\n",
        "Implicit Type Casting/Conversion in Python\n",
        "Implicit type casting or conversion is done by Python Interpreter. Some key points to keep in mind about implicit type casting or conversion are:\n",
        "\n",
        "Casting or Conversion of type is done by Python Interpreter automatically\n",
        "Python Interpreter will only do implicit conversion or casting when there is no loss of data\n",
        "Python Interpreter will only do implicit conversion or casting when both the types involved are compatible for casting.\n",
        "Let’s take a look at a few examples of implicit type conversion or casting. In the example below, we have two variables one of type integer and another of type float. Float is considered to be a higher data type as it allows more range of values compared to an integer type. Hence when we try to add two numbers, each one of being type float and integer, the resulting number is always of higher data type – in this case float. This is the case so that there is no loss of data or information as integer values can still be accommodated into float types."
      ],
      "metadata": {
        "id": "qv9dqhucZCHK"
      }
    },
    {
      "cell_type": "code",
      "source": [
        "salary = 250000\n",
        "bonus = salary * (0.50)\n",
        "\n",
        "new_salary = float(salary)\n",
        "print(\"Salary converted into a floating-point number: \", new_salary)\n",
        "print(\"Salary after adding a bonus: \", new_salary + bonus)\n",
        "\n",
        "a = 100\n",
        "b = .10\n",
        "c = float(a+b)\n",
        "print(c)\n",
        "print (type(a))\n",
        "print (type(b))\n",
        "print (type(c))\n",
        "\n",
        "number = 100\n",
        "string = str(number)\n",
        "print(\"From number to string equal: \",string)\n",
        "\n",
        "age = 50\n",
        "strAge = f'{age}'\n",
        "print(strAge)\n",
        "\n",
        "import datetime\n",
        "name =' Zahid'\n",
        "age = 50\n",
        "anniversary = datetime.date(2006, 7, 19)\n",
        "print(f'My name is {name}, my age next year will be {age+1}, and my anniversary is {anniversary: %A, %B, %d, %Y}.')\n",
        "\n",
        "\n",
        "a=\"New Stack\"\n",
        "obj=list(a)\n",
        "print(obj)\n",
        "\n"
      ],
      "metadata": {
        "colab": {
          "base_uri": "https://localhost:8080/"
        },
        "id": "L4fD-NXvcZro",
        "outputId": "f052f8a8-1cc3-4cf8-cd00-a69f70bb5f08"
      },
      "execution_count": 8,
      "outputs": [
        {
          "output_type": "stream",
          "name": "stdout",
          "text": [
            "Salary converted into a floating-point number:  250000.0\n",
            "Salary after adding a bonus:  375000.0\n",
            "100.1\n",
            "<class 'int'>\n",
            "<class 'float'>\n",
            "<class 'float'>\n",
            "From number to string equal:  100\n",
            "50\n",
            "My name is  Zahid, my age next year will be 51, and my anniversary is  Wednesday, July, 19, 2006.\n",
            "['N', 'e', 'w', ' ', 'S', 't', 'a', 'c', 'k']\n"
          ]
        }
      ]
    },
    {
      "cell_type": "markdown",
      "source": [
        "# **Python is a high-level programming language that provides functionalities for a number of operations.**\n",
        "\n",
        "To ensure consistency in the program, variable types may have to be specified sometimes. This is achieved through casting. As Python is an object-oriented language, classes can be used to define data types.\n",
        "\n",
        "The three constructor functions used to cast python variables are\n",
        "\n",
        "int(): An integer variable constructed from an integer variable, a float variable, or a string variable.\n",
        "\n",
        "float(): A float variable constructed from an integer variable, a float variable, or a string variable.\n",
        "\n",
        "str(): A string variable constructed from an integer variable, a float variable, or a string variable."
      ],
      "metadata": {
        "id": "rr7zyXAxc6Yg"
      }
    },
    {
      "cell_type": "code",
      "source": [
        "#integer casting\n",
        "a = int(4.00)\n",
        "b = int(\"67\")\n",
        "c = int(4)\n",
        "\n",
        "print ('int(4.00) = ',a)\n",
        "print ('int(\"67\") = ',b)\n",
        "print ('int(4) = ',c)\n",
        "print('\\n')\n",
        "\n",
        "#float casting\n",
        "d = float(6.45)\n",
        "e = float(\"67.2\")\n",
        "f = float(5)\n",
        "\n",
        "print ('float(6.45) = ',d)\n",
        "print ('float(\"67.2\") = ',e)\n",
        "print ('float(5) = ',f)\n",
        "print('\\n')\n",
        "\n",
        "#string casting\n",
        "g = str(4.00)\n",
        "h = str(\"67\")\n",
        "i = str(4+6)\n",
        "\n",
        "print ('str(4.00) = ',g)\n",
        "print ('str(\"67\") = ',h)\n",
        "print ('str(7) = ',i)\n",
        "'''\n",
        "from typing import cast\n",
        "\n",
        "a = cast(str, b)\n",
        "\n",
        "from typing import Cast\n",
        "a: Cast[str] = b\n",
        "'''\n"
      ],
      "metadata": {
        "colab": {
          "base_uri": "https://localhost:8080/",
          "height": 261
        },
        "id": "I5MfSuL_c8DA",
        "outputId": "7f93e1fd-ac61-4598-e622-8a6c12ab2283"
      },
      "execution_count": 10,
      "outputs": [
        {
          "output_type": "stream",
          "name": "stdout",
          "text": [
            "int(4.00) =  4\n",
            "int(\"67\") =  67\n",
            "int(4) =  4\n",
            "\n",
            "\n",
            "float(6.45) =  6.45\n",
            "float(\"67.2\") =  67.2\n",
            "float(5) =  5.0\n",
            "\n",
            "\n",
            "str(4.00) =  4.0\n",
            "str(\"67\") =  67\n",
            "str(7) =  10\n"
          ]
        },
        {
          "output_type": "execute_result",
          "data": {
            "text/plain": [
              "'\\nfrom typing import cast\\n\\na = cast(str, b)\\n\\nfrom typing import Cast\\na: Cast[str] = b\\n'"
            ],
            "application/vnd.google.colaboratory.intrinsic+json": {
              "type": "string"
            }
          },
          "metadata": {},
          "execution_count": 10
        }
      ]
    },
    {
      "cell_type": "markdown",
      "source": [
        "# **What is Type Casting in Python?**\n",
        "In simple words, type casting means changing the type of a value from one form to another, like converting a string into an integer, or a float into a string.\n",
        "\n",
        "Python supports two kinds of type casting:\n",
        "\n",
        "Implicit Type Casting\n",
        "Explicit Type Casting\n",
        "\n"
      ],
      "metadata": {
        "id": "JS11JR2LdFnY"
      }
    }
  ]
}