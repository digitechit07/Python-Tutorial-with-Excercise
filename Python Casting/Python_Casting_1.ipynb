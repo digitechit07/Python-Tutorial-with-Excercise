{
  "nbformat": 4,
  "nbformat_minor": 0,
  "metadata": {
    "colab": {
      "provenance": [],
      "authorship_tag": "ABX9TyOTxFnQ/tLtQ4u8fcn1knf0",
      "include_colab_link": true
    },
    "kernelspec": {
      "name": "python3",
      "display_name": "Python 3"
    },
    "language_info": {
      "name": "python"
    }
  },
  "cells": [
    {
      "cell_type": "markdown",
      "metadata": {
        "id": "view-in-github",
        "colab_type": "text"
      },
      "source": [
        "<a href=\"https://colab.research.google.com/github/digitechit07/Python-Tutorial-with-Excercise/blob/main/Python_Casting_1.ipynb\" target=\"_parent\"><img src=\"https://colab.research.google.com/assets/colab-badge.svg\" alt=\"Open In Colab\"/></a>"
      ]
    },
    {
      "cell_type": "markdown",
      "source": [
        "# **Python casting **\n",
        "\n",
        "also known as type casting, refers to the process of converting a value from one data type to another. This is often necessary when performing operations that require specific data types, or when handling user input which is typically received as strings.\n",
        "Python supports two main types of casting:\n",
        "Implicit Type Casting (Coercion): This occurs automatically when Python converts a data type to another without explicit instruction from the programmer, usually during operations involving different numeric types. For example, when adding an integer and a float, Python implicitly converts the integer to a float before performing the addition."
      ],
      "metadata": {
        "id": "lwWtBEw6JmrV"
      }
    },
    {
      "cell_type": "code",
      "execution_count": null,
      "metadata": {
        "id": "z6kttHw3JiZC"
      },
      "outputs": [],
      "source": [
        "    num_int = 10\n",
        "    num_float = 5.5\n",
        "    result = num_int + num_float # num_int is implicitly converted to a float\n",
        "    print(result)\n",
        "    print(type(result))\n",
        "\n",
        "        # int() casting\n",
        "    print(int(3.14))       # Output: 3\n",
        "    print(int(\"123\"))      # Output: 123\n",
        "\n",
        "    # float() casting\n",
        "    print(float(5))        # Output: 5.0\n",
        "    print(float(\"7.89\"))   # Output: 7.89\n",
        "\n",
        "    # str() casting\n",
        "    print(str(100))        # Output: \"100\"\n",
        "    print(str(True))       # Output: \"True\"\n",
        "\n",
        "    # list() casting\n",
        "    my_string = \"hello\"\n",
        "    my_list = list(my_string)\n",
        "    print(my_list)         # Output: ['h', 'e', 'l', 'l', 'o']\n",
        "\n",
        ""
      ]
    },
    {
      "cell_type": "markdown",
      "source": [
        "# **Python supports two main types of casting:**\n",
        "Implicit Type Casting (Coercion): This occurs automatically when Python converts a data type to another without explicit instruction from the programmer, usually during operations involving different numeric types. For example, when adding an integer and a float, Python implicitly converts the integer to a float before performing the addition."
      ],
      "metadata": {
        "id": "5Ysbr4RwJ0He"
      }
    },
    {
      "cell_type": "code",
      "source": [
        "x = int(1)   # x will be 1\n",
        "y = int(2.8) # y will be 2\n",
        "z = int(\"3\") # z will be 3\n",
        "\n",
        "x = float(1)     # x will be 1.0\n",
        "y = float(2.8)   # y will be 2.8\n",
        "z = float(\"3\")   # z will be 3.0\n",
        "w = float(\"4.2\")\n",
        "\n"
      ],
      "metadata": {
        "id": "2NbtdVFJJ0OF"
      },
      "execution_count": null,
      "outputs": []
    },
    {
      "cell_type": "markdown",
      "source": [
        "# **Explicit Type Casting (Type Conversion): **\n",
        "This requires the programmer to explicitly convert a value from one data type to another using built-in constructor functions. These functions include:\n",
        "int(): Converts a value to an integer. It can take an integer literal, a float literal (truncating decimals), or a string representing a whole number.\n",
        "float(): Converts a value to a floating-point number. It can take an integer literal, a float literal, or a string representing a number.\n",
        "str(): Converts a value to a string. It can take various data types, including numbers, booleans, and other objects.\n",
        "list(), tuple(), set(): Convert iterable objects into their respective sequence or collection types.\n",
        "bool(): Converts a value to a boolean (True or False)."
      ],
      "metadata": {
        "id": "gbLmtf4DJ0VF"
      }
    },
    {
      "cell_type": "code",
      "source": [
        "x = str(\"s1\") # x will be 's1'\n",
        "y = str(2)    # y will be '2'\n",
        "z = str(3.0)  # z will be '3.0'\n",
        "\n",
        "# implicit type Casting\n",
        "\n",
        "# Python automatically converts\n",
        "# a to int\n",
        "a = 7\n",
        "print(type(a))\n",
        "\n",
        "# Python automatically converts\n",
        "# b to float\n",
        "b = 3.0\n",
        "print(type(b))\n",
        "\n",
        "# Python automatically converts\n",
        "# c to float as it is a float addition\n",
        "c = a + b\n",
        "print(c)\n",
        "print(type(c))\n",
        "\n",
        "# Python automatically converts\n",
        "# d to float as it is a float multiplication\n",
        "d = a * b\n",
        "print(d)\n",
        "print(type(d))"
      ],
      "metadata": {
        "colab": {
          "base_uri": "https://localhost:8080/"
        },
        "id": "bHTL7M4YJ0cN",
        "outputId": "332f2cb1-c5bb-472f-ef97-1b22c2069431"
      },
      "execution_count": 1,
      "outputs": [
        {
          "output_type": "stream",
          "name": "stdout",
          "text": [
            "<class 'int'>\n",
            "<class 'float'>\n",
            "10.0\n",
            "<class 'float'>\n",
            "21.0\n",
            "<class 'float'>\n"
          ]
        }
      ]
    },
    {
      "cell_type": "markdown",
      "source": [
        "# **Importance of Casting:**\n",
        "Casting is crucial in Python for several reasons:\n",
        "Data Type Compatibility: Ensuring that variables have the correct data type for specific operations, preventing TypeError exceptions.\n",
        "User Input Processing: Converting string input from users into numerical types for calculations.\n",
        "Data Formatting: Presenting data in a desired format, such as converting numbers to strings for display or concatenation."
      ],
      "metadata": {
        "id": "t2exyP50KEQ-"
      }
    },
    {
      "cell_type": "code",
      "source": [
        "# int variable\n",
        "a = 5\n",
        "\n",
        "# typecast to float\n",
        "n = float(a)\n",
        "\n",
        "print(n)\n",
        "print(type(n))\n",
        "\n",
        "# int variable\n",
        "a = 5.9\n",
        "\n",
        "# typecast to int\n",
        "n = int(a)\n",
        "\n",
        "print(n)\n",
        "print(type(n))\n",
        "\n",
        "# int variable\n",
        "a = 5\n",
        "\n",
        "# typecast to str\n",
        "n = str(a)\n",
        "\n",
        "print(n)\n",
        "print(type(n))\n",
        "\n",
        "# string variable\n",
        "a = \"5.9\"\n",
        "\n",
        "# typecast to float\n",
        "n = float(a)\n",
        "\n",
        "print(n)\n",
        "print(type(n))\n",
        "\n",
        "# string variable\n",
        "a = \"5\"\n",
        "b = 't'\n",
        "\n",
        "# typecast to int\n",
        "n = int(a)\n",
        "\n",
        "print(n)\n",
        "print(type(n))\n",
        "\n",
        "#print(int(b))\n",
        "print(type(b))\n",
        "\n",
        "# integer variable\n",
        "a = \"z\"\n",
        "# string variable\n",
        "b = 't'\n",
        "\n",
        "# typecast to int\n",
        "n = a+b\n",
        "\n",
        "print(n)\n",
        "print(type(n))\n",
        "\n",
        "a = 5\n",
        "b = '7'\n",
        "\n",
        "# explicit conversion of string to int\n",
        "n = a + int(b)\n",
        "print(n)\n",
        "print(type(n))\n",
        "\n"
      ],
      "metadata": {
        "colab": {
          "base_uri": "https://localhost:8080/"
        },
        "id": "mYg7CuZdRkzn",
        "outputId": "0cef4618-a999-4510-f3cf-4014a031a95c"
      },
      "execution_count": 6,
      "outputs": [
        {
          "output_type": "stream",
          "name": "stdout",
          "text": [
            "5.0\n",
            "<class 'float'>\n",
            "5\n",
            "<class 'int'>\n",
            "5\n",
            "<class 'str'>\n",
            "5.9\n",
            "<class 'float'>\n",
            "5\n",
            "<class 'int'>\n",
            "<class 'str'>\n",
            "zt\n",
            "<class 'str'>\n",
            "12\n",
            "<class 'int'>\n"
          ]
        }
      ]
    },
    {
      "cell_type": "markdown",
      "source": [
        "# **Mainly type casting can be done with these data type functions:**\n",
        "\n",
        "Int(): Python Int() function take float or string as an argument and returns int type object.\n",
        "\n",
        "float(): Python float() function take int or string as an argument and return float type object.\n",
        "\n",
        "str(): Python str() function takes float or int as an argument and returns string type object."
      ],
      "metadata": {
        "id": "TDOLXYl6SN0o"
      }
    },
    {
      "cell_type": "markdown",
      "source": [],
      "metadata": {
        "id": "wl7mF9gFSXeI"
      }
    },
    {
      "cell_type": "code",
      "source": [
        "a = int(1)     # a will be 1\n",
        "b = int(2.2)   # b will be 2\n",
        "c = int(\"3\")   # c will be 3\n",
        "\n",
        "print(a)\n",
        "print(b)\n",
        "print(c)\n",
        "\n",
        "\n",
        "\n",
        "a = float(1)     # a will be 1.0\n",
        "b = float(2.2)   # b will be 2.2\n",
        "c = float(\"3.3\") # c will be 3.3\n",
        "\n",
        "print(a)\n",
        "print(b)\n",
        "print(c)\n",
        "\n"
      ],
      "metadata": {
        "colab": {
          "base_uri": "https://localhost:8080/"
        },
        "id": "33Jj4A2WSXTP",
        "outputId": "77b707f3-785c-4294-fd67-759725bc01b5"
      },
      "execution_count": 7,
      "outputs": [
        {
          "output_type": "stream",
          "name": "stdout",
          "text": [
            "1\n",
            "2\n",
            "3\n",
            "1.0\n",
            "2.2\n",
            "3.3\n"
          ]
        }
      ]
    },
    {
      "cell_type": "markdown",
      "source": [
        "# **Python Type Casting**\n",
        "From a programming point of view, a type casting refers to converting an object of one type into another. Here, we shall learn about type casting in Python Programming.\n",
        "\n",
        "Python Type Casting is a process in which we convert a literal of one data type to another data type. Python supports two types of casting − implicit and explicit.\n",
        "In Python there are different data types, such as numbers, sequences, mappings etc. There may be a situation where, you have the available data of one type but you want to use it in another form. For example, the user has input a string but you want to use it as a number. Python's type casting mechanism let you do that."
      ],
      "metadata": {
        "id": "IcCSovhQScDv"
      }
    },
    {
      "cell_type": "code",
      "source": [
        "string = \"56\"\n",
        "number = 44\n",
        "\n",
        "# Converting the string into an integer number.\n",
        "string_number = int(string)\n",
        "\n",
        "sum_of_numbers = number + string_number\n",
        "print(\"The Sum of both the numbers is: \", sum_of_numbers)\n",
        "\n",
        "\n",
        "salary = 25000\n",
        "bonus = salary * (0.25)\n",
        "\n",
        "# Converting the salary into floating point number.\n",
        "new_salary = float(salary)\n",
        "print(\"Salary converted into floating-point: \", new_salary)\n",
        "print(\"Salary after adding bonus: \", new_salary + bonus)\n",
        "\n",
        "\n",
        "string = \"01101\"\n",
        "floating_number = 45.20\n",
        "\n",
        "# Converting the string as well as integer number into floating point number.\n",
        "new_str = int(string)\n",
        "new_number = int(floating_number)\n",
        "print(\"String converted into integer: \", new_str)\n",
        "print(\"The floating-point number converted into integer: \", new_number)\n",
        "\n",
        "\n",
        "number = 55\n",
        "string = str(number)\n",
        "print(\"Converted string is:\",string)\n",
        "\n",
        "\n",
        "\n",
        "# Taking a number in the form of string\n",
        "string_numbers = \"11\"\n",
        "# Converting the string into number.\n",
        "integer_number = int(string_numbers)\n",
        "\n",
        "print(\"Integer number is:\", integer_number)\n",
        "\n",
        "\n"
      ],
      "metadata": {
        "colab": {
          "base_uri": "https://localhost:8080/"
        },
        "id": "nxvRH7u5SwoJ",
        "outputId": "9200045c-c50f-40eb-b151-db6256f2f080"
      },
      "execution_count": 8,
      "outputs": [
        {
          "output_type": "stream",
          "name": "stdout",
          "text": [
            "The Sum of both the numbers is:  100\n",
            "Salary converted into floating-point:  25000.0\n",
            "Salary after adding bonus:  31250.0\n",
            "String converted into integer:  1101\n",
            "The floating-point number converted into integer:  45\n",
            "Converted string is: 55\n",
            "Integer number is: 11\n"
          ]
        }
      ]
    },
    {
      "cell_type": "markdown",
      "source": [
        "# **Data Type Conversion Functions**\n",
        "There are several built-in functions to perform conversion from one data type to another. These functions return a new object representing the converted value.\n",
        "\n",
        "Sr.No.\tFunction & Description\n",
        "1\tPython int() function\n",
        "Converts x to an integer. base specifies the base if x is a string.\n",
        "\n",
        "2\tPython long() function\n",
        "Converts x to a long integer. base specifies the base if x is a string.\n",
        "\n",
        "3\tPython float() function\n",
        "Converts x to a floating-point number.\n",
        "\n",
        "4\tPython complex() function\n",
        "Creates a complex number.\n",
        "\n",
        "5\tPython str() function\n",
        "Converts object x to a string representation.\n",
        "\n",
        "6\tPython repr() function\n",
        "Converts object x to an expression string.\n",
        "\n",
        "7\tPython eval() function\n",
        "Evaluates a string and returns an object.\n",
        "\n",
        "8\tPython tuple() function\n",
        "Converts s to a tuple.\n",
        "\n",
        "9\tPython list() function\n",
        "Converts s to a list.\n",
        "\n",
        "10\tPython set() function\n",
        "Converts s to a set.\n",
        "\n",
        "11\tPython dict() function\n",
        "Creates a dictionary. d must be a sequence of (key,value) tuples.\n",
        "\n",
        "12\tPython frozenset() function\n",
        "Converts s to a frozen set.\n",
        "\n",
        "13\tPython chr() function\n",
        "Converts an integer to a character.\n",
        "\n",
        "14\tPython unichr() function\n",
        "Converts an integer to a Unicode character.\n",
        "\n",
        "15\tPython ord() function\n",
        "Converts a single character to its integer value.\n",
        "\n",
        "16\tPython hex() function\n",
        "Converts an integer to a hexadecimal string.\n",
        "\n",
        "17\tPython oct() function\n",
        "Converts an integer to an octal string."
      ],
      "metadata": {
        "id": "9VqDPeEtSzZY"
      }
    }
  ]
}
