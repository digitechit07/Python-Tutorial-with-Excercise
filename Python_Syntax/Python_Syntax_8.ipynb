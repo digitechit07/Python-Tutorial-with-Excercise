{
  "nbformat": 4,
  "nbformat_minor": 0,
  "metadata": {
    "colab": {
      "provenance": [],
      "authorship_tag": "ABX9TyNj5NFD50AlMokxSJDdIMoD",
      "include_colab_link": true
    },
    "kernelspec": {
      "name": "python3",
      "display_name": "Python 3"
    },
    "language_info": {
      "name": "python"
    }
  },
  "cells": [
    {
      "cell_type": "markdown",
      "metadata": {
        "id": "view-in-github",
        "colab_type": "text"
      },
      "source": [
        "<a href=\"https://colab.research.google.com/github/digitechit07/Python-Tutorial-with-Excercise/blob/main/Python_Syntax_8.ipynb\" target=\"_parent\"><img src=\"https://colab.research.google.com/assets/colab-badge.svg\" alt=\"Open In Colab\"/></a>"
      ]
    },
    {
      "cell_type": "markdown",
      "source": [
        "# **What does “syntax” mean in Python?**\n",
        "The rules that define the structure of the language for python is called its syntax.  Without this, the meaning of the code is hard to understand. These include the usage of symbols, punctuations, words and how you should use them while you code in the language.     "
      ],
      "metadata": {
        "id": "dY0GVOMwX8ur"
      }
    },
    {
      "cell_type": "code",
      "execution_count": 1,
      "metadata": {
        "colab": {
          "base_uri": "https://localhost:8080/"
        },
        "id": "BXzyi4-CXybM",
        "outputId": "6bb7836d-b243-4179-cb43-58ae50d070f1"
      },
      "outputs": [
        {
          "output_type": "stream",
          "name": "stdout",
          "text": [
            "Please enter a number5\n",
            "The number is less than 18\n"
          ]
        }
      ],
      "source": [
        "num=int(input(\"Please enter a number\"))\n",
        "if num>18:\n",
        "    print(\"The number is greater than 18\")\n",
        "elif num<18:\n",
        "    print(\"The number is less than 18\")\n",
        "else:\n",
        "    print(\"The number is equal to 18\")"
      ]
    },
    {
      "cell_type": "markdown",
      "source": [
        "# **Python Identifiers**\n",
        "The name you use to identify a function, module, class, variable, or any other object is called an Identifier.\n",
        "\n",
        "There are certain rules for creating these identifiers:\n",
        "\n",
        "The identifier can start with a letter: A-Z or a-z.\n",
        "\n",
        "It can start with the underscore character.\n",
        "\n",
        "It cannot start with a number or any other special character.\n",
        "\n",
        "The identifier can contain only alpha-numeric characters and underscore provided it does not start with a number.\n",
        "\n",
        "And the variables are case sensitive so Apple and apple are two different variables.\n",
        "\n",
        "Python also has rules that help describe the variable.\n",
        "\n",
        "While naming a class variable, the variable starts with an uppercase letter followed by all lowercase letters.\n",
        "\n",
        "While naming a language-defined special name, the variable ends with two underscores.\n",
        "\n",
        "When naming a private variable, the variable starts with a single underscore.\n",
        "\n",
        "While naming a strongly private variable, the variable starts with two underscores.\n",
        "\n",
        "# **Reserved keywords in Python**\n",
        "These are special keywords that python has reserved for specific functions. They provide certain predefined functionalities. They can be constants or variables or any other identifier. But once you set it as a constant or variable, the predefined function doesn’t work.\n"
      ],
      "metadata": {
        "id": "oAtXTKkSX_2b"
      }
    },
    {
      "cell_type": "code",
      "source": [
        "num=int(input(\"Please enter a number \\n\"))\n",
        "sum=0\n",
        "for i in range(0,num):\n",
        "    sum=sum+i\n",
        "print(\"the total sum is\",sum)"
      ],
      "metadata": {
        "colab": {
          "base_uri": "https://localhost:8080/"
        },
        "id": "AEg1kbkdYAMc",
        "outputId": "24db0506-a11d-47a5-bd99-8f359a64d691"
      },
      "execution_count": 2,
      "outputs": [
        {
          "output_type": "stream",
          "name": "stdout",
          "text": [
            "Please enter a number \n",
            "5\n",
            "the total sum is 10\n"
          ]
        }
      ]
    },
    {
      "cell_type": "markdown",
      "source": [
        "# **Python End of Statements **\n",
        "When you want to end a statement in python, you do not need to add a special character to specify the end."
      ],
      "metadata": {
        "id": "14qHURAWYAUk"
      }
    },
    {
      "cell_type": "code",
      "source": [
        "a=10\n",
        "b=20\n",
        "sum = a + b\n",
        "print(\"a=\",a)\n",
        "print(\"b=\",b)\n",
        "print(\"sum=\",sum)"
      ],
      "metadata": {
        "colab": {
          "base_uri": "https://localhost:8080/"
        },
        "id": "AHKwiwdiYAa7",
        "outputId": "3df73259-9dbf-4403-ccd2-c827b6346c9f"
      },
      "execution_count": 4,
      "outputs": [
        {
          "output_type": "stream",
          "name": "stdout",
          "text": [
            "a= 10\n",
            "b= 20\n",
            "sum= 30\n"
          ]
        }
      ]
    },
    {
      "cell_type": "markdown",
      "source": [
        "# **Multi-Line Statements in Python**\n",
        "Now that we have gone through how ending a line works, what do you do when you have to work with code that is too large to fit in one line or print statements that are too big to fit in one line.\n",
        "\n",
        "Generally, to enhance readability, you limit the length of any single line of code to 79 characters. So let us look at how to deal with lines of codes that have more than 79 characters.\n",
        "\n",
        "To split a line of code and state that the next line is not a new line, you use a backslash."
      ],
      "metadata": {
        "id": "Myp9bp4JYAhU"
      }
    },
    {
      "cell_type": "code",
      "source": [
        "a=10\n",
        "b=20\n",
        "c=30\n",
        "sum=a+\\\n",
        "     b+\\\n",
        "     c\n",
        "print(\"a=\",a)\n",
        "print(\"b=\",b)\n",
        "print(\"c=\",c)\n",
        "print(\"sum=\",sum)"
      ],
      "metadata": {
        "colab": {
          "base_uri": "https://localhost:8080/"
        },
        "id": "JKJGGYUxYAok",
        "outputId": "ab78500c-b52b-47d1-f04a-213e44532264"
      },
      "execution_count": 5,
      "outputs": [
        {
          "output_type": "stream",
          "name": "stdout",
          "text": [
            "a= 10\n",
            "b= 20\n",
            "c= 30\n",
            "sum= 60\n"
          ]
        }
      ]
    },
    {
      "cell_type": "markdown",
      "source": [
        "# **Quotation in Python**\n",
        "Quotations in python help distinguish between a word, a sentence, and a paragraph.\n",
        "\n",
        "Example of Quotations in python\n",
        "\n",
        "word = ‘PythonGeeks’\n",
        "\n",
        "sentence = “Welcome to PythonGeeks”\n",
        "\n",
        "paragraph = “‘Welcome to PythonGeeks, You are learning Python Syntax”‘\n",
        "\n",
        "When you are defining a word or want to print a word using print statements, you define them by single quotations ‘ ‘\n",
        "\n",
        "When defining a sentence, you use double quotes to define a sentence “ “.\n",
        "\n",
        "And when defining a paragraph, you use triple quotes to do so as shown in the example above.\n",
        "\n",
        "**Blank Lines in Python**\n",
        "Python interpreters ignore any blank lines that you have left.\n",
        "\n",
        "**Comments in Python**\n",
        "When you’re coding in python, comments help explain the line of code. It provides insight into what the program is about and how it works."
      ],
      "metadata": {
        "id": "1566fndjYAvs"
      }
    },
    {
      "cell_type": "code",
      "source": [
        "word=’PythonGeeks’  #This is a word\n",
        "\n",
        "sentence=”Welcome to PythonGeeks”  #This is a sentence\n",
        "\n",
        "paragraph=”‘Welcome to PythonGeeks, You are learning Python Syntax”‘ #This is a paragraph"
      ],
      "metadata": {
        "id": "dRK28F7iYA1c"
      },
      "execution_count": null,
      "outputs": []
    },
    {
      "cell_type": "markdown",
      "source": [
        "# **Multiple Statements in a Single Line in Python**\n",
        "When you want to write multiple statements in a single line you use semicolons(;)."
      ],
      "metadata": {
        "id": "AMmLy3WqYA7c"
      }
    },
    {
      "cell_type": "code",
      "source": [
        "a=10;b=20;c=30\n",
        "sum=a+b+c\n",
        "print(\"a=\",a);print(\"b=\",b);print(\"c=\",c);print(\"sum=\",sum)"
      ],
      "metadata": {
        "colab": {
          "base_uri": "https://localhost:8080/"
        },
        "id": "9jj0UPBgYBIM",
        "outputId": "03514f12-a4a7-4a83-f434-de760bea2d28"
      },
      "execution_count": 6,
      "outputs": [
        {
          "output_type": "stream",
          "name": "stdout",
          "text": [
            "a= 10\n",
            "b= 20\n",
            "c= 30\n",
            "sum= 60\n"
          ]
        }
      ]
    },
    {
      "cell_type": "markdown",
      "source": [
        "# **Variables in Python**\n",
        "When you want to store values in a memory location in python, you use python variables. In python, you do not have to define the variable based on the data type, the python interpreter does it on its own. The interpreter also decides where to allocate the memory based on the data type."
      ],
      "metadata": {
        "id": "DHTrLmvtYBPV"
      }
    },
    {
      "cell_type": "code",
      "source": [
        "a=20\n",
        "b=1.2\n",
        "c=\"PythonGeeks\"\n",
        "d= True\n",
        "print(\"The datatype of a is\",type(a))\n",
        "print(\"The datatype of b is\",type(b))\n",
        "print(\"The datatype of c is\",type(c))\n",
        "print(\"The datatype of d is\",type(d))"
      ],
      "metadata": {
        "colab": {
          "base_uri": "https://localhost:8080/"
        },
        "id": "cUR7QbgmYBVc",
        "outputId": "d2f56c27-c88e-4848-88ff-035a26f63838"
      },
      "execution_count": 7,
      "outputs": [
        {
          "output_type": "stream",
          "name": "stdout",
          "text": [
            "The datatype of a is <class 'int'>\n",
            "The datatype of b is <class 'float'>\n",
            "The datatype of c is <class 'str'>\n",
            "The datatype of d is <class 'bool'>\n"
          ]
        }
      ]
    },
    {
      "cell_type": "markdown",
      "source": [
        "# **String Formatting in Python**\n",
        "1. Format Method in Python\n",
        "The format method in python lets you print statements with identifier values of your choice. Whereas each point you would want the value printed you put 0,1,2,.. in curly braces.\n",
        "\n"
      ],
      "metadata": {
        "id": "lx7Vay_8YBbl"
      }
    },
    {
      "cell_type": "code",
      "source": [
        "a=10\n",
        "b=20\n",
        "sum=a+b\n",
        "print(\"the sum of {0} and {1} is {2}\".format(a,b,sum))"
      ],
      "metadata": {
        "id": "EIUXnjUwYBjL"
      },
      "execution_count": null,
      "outputs": []
    },
    {
      "cell_type": "markdown",
      "source": [
        "# **F-strings in Python**\n",
        "It can be used for print statements as well."
      ],
      "metadata": {
        "id": "kCy_isSTYBu8"
      }
    },
    {
      "cell_type": "code",
      "source": [
        "a=10;b=20;sum=10+20\n",
        "print(f\"the sum of {a} and {b} is {sum}\")"
      ],
      "metadata": {
        "colab": {
          "base_uri": "https://localhost:8080/"
        },
        "id": "bTfxs1aYYB3E",
        "outputId": "7716b42d-ac0c-4d5b-8390-51b04e7dcf07"
      },
      "execution_count": 8,
      "outputs": [
        {
          "output_type": "stream",
          "name": "stdout",
          "text": [
            "the sum of 10 and 20 is 30\n"
          ]
        }
      ]
    },
    {
      "cell_type": "markdown",
      "source": [
        "# **% Operator in Python**\n",
        "It allows you to specify where you would like the values of identifiers to be printed."
      ],
      "metadata": {
        "id": "jK3c_VExZZqY"
      }
    },
    {
      "cell_type": "code",
      "source": [
        "a=10\n",
        "b=20\n",
        "sum=a+b\n",
        "print(\"the sum of %s and %s is %s\"% (a,b,sum))"
      ],
      "metadata": {
        "id": "SPzFGDd4ZZyR"
      },
      "execution_count": null,
      "outputs": []
    },
    {
      "cell_type": "markdown",
      "source": [
        "# **Multiple Statement Groups as Suites in Python**\n",
        "In Python, individual statements grouped together make a single code block. These are called suites. To create a suite for cases like if, while, def, and class statements, we require a header line and a suite."
      ],
      "metadata": {
        "id": "Is9UmWpTZZ5K"
      }
    },
    {
      "cell_type": "code",
      "source": [
        "num=int(input(\"enter a number\"))\n",
        "sum=0\n",
        "for i in range(0, num):\n",
        "    sum=sum+i\n",
        "print(\"the sum is\",sum)\n",
        "if sum>20:\n",
        "    print(\"the sum is greater than 20\")\n",
        "elif sum<20:\n",
        "    print(\"the sum is less than 20\")\n",
        "else:\n",
        "    print(\"the sum is equal to 20\")"
      ],
      "metadata": {
        "colab": {
          "base_uri": "https://localhost:8080/"
        },
        "id": "gQnibyiBZZ_A",
        "outputId": "57d4619e-688c-4cd2-cb1e-c2b0f3ca5aad"
      },
      "execution_count": 9,
      "outputs": [
        {
          "output_type": "stream",
          "name": "stdout",
          "text": [
            "enter a number5\n",
            "the sum is 10\n",
            "the sum is less than 20\n"
          ]
        }
      ]
    },
    {
      "cell_type": "markdown",
      "source": [
        "# **Python wait time**\n",
        "When you want to print statements after a certain time, you use the wait time function in Python."
      ],
      "metadata": {
        "id": "0J-aNdOJZaGb"
      }
    },
    {
      "cell_type": "code",
      "source": [
        "import time\n",
        "print('Hello, Welcome to PythonGeeks')\n",
        "print('the next message will be printed in 3 seconds')\n",
        "time.sleep(3)\n",
        "print('\\n\\nSleep time was 3 seconds')"
      ],
      "metadata": {
        "colab": {
          "base_uri": "https://localhost:8080/"
        },
        "id": "-52MQUchZaMw",
        "outputId": "9dff03f0-db6f-4cf6-a62f-d22ea6534759"
      },
      "execution_count": 11,
      "outputs": [
        {
          "output_type": "stream",
          "name": "stdout",
          "text": [
            "Hello, Welcome to PythonGeeks\n",
            "the next message will be printed in 3 seconds\n",
            "\n",
            "\n",
            "Sleep time was 3 seconds\n"
          ]
        }
      ]
    },
    {
      "cell_type": "markdown",
      "source": [
        "# **Python is case-sensitive.\n",
        "This includes variable names, function names, and pretty much anything else you can think of. A variable name of myvariable is not the same as MyVariable, and the function spss.GetVariableCount cannot be written as SPSS.getvariablecount.**\n",
        "\n",
        "Python uses UNIX-style path specifications, with forward slashes. This applies even for IBM SPSS Statistics command syntax generated within a Python program block. For example:\n",
        "\n",
        "There is no command terminator in Python, and continuation lines come in two flavors:\n",
        "\n",
        "**Implicit.** Expressions enclosed in parentheses, square brackets, or curly braces can continue across multiple lines without any continuation character. The expression continues implicitly until the closing character for the expression.\n",
        "\n",
        "## Explicit. All other expression require a backslash at the end of each line to explicitly denote continuation."
      ],
      "metadata": {
        "id": "vRbX7XmYZaTQ"
      }
    }
  ]
}
