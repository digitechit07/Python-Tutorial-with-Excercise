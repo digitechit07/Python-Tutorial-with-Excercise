{
  "nbformat": 4,
  "nbformat_minor": 0,
  "metadata": {
    "colab": {
      "provenance": [],
      "authorship_tag": "ABX9TyN757nJab2a1g1cPKk9nF6u",
      "include_colab_link": true
    },
    "kernelspec": {
      "name": "python3",
      "display_name": "Python 3"
    },
    "language_info": {
      "name": "python"
    }
  },
  "cells": [
    {
      "cell_type": "markdown",
      "metadata": {
        "id": "view-in-github",
        "colab_type": "text"
      },
      "source": [
        "<a href=\"https://colab.research.google.com/github/digitechit07/Python-Tutorial-with-Excercise/blob/main/Python_Syntax_6.ipynb\" target=\"_parent\"><img src=\"https://colab.research.google.com/assets/colab-badge.svg\" alt=\"Open In Colab\"/></a>"
      ]
    },
    {
      "cell_type": "markdown",
      "source": [
        "# **Python Syntax Basics**\n",
        "Python stands out in the world of programming languages for its emphasis on simplicity, readability, and ease of use. Designed by Guido van Rossum and first released in 1991, Python’s design philosophy centers around code readability and the use of significant whitespace. This focus makes Python an ideal language for beginners, yet powerful enough for complex applications in web development, data analysis, artificial intelligence, scientific computing, and more."
      ],
      "metadata": {
        "id": "pdPVFknLPxBn"
      }
    },
    {
      "cell_type": "code",
      "execution_count": null,
      "metadata": {
        "id": "BFqLyMWMPhrb"
      },
      "outputs": [],
      "source": [
        "print(\"Hello, Python world!\")"
      ]
    },
    {
      "cell_type": "markdown",
      "source": [
        "# **Why Python’s Syntax Appeals to Beginners**\n",
        "One of the key features that make Python exceptionally beginner-friendly is its syntax. Python’s syntax is designed to be intuitive and mirrors the English language, which reduces the learning curve for new programmers. Here are a few characteristics that highlight its simplicity:\n",
        "\n",
        "**No semicolons:** In many programming languages, semicolons are used to mark the end of a statement. Python does not require this, making the code less cluttered and easier to read.\n",
        "Indentation: Python uses indentation to define blocks of code. This not only makes the code visually cleaner but also enforces a uniform coding style that enhances readability.\n",
        "\n",
        "**Minimalistic structure:** Python aims to achieve more with fewer lines of code. This not only makes Python efficient but also allows new programmers to execute complex functionalities without getting bogged down in the details."
      ],
      "metadata": {
        "id": "pLg0PDiVP19H"
      }
    },
    {
      "cell_type": "code",
      "source": [],
      "metadata": {
        "id": "gv5XY4MdQFbv"
      },
      "execution_count": null,
      "outputs": []
    },
    {
      "cell_type": "markdown",
      "source": [
        "# **Comments:** Python allows programmers to include comments in their code. Comments are lines that are not executed and are used to provide explanations or annotations. Single-line comments start with the hash character (#), while multi-line comments can be created by enclosing text in triple quotes (\"\"\" or ''')."
      ],
      "metadata": {
        "id": "J2ddBxcPQFkG"
      }
    },
    {
      "cell_type": "code",
      "source": [
        "# This is a single-line comment\n",
        "print(\"Hello, World!\")  # This is also a comment, following code\n",
        "\n",
        "\"\"\"\n",
        "This is a multi-line comment.\n",
        "It spans multiple lines.\n",
        "\"\"\""
      ],
      "metadata": {
        "id": "h4lvelLSQHOO"
      },
      "execution_count": null,
      "outputs": []
    },
    {
      "cell_type": "markdown",
      "source": [
        "# **Variables and Assignment:**\n",
        "Variables in Python are created by simply assigning a value to a variable name. Python’s dynamic typing means you don’t need to declare a variable’s type explicitly. The type is inferred from the value it is assigned."
      ],
      "metadata": {
        "id": "goJo32p-QHV_"
      }
    },
    {
      "cell_type": "code",
      "source": [
        "my_int = 10\n",
        "my_float = 20.5\n",
        "my_string = \"Python is amazing!\""
      ],
      "metadata": {
        "id": "hWVaIvzkQHce"
      },
      "execution_count": null,
      "outputs": []
    },
    {
      "cell_type": "markdown",
      "source": [
        "# **The Importance of Whitespace**\n",
        "One of the distinctive features of Python is its use of whitespace to define code blocks. Where other languages use braces ({}) or keywords, Python uses indentation levels to define loops, functions, conditionals, and other constructs. This not only contributes to Python's readability but also encourages a consistent coding style across projects."
      ],
      "metadata": {
        "id": "K8AHbjzZQHjW"
      }
    },
    {
      "cell_type": "code",
      "source": [
        "if True:\n",
        "    print(\"This is true.\")\n",
        "else:\n",
        "    print(\"This is not true.\")"
      ],
      "metadata": {
        "id": "njP0kvoIQHp4"
      },
      "execution_count": null,
      "outputs": []
    },
    {
      "cell_type": "markdown",
      "source": [
        "# **Creating and Using Variables**\n",
        "Creating a variable in Python is simple. You assign a value to a variable name, and Python does the rest. Here’s how you can create variables of different data types:"
      ],
      "metadata": {
        "id": "Us_fbUI2QHyG"
      }
    },
    {
      "cell_type": "code",
      "source": [
        "my_int = 7\n",
        "my_float = 7.0\n",
        "my_string = \"Seven\""
      ],
      "metadata": {
        "id": "wR4p9qlGQH4Q"
      },
      "execution_count": null,
      "outputs": []
    },
    {
      "cell_type": "markdown",
      "source": [
        "# **Data Types in Python**\n",
        "Python has a variety of data types, including:\n",
        "\n",
        "**Integers (int):** Whole numbers, positive or negative, without decimals, of unlimited length. Example: 42, -99.\n",
        "\n",
        "**Floating-point numbers (float):** Numbers with a decimal point or in exponential form. Example: 3.14, -0.001, 2e2.\n",
        "\n",
        "**Strings (str):** Sequences of characters enclosed in single quotes ('...') or double quotes (\"...\"). Example: 'hello', \"world\".\n",
        "\n",
        "**Booleans (bool):** Represents one of two values: True or False. Booleans are often used in conditional statements.\n",
        "\n",
        "# **Strings**\n",
        "Strings in Python are quite versatile. You can concatenate them (stick them together) using the + operator, and repeat them using the * operator:"
      ],
      "metadata": {
        "id": "wQe-lo_TQH_e"
      }
    },
    {
      "cell_type": "code",
      "source": [
        "# Concatenation\n",
        "greeting = \"Hello\"\n",
        "name = \"Alice\"\n",
        "full_greeting = greeting + \", \" + name + \"!\"\n",
        "print(full_greeting)  # Output: Hello, Alice!\n",
        "\n",
        "# Repetition\n",
        "laugh = \"Ha\"\n",
        "print(laugh * 3)  # Output: HaHaHa"
      ],
      "metadata": {
        "id": "MUh1lkZyQIF3"
      },
      "execution_count": null,
      "outputs": []
    },
    {
      "cell_type": "markdown",
      "source": [
        "# **Mutable and Immutable Data Types**\n",
        "A key concept in Python is the distinction between mutable and immutable data types. Immutable types cannot be changed after they are created. For example, strings and numbers are immutable. This means that if you try to alter a string, Python will create a new string rather than modify the original one.\n",
        "\n",
        "Mutable types, such as lists and dictionaries (which will be covered later in more detail), can be changed after they are created. This allows for more flexible manipulation of these data structures.\n",
        "\n",
        "# **Dynamic Typing**\n",
        "Python is dynamically typed, which means the type of a variable is allowed to change over its lifetime. For instance:"
      ],
      "metadata": {
        "id": "cB19EuGuQIM_"
      }
    },
    {
      "cell_type": "code",
      "source": [
        "my_var = 42      # Initially an integer\n",
        "my_var = \"Hello\" # Now a string"
      ],
      "metadata": {
        "id": "KfK72kZ6QITW"
      },
      "execution_count": null,
      "outputs": []
    },
    {
      "cell_type": "markdown",
      "source": [
        "# **Control Structures**\n",
        "Control structures guide the flow of your code, allowing for more complex behaviors and logic. Python provides several control structures, including conditional statements and loops, which are both flexible and easy to understand. Here we will explore these fundamental elements, providing clear examples to show their use.\n",
        "\n",
        "**If Statements**\n",
        "The if statement is one of the most well-known control structures in programming. It allows you to execute a block of code only if a certain condition is true. Python's syntax for conditional statements is straightforward and readable:"
      ],
      "metadata": {
        "id": "wa9VmM0UQIZu"
      }
    },
    {
      "cell_type": "code",
      "source": [
        "age = 18\n",
        "if age >= 18:\n",
        "    print(\"You are an adult.\")\n",
        "elif age >= 13:\n",
        "    print(\"You are a teenager.\")\n",
        "else:\n",
        "    print(\"You are a child.\")"
      ],
      "metadata": {
        "id": "sqMxqeV9QIf2"
      },
      "execution_count": null,
      "outputs": []
    },
    {
      "cell_type": "markdown",
      "source": [
        "# **For Loops**\n",
        "A for loop in Python iterates over a sequence (such as a list, tuple, dictionary, set, or string) and executes a block of code for each item in the sequence. This is particularly useful for tasks that require an action to be repeated for each element of a collection:"
      ],
      "metadata": {
        "id": "Hn4yNwo3QIlu"
      }
    },
    {
      "cell_type": "code",
      "source": [
        "fruits = [\"apple\", \"banana\", \"cherry\"]\n",
        "for fruit in fruits:\n",
        "    print(f\"I like {fruit}.\")"
      ],
      "metadata": {
        "id": "UTuBO7vGT85E"
      },
      "execution_count": null,
      "outputs": []
    },
    {
      "cell_type": "markdown",
      "source": [
        "# **While Loops**\n",
        "The while loop repeats a block of code as long as a certain condition is true. It's useful for when you need to loop but you don't know in advance how many times you'll need to do so:"
      ],
      "metadata": {
        "id": "Tx5jB07pQIsO"
      }
    },
    {
      "cell_type": "code",
      "source": [
        "count = 1\n",
        "while count <= 5:\n",
        "    print(f\"Count is {count}\")\n",
        "    count += 1"
      ],
      "metadata": {
        "id": "BBWCKSMuT_gb"
      },
      "execution_count": null,
      "outputs": []
    },
    {
      "cell_type": "markdown",
      "source": [
        "# **Break and Continue**\n",
        "In both for and while loops, you can control the flow of the loop with break and continue statements:\n",
        "\n",
        "**break** terminates the loop entirely and proceeds to the first statement following the loop.\n",
        "\n",
        "**continue** skips the rest of the code inside the loop for the current iteration and moves to the next iteration of the loop."
      ],
      "metadata": {
        "id": "GnxeFF97QI3e"
      }
    },
    {
      "cell_type": "code",
      "source": [
        "for num in range(1, 10):\n",
        "    if num == 5:\n",
        "        break  # Stop the loop when num is 5\n",
        "    if num % 2 == 0:\n",
        "        continue  # Skip even numbers\n",
        "    print(num)"
      ],
      "metadata": {
        "id": "5koYNkQOUJHc"
      },
      "execution_count": null,
      "outputs": []
    },
    {
      "cell_type": "markdown",
      "source": [
        "# **Looping With range()**\n",
        "The range() function generates a sequence of numbers, which is often used for looping a specific number of times in for loops:"
      ],
      "metadata": {
        "id": "_Z-9kDdTUKxL"
      }
    },
    {
      "cell_type": "code",
      "source": [
        "for i in range(5):  # Generates numbers from 0 to 4\n",
        "    print(i)"
      ],
      "metadata": {
        "id": "TcoP4jFlUK5M"
      },
      "execution_count": null,
      "outputs": []
    },
    {
      "cell_type": "code",
      "source": [],
      "metadata": {
        "id": "Zwa4Ox9hULnr"
      },
      "execution_count": null,
      "outputs": []
    }
  ]
}
