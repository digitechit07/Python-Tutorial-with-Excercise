{
  "nbformat": 4,
  "nbformat_minor": 0,
  "metadata": {
    "colab": {
      "provenance": [],
      "authorship_tag": "ABX9TyO31xER9rRDquEAnI6/CqJa",
      "include_colab_link": true
    },
    "kernelspec": {
      "name": "python3",
      "display_name": "Python 3"
    },
    "language_info": {
      "name": "python"
    }
  },
  "cells": [
    {
      "cell_type": "markdown",
      "metadata": {
        "id": "view-in-github",
        "colab_type": "text"
      },
      "source": [
        "<a href=\"https://colab.research.google.com/github/digitechit07/Python-Tutorial-with-Excercise/blob/main/Python_Syntax_1.ipynb\" target=\"_parent\"><img src=\"https://colab.research.google.com/assets/colab-badge.svg\" alt=\"Open In Colab\"/></a>"
      ]
    },
    {
      "cell_type": "markdown",
      "source": [
        "# **Python Syntax**\n",
        "\n",
        "Python syntax is like grammar for this programming language. Syntax refers to the set of rules that defines how to write and organize code so that the Python interpreter can understand and run it correctly. These rules ensure that your code is structured, formatted, and error-free."
      ],
      "metadata": {
        "id": "Qxjh9ieYO8QU"
      }
    },
    {
      "cell_type": "markdown",
      "source": [
        "# **Indentation in Python**\n",
        "Python Indentation refers to the use of whitespace (spaces or tabs) at the beginning of code line. It is used to define the code blocks. Indentation is crucial in Python because, unlike many other programming languages that use braces \"{}\" to define blocks, Python uses indentation. It improves the readability of Python code, but on other hand it became difficult to rectify indentation errors. Even one extra or less space can leads to indentation error."
      ],
      "metadata": {
        "id": "wOVsh7NRPC6l"
      }
    },
    {
      "cell_type": "code",
      "execution_count": 1,
      "metadata": {
        "colab": {
          "base_uri": "https://localhost:8080/"
        },
        "id": "DOGBiMdPKSwS",
        "outputId": "8d4572b1-c061-4300-c621-5c4b6d587ed5"
      },
      "outputs": [
        {
          "output_type": "stream",
          "name": "stdout",
          "text": [
            "This is true!\n",
            "I am tab indentation\n",
            "I have no indentation\n"
          ]
        }
      ],
      "source": [
        "if 10 > 5:\n",
        "    print(\"This is true!\")\n",
        "    print(\"I am tab indentation\")\n",
        "\n",
        "print(\"I have no indentation\")"
      ]
    },
    {
      "cell_type": "markdown",
      "source": [
        "# **Python Variables**\n",
        "Variables in Python are essentially named references pointing to objects in memory. Unlike some other languages, you don't need to declare a variable's type explicitly in Python. Based on the value assigned, Python will dynamically determine the type."
      ],
      "metadata": {
        "id": "flbMD0MgPKUV"
      }
    },
    {
      "cell_type": "code",
      "source": [
        "a = 10\n",
        "print(type(a))\n",
        "\n",
        "b = 'Testing Variable type'\n",
        "print(type(b))"
      ],
      "metadata": {
        "colab": {
          "base_uri": "https://localhost:8080/"
        },
        "id": "Xy8R5glFO51u",
        "outputId": "e52fa043-9e0b-493f-c097-aa4554f2c5b7"
      },
      "execution_count": 2,
      "outputs": [
        {
          "output_type": "stream",
          "name": "stdout",
          "text": [
            "<class 'int'>\n",
            "<class 'str'>\n"
          ]
        }
      ]
    },
    {
      "cell_type": "markdown",
      "source": [
        "# **Python Identifiers**\n",
        "In Python, identifiers are unique names that are assigned to variables, functions, classes, and other entities. They are used to uniquely identify the entity within the program. They should start with a letter (a-z, A-Z) or an underscore \"_\" and can be followed by letters, numbers, or underscores.\n",
        "For naming of an identifier we have to follows some rules given below:\n",
        "\n",
        "Identifiers can be composed of alphabets (either uppercase or lowercase), numbers (0-9), and the underscore character (_). They shouldn't include any special characters or spaces.\n",
        "\n",
        "The starting character of an identifier must be an alphabet or an underscore.\n",
        "\n",
        "Within a specific scope or namespace, each identifier should have a distinct name to avoid conflicts. However, different scopes can have identifiers with the same name without interference."
      ],
      "metadata": {
        "id": "BqgB-QvOPUNc"
      }
    },
    {
      "cell_type": "markdown",
      "source": [
        "# **Python keywords**\n",
        "Keywords in Python are reserved words that have special meanings and serve specific purposes in the language syntax. They cannot be used as identifiers (names for variables, functions, classes, etc."
      ],
      "metadata": {
        "id": "SobGCJLzPdZF"
      }
    },
    {
      "cell_type": "markdown",
      "source": [
        "# **Comments in Python**\n",
        "Comments in Python are statements written within the code. They are meant to explain, clarify, or give context about specific parts of the code. The purpose of comments is to explain the working of a code, they have no impact on the execution or outcome of a program."
      ],
      "metadata": {
        "id": "9OIrp3lDPgtV"
      }
    },
    {
      "cell_type": "markdown",
      "source": [
        "# **Python Single Line Comment**\n",
        "Single line comments are preceded by the \"#\" symbol. Everything after this symbol on the same line is considered a comment."
      ],
      "metadata": {
        "id": "Kt24MymOPkXl"
      }
    },
    {
      "cell_type": "code",
      "source": [
        "first_name = \"Reddy\"\n",
        "last_name = \"Anna\"  # assign last name\n",
        "\n",
        "# print full name\n",
        "print(first_name, last_name)"
      ],
      "metadata": {
        "colab": {
          "base_uri": "https://localhost:8080/"
        },
        "id": "vn3TyMEiPnMV",
        "outputId": "def6b72e-8c34-4ee8-e9bd-888a789b26ce"
      },
      "execution_count": 3,
      "outputs": [
        {
          "output_type": "stream",
          "name": "stdout",
          "text": [
            "Reddy Anna\n"
          ]
        }
      ]
    },
    {
      "cell_type": "markdown",
      "source": [
        "# **Python Multi-line Comment**\n",
        "Python doesn't have a specific syntax for multi-line comments. However, programmers often use multiple single-line comments, one after the other, or sometimes triple quotes (either ''' or \"\"\"), even though they're technically string literals. Below is the example of multiline comment."
      ],
      "metadata": {
        "id": "GMgKaInhPp8k"
      }
    },
    {
      "cell_type": "code",
      "source": [
        "'''\n",
        "Multi Line comment.\n",
        "Code will print name.\n",
        "'''\n",
        "\n",
        "f_name = \"Alen\"\n",
        "print(f_name)"
      ],
      "metadata": {
        "colab": {
          "base_uri": "https://localhost:8080/"
        },
        "id": "c6TCgznuPrC2",
        "outputId": "a1a0766d-8d97-42aa-c270-8e86efb74134"
      },
      "execution_count": 4,
      "outputs": [
        {
          "output_type": "stream",
          "name": "stdout",
          "text": [
            "Alen\n"
          ]
        }
      ]
    },
    {
      "cell_type": "markdown",
      "source": [
        "# **Multiple Line Statements**\n",
        "Writing a long statement in a code is not feasible or readable. Breaking a long line of code into multiple lines makes is more readable.\n",
        "\n",
        "# **Using Backslashes (\\)**\n",
        "In Python, you can break a statement into multiple lines using the backslash (\\). This method is useful, especially when we are working with strings or mathematical operations."
      ],
      "metadata": {
        "id": "1QRs9aM3PvX9"
      }
    },
    {
      "cell_type": "code",
      "source": [
        "sentence = \"This is a very long sentence that we want to \" \\\n",
        "           \"split over multiple lines for better readability.\"\n",
        "\n",
        "print(sentence)\n",
        "\n",
        "# For mathematical operations\n",
        "total = 1 + 2 + 3 + \\\n",
        "        4 + 5 + 6 + \\\n",
        "        7 + 8 + 9\n",
        "\n",
        "print(total)"
      ],
      "metadata": {
        "colab": {
          "base_uri": "https://localhost:8080/"
        },
        "id": "G_PMsEGIPxQ9",
        "outputId": "d21cb6ef-fdb7-49cc-acad-d926fb174704"
      },
      "execution_count": 5,
      "outputs": [
        {
          "output_type": "stream",
          "name": "stdout",
          "text": [
            "This is a very long sentence that we want to split over multiple lines for better readability.\n",
            "45\n"
          ]
        }
      ]
    },
    {
      "cell_type": "markdown",
      "source": [
        "# **Continuation of Statements in Python**\n",
        "In Python, statements are typically written on a single line. However, there are scenarios where writing a statement on multiple lines can improve readability or is required due to the length of the statement. This continuation of statements over multiple lines is supported in Python in various ways:\n",
        "\n",
        "# **Implicit Continuation**\n",
        "Python implicitly supports line continuation within parentheses (), square brackets [], and curly braces {}. This is often used in defining multi-line lists, tuples, dictionaries, or function arguments."
      ],
      "metadata": {
        "id": "hAJFPmtNP2RM"
      }
    },
    {
      "cell_type": "code",
      "source": [
        "# Line continuation within square brackets '[]'\n",
        "numbers = [\n",
        "    1, 2, 3,\n",
        "    4, 5, 6,\n",
        "    7, 8, 9\n",
        "]\n",
        "\n",
        "print(numbers)"
      ],
      "metadata": {
        "colab": {
          "base_uri": "https://localhost:8080/"
        },
        "id": "a-kmxfppP4nd",
        "outputId": "ad99227e-3c6c-4bd2-e822-5dd94b9f6890"
      },
      "execution_count": 6,
      "outputs": [
        {
          "output_type": "stream",
          "name": "stdout",
          "text": [
            "[1, 2, 3, 4, 5, 6, 7, 8, 9]\n"
          ]
        }
      ]
    },
    {
      "cell_type": "markdown",
      "source": [
        "# **Explicit Continuation**\n",
        "You can use backslash '\\' to indicate that a statement should continue on the next line."
      ],
      "metadata": {
        "id": "7GManhFLP7PN"
      }
    },
    {
      "cell_type": "code",
      "source": [
        "# Explicit continuation\n",
        "s = \"GFG is computer science portal \" \\\n",
        "    \"by Geeks, used by Geeks.\"\n",
        "\n",
        "print(s)"
      ],
      "metadata": {
        "colab": {
          "base_uri": "https://localhost:8080/"
        },
        "id": "lKgQYHIlP-I-",
        "outputId": "5e09669c-ef8b-4043-e5b9-6d2979220b05"
      },
      "execution_count": 7,
      "outputs": [
        {
          "output_type": "stream",
          "name": "stdout",
          "text": [
            "GFG is computer science portal by Geeks, used by Geeks.\n"
          ]
        }
      ]
    },
    {
      "cell_type": "markdown",
      "source": [
        "# **Taking Input from User in Python**\n",
        "The input() function in Python is used to take user input from the console. The program execution halts until the user provides input and presses \"Enter\". The entered data is then returned as a string. We can also provide an optional prompt as an argument to guide the user on what to input."
      ],
      "metadata": {
        "id": "95UUDfP6QI3V"
      }
    },
    {
      "cell_type": "code",
      "source": [
        "# Taking input from the user\n",
        "name = input(\"Please enter your name: \")\n",
        "\n",
        "# Print the input\n",
        "print(f\"Hello,\" + name)"
      ],
      "metadata": {
        "colab": {
          "base_uri": "https://localhost:8080/"
        },
        "id": "LYwSILkRQLQl",
        "outputId": "7872459a-163a-4e42-f12d-da5e1d24295c"
      },
      "execution_count": 8,
      "outputs": [
        {
          "output_type": "stream",
          "name": "stdout",
          "text": [
            "Please enter your name: Zahid\n",
            "Hello,Zahid\n"
          ]
        }
      ]
    }
  ]
}
