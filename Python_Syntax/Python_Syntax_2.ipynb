{
  "nbformat": 4,
  "nbformat_minor": 0,
  "metadata": {
    "colab": {
      "provenance": [],
      "authorship_tag": "ABX9TyMM39QMns1e2YGJODP568qa",
      "include_colab_link": true
    },
    "kernelspec": {
      "name": "python3",
      "display_name": "Python 3"
    },
    "language_info": {
      "name": "python"
    }
  },
  "cells": [
    {
      "cell_type": "markdown",
      "metadata": {
        "id": "view-in-github",
        "colab_type": "text"
      },
      "source": [
        "<a href=\"https://colab.research.google.com/github/digitechit07/Python-Tutorial-with-Excercise/blob/main/Python_Syntax_2.ipynb\" target=\"_parent\"><img src=\"https://colab.research.google.com/assets/colab-badge.svg\" alt=\"Open In Colab\"/></a>"
      ]
    },
    {
      "cell_type": "code",
      "execution_count": null,
      "metadata": {
        "id": "ZSq1M2A5zbzC"
      },
      "outputs": [],
      "source": []
    },
    {
      "cell_type": "markdown",
      "source": [
        "# **Different Aspects of Python Syntax**\n",
        "This tutorial will cover the following elements of Python syntax:\n",
        "\n",
        "Indentation in Python\n",
        "\n",
        "Python Identifiers\n",
        "\n",
        "Python Variables\n",
        "\n",
        "Python Keywords\n",
        "\n",
        "Comments in Python\n",
        "\n",
        "Multiple Line Statements\n",
        "\n",
        "Quotation in Python\n",
        "\n",
        "Taking Input from the User in Python\n",
        "\n",
        "String Literals in Python\n",
        "\n",
        "Command Line Arguments"
      ],
      "metadata": {
        "id": "ikAh-I7j8Pro"
      }
    },
    {
      "cell_type": "markdown",
      "source": [
        "# **1. Indentation in Python**\n",
        "In Python, indentation means adding spaces before a line of code to show that it belongs to a specific block, like inside a loop or a function. It’s a part of the syntax in Python and is very important. Unlike other languages that use braces {} to define blocks of code, Python uses indentation, which makes the code cleaner and more readable."
      ],
      "metadata": {
        "id": "-F9ZBMPP90MY"
      }
    },
    {
      "cell_type": "code",
      "source": [
        "# Example showing correct indentation in Python\n",
        "def greet(name):\n",
        "    if name:\n",
        "        print(\"Hello,\", name)\n",
        "    else:\n",
        "        print(\"Hello, Guest!\")\n",
        "\n",
        "greet(\"Rahul\")"
      ],
      "metadata": {
        "colab": {
          "base_uri": "https://localhost:8080/"
        },
        "id": "iLPEVLjl9z1Q",
        "outputId": "805f4fa3-15b3-4152-ac8a-ede8ff44458f"
      },
      "execution_count": 7,
      "outputs": [
        {
          "output_type": "stream",
          "name": "stdout",
          "text": [
            "Hello, Rahul\n"
          ]
        }
      ]
    },
    {
      "cell_type": "markdown",
      "source": [
        "# **2. Python Identifiers**\n",
        "In Python, identifiers are the names we use for variables, functions, classes, and more. These names help us label and refer to data or code blocks. Identifiers can contain letters, digits, and underscores, but they can’t start with a digit. Also, they are case-sensitive; Name and name are different."
      ],
      "metadata": {
        "id": "PDiHf0Su97fw"
      }
    },
    {
      "cell_type": "code",
      "source": [
        "# Example of identifiers in Python\n",
        "user_name = \"Rahul\"\n",
        "age = 25\n",
        "print(user_name, age)"
      ],
      "metadata": {
        "colab": {
          "base_uri": "https://localhost:8080/"
        },
        "id": "ztqLiaGT97Ho",
        "outputId": "f03f4d79-1f3f-4e21-dad7-cb46c107af64"
      },
      "execution_count": 8,
      "outputs": [
        {
          "output_type": "stream",
          "name": "stdout",
          "text": [
            "Rahul 25\n"
          ]
        }
      ]
    },
    {
      "cell_type": "markdown",
      "source": [
        "# **Here are some rules for writing Python identifiers:**\n",
        "\n",
        "We can use letters (A–Z, a–z), digits (0–9), and underscores (_).\n",
        "\n",
        "Identifiers cannot start with a digit.\n",
        "\n",
        "Python keywords cannot be used as identifiers.\n",
        "\n",
        "Identifiers are case-sensitive (Name and name are different).\n",
        "\n",
        "Special characters like @, $, and % are not allowed."
      ],
      "metadata": {
        "id": "v29RPNJY-DQo"
      }
    },
    {
      "cell_type": "markdown",
      "source": [
        "# **3. Python Variables**\n",
        "In Python, variables are used to store data like numbers, text, or values. We don’t need to mention the type; Python figures it out based on the value we assign."
      ],
      "metadata": {
        "id": "CNEEegeH-LLA"
      }
    },
    {
      "cell_type": "code",
      "source": [
        "# Example of variables in Python\n",
        "name = \"Amit\"\n",
        "age = 20\n",
        "print(name, age)"
      ],
      "metadata": {
        "colab": {
          "base_uri": "https://localhost:8080/"
        },
        "id": "L3dF-iTo-DZf",
        "outputId": "943d6bed-5260-4b48-c462-116e639faf80"
      },
      "execution_count": 9,
      "outputs": [
        {
          "output_type": "stream",
          "name": "stdout",
          "text": [
            "Amit 20\n"
          ]
        }
      ]
    },
    {
      "cell_type": "markdown",
      "source": [
        "# **4. Python Keywords**\n",
        "Keywords in Python are unique reserved words with special meanings. We can’t use keywords as identifiers. Here is a list of Python keywords:\n",
        "\n",
        "False None  True and pass as assert async await while break class continue def raise del elif else except with finally  for from global\n",
        "return if import in  is yield  lambda nonlocal not or try"
      ],
      "metadata": {
        "id": "qG2p359Z-P5g"
      }
    },
    {
      "cell_type": "code",
      "source": [
        "# Example using Python keywords\n",
        "def check_number(num):\n",
        "    if num > 0:\n",
        "        print(\"Positive number\")\n",
        "    elif num == 0:\n",
        "        print(\"Zero\")\n",
        "    else:\n",
        "        print(\"Negative number\")\n",
        "\n",
        "check_number(-5)\n"
      ],
      "metadata": {
        "colab": {
          "base_uri": "https://localhost:8080/"
        },
        "id": "p2TsSgBl-QB4",
        "outputId": "05736e89-116e-4f53-9769-7e336f7ac454"
      },
      "execution_count": 10,
      "outputs": [
        {
          "output_type": "stream",
          "name": "stdout",
          "text": [
            "Negative number\n"
          ]
        }
      ]
    },
    {
      "cell_type": "markdown",
      "source": [
        "# **5. Comments in Python**\n",
        "Comments in Python are notes we add to our code to explain what it does. Python ignores these lines during execution, so they don’t affect the output. Comments make code easier for us and others to understand.\n",
        "\n",
        "# **Python Single Line Comments**\n",
        "Python single-line comments start with the # symbol. We use them to explain one line of code. Python ignores anything written after #.\n",
        "\n",
        "# **Python Multi-line Comment**\n",
        "In Python, multi-line comments are written using triple quotes (''' or \"\"\"). We use them to explain blocks of code or add long notes. Python ignores these lines during execution.\n"
      ],
      "metadata": {
        "id": "vbrcSLC9-rrh"
      }
    },
    {
      "cell_type": "code",
      "source": [
        "# This is a single-line comment\n",
        "name = \"Rahul\"  # Storing user's name\n",
        "print(name)  # Displaying the name\n",
        "\n",
        "# This is a single-line comment\n",
        "name = \"Rahul\"  # Storing user's name\n",
        "print(name)  # Displaying the name"
      ],
      "metadata": {
        "colab": {
          "base_uri": "https://localhost:8080/"
        },
        "id": "NY5ITHDY-ryh",
        "outputId": "a5021c2f-4e00-4954-b362-d27973868e93"
      },
      "execution_count": 12,
      "outputs": [
        {
          "output_type": "stream",
          "name": "stdout",
          "text": [
            "Rahul\n",
            "Rahul\n"
          ]
        }
      ]
    },
    {
      "cell_type": "markdown",
      "source": [
        "# **6. Multiple Line Statements**\n",
        "In Python, we use multiple line statements to break long code into smaller parts. We add a backslash (\\) or use brackets to continue the line. This keeps our code clean, readable, and easier to manage."
      ],
      "metadata": {
        "id": "XFojVT0k-8oM"
      }
    },
    {
      "cell_type": "code",
      "source": [
        "total = 10 + 20 + 30 + \\\n",
        "        40 + 50 + 60\n",
        "\n",
        "print(\"Total:\", total)"
      ],
      "metadata": {
        "colab": {
          "base_uri": "https://localhost:8080/"
        },
        "id": "izesPj6C-8ui",
        "outputId": "0153ecf0-9c68-4a8b-95e9-e7ecb1567a43"
      },
      "execution_count": 13,
      "outputs": [
        {
          "output_type": "stream",
          "name": "stdout",
          "text": [
            "Total: 210\n"
          ]
        }
      ]
    },
    {
      "cell_type": "markdown",
      "source": [
        "# **7. Quotation in Python**\n",
        "In Python, quotations are used to define string values. We can use single (' '), double (\" \"), or triple quotes (''' ''' or \"\"\" \"\"\") depending on the text and formatting needs.\n"
      ],
      "metadata": {
        "id": "VpY4eQvz_DNe"
      }
    },
    {
      "cell_type": "code",
      "source": [
        "# Example of using quotations in Python\n",
        "name = \"Ritik\"\n",
        "quote = 'Python is fun!'\n",
        "multi_line = \"\"\"This is\n",
        "a multi-line\n",
        "string.\"\"\"\n",
        "\n",
        "print(name)\n",
        "print(quote)\n",
        "print(multi_line)"
      ],
      "metadata": {
        "colab": {
          "base_uri": "https://localhost:8080/"
        },
        "id": "fI6svGnb_DUe",
        "outputId": "b3f464f5-d121-49d0-9388-ecd1225d43bf"
      },
      "execution_count": 14,
      "outputs": [
        {
          "output_type": "stream",
          "name": "stdout",
          "text": [
            "Ritik\n",
            "Python is fun!\n",
            "This is\n",
            "a multi-line\n",
            "string.\n"
          ]
        }
      ]
    },
    {
      "cell_type": "markdown",
      "source": [
        "# **8. Taking Input from the User in Python **\n",
        "In Python, we take input from the user using the input() function. It pauses the program and waits for the user to type something. The input is always taken as a string."
      ],
      "metadata": {
        "id": "v5D3lYTy_LHG"
      }
    },
    {
      "cell_type": "code",
      "source": [
        "# Example: Taking user input in Python\n",
        "name = input(\"Enter your name: \")\n",
        "age = int(input(\"Enter your age: \"))\n",
        "\n",
        "print(\"Hello\", name)\n",
        "print(\"You are\", age, \"years old\")"
      ],
      "metadata": {
        "colab": {
          "base_uri": "https://localhost:8080/"
        },
        "id": "JJRfhOd3_LN5",
        "outputId": "42137083-703d-4b30-ca9e-f12948e99c42"
      },
      "execution_count": 15,
      "outputs": [
        {
          "output_type": "stream",
          "name": "stdout",
          "text": [
            "Enter your name: Zahid\n",
            "Enter your age: 23\n",
            "Hello Zahid\n",
            "You are 23 years old\n"
          ]
        }
      ]
    },
    {
      "cell_type": "markdown",
      "source": [
        "# **9. String Literals in Python**\n",
        "Python string literals are sequences of characters that represent textual data. We enclose string literals in single quotes (‘_’), double quotes (“_”), or triple quotes (“ “ “_” ” ”).\n"
      ],
      "metadata": {
        "id": "PoAIfyiG_USS"
      }
    },
    {
      "cell_type": "code",
      "source": [
        "# Examples of string literals\n",
        "name = 'Amit'               # Single-quoted string\n",
        "greeting = \"Hello World\"    # Double-quoted string\n",
        "message = '''This is a\n",
        "multi-line string.'''       # Triple-quoted string\n",
        "\n",
        "print(name)\n",
        "print(greeting)\n",
        "print(message)"
      ],
      "metadata": {
        "colab": {
          "base_uri": "https://localhost:8080/"
        },
        "id": "OzjsOHt5_Uby",
        "outputId": "bf88c1eb-b9a2-4bd0-a38f-fcf8631cf739"
      },
      "execution_count": 16,
      "outputs": [
        {
          "output_type": "stream",
          "name": "stdout",
          "text": [
            "Amit\n",
            "Hello World\n",
            "This is a\n",
            "multi-line string.\n"
          ]
        }
      ]
    },
    {
      "cell_type": "markdown",
      "source": [
        "# **10. Command Line Arguments**\n",
        "We use command-line arguments in Python to make programs more generic. These arguments provide input to a script at runtime and appear after the program’s name in the command-line shell.\n",
        "\n",
        "By adding command-line arguments, anyone can run the script with different inputs. They can also help secure the program by passing login credentials. We can handle command-line arguments in three ways:\n",
        "\n",
        "sys.argv\n",
        "\n",
        "getopt module\n",
        "\n",
        "argparse module"
      ],
      "metadata": {
        "id": "mDAe7twr_b62"
      }
    },
    {
      "cell_type": "code",
      "source": [
        "# Example: Using sys.argv to take command-line arguments\n",
        "import sys\n",
        "\n",
        "# First argument is always the script name\n",
        "print(\"Script Name:\", sys.argv[0])\n",
        "\n",
        "# Next arguments are user inputs\n",
        "if len(sys.argv) > 2:\n",
        "    name = sys.argv[1]\n",
        "    age = sys.argv[2]\n",
        "    print(\"Hello\", name)\n",
        "    print(\"You are\", age, \"years old\")\n",
        "else:\n",
        "    print(\"Please provide name and age as arguments\")"
      ],
      "metadata": {
        "colab": {
          "base_uri": "https://localhost:8080/"
        },
        "id": "-COSsu0n_cFH",
        "outputId": "ef91f194-5efe-422e-ee64-298f40a97062"
      },
      "execution_count": 17,
      "outputs": [
        {
          "output_type": "stream",
          "name": "stdout",
          "text": [
            "Script Name: /usr/local/lib/python3.12/dist-packages/colab_kernel_launcher.py\n",
            "Hello -f\n",
            "You are /root/.local/share/jupyter/runtime/kernel-8c4d3685-5ba1-4565-ba4d-17da87c7338d.json years old\n"
          ]
        }
      ]
    },
    {
      "cell_type": "markdown",
      "source": [
        "# **Arithmetic Operations**\n",
        "Python supports different types of arithmetic operations that can be performed on literal numbers, variables, or some combination. The primary arithmetic operators are:\n",
        "\n",
        "+ for addition\n",
        "\n",
        "- for subtraction\n",
        "\n",
        "* for multiplication\n",
        "\n",
        "/ for division\n",
        "\n",
        "% for modulus (returns the remainder)\n",
        "\n",
        "** for exponentiation\n",
        "\n"
      ],
      "metadata": {
        "id": "xb1NgE918SJ_"
      }
    },
    {
      "cell_type": "code",
      "source": [
        "# Arithmetic operations\n",
        "\n",
        "result = 10 + 30\n",
        "print(result)\n",
        "result = 40 - 10\n",
        "print(result)\n",
        "result = 50 * 5\n",
        "print(result)\n",
        "result = 16 / 4\n",
        "print(result)\n",
        "result = 25 % 2\n",
        "print(result)\n",
        "result = 5 ** 3\n",
        "print(result)"
      ],
      "metadata": {
        "colab": {
          "base_uri": "https://localhost:8080/"
        },
        "id": "ITRly7pO8Rtv",
        "outputId": "407859b7-f9cc-483c-fb75-1f5c1fcca520"
      },
      "execution_count": 2,
      "outputs": [
        {
          "output_type": "stream",
          "name": "stdout",
          "text": [
            "40\n",
            "30\n",
            "250\n",
            "4.0\n",
            "1\n",
            "125\n"
          ]
        }
      ]
    },
    {
      "cell_type": "markdown",
      "source": [
        "# **Plus-Equals Operator +=**\n",
        "The plus-equals operator += provides a convenient way to add a value to an existing variable and assign the new value back to the same variable. In the case where the variable and the value are strings, this operator performs string concatenation instead of addition.\n",
        "\n",
        "The operation is performed in-place, meaning that any other variable which points to the variable being updated will also be updated."
      ],
      "metadata": {
        "id": "asyZVNRJ8SNq"
      }
    },
    {
      "cell_type": "code",
      "source": [
        "# Plus-Equal Operator\n",
        "\n",
        "counter = 0\n",
        "counter += 10\n",
        "\n",
        "# This is equivalent to\n",
        "\n",
        "counter = 0\n",
        "counter = counter + 10\n",
        "\n",
        "# The operator will also perform string concatenation\n",
        "\n",
        "message = \"Part 1 of message \"\n",
        "message += \"Part 2 of message\"\n",
        "print(message)"
      ],
      "metadata": {
        "colab": {
          "base_uri": "https://localhost:8080/"
        },
        "id": "Notu74Zg8Rwn",
        "outputId": "7eb8b32a-6e38-43f3-afb8-05328de40752"
      },
      "execution_count": 3,
      "outputs": [
        {
          "output_type": "stream",
          "name": "stdout",
          "text": [
            "Part 1 of message Part 2 of message\n"
          ]
        }
      ]
    },
    {
      "cell_type": "markdown",
      "source": [
        "# **Variables**\n",
        "A variable is used to store data that will be used by the program. This data can be a number, a string, a Boolean, a list or some other data type. Every variable has a name which can consist of letters, numbers, and the underscore character _.\n",
        "\n",
        "The equal sign = is used to assign a value to a variable. After the initial assignment is made, the value of a variable can be updated to new values as needed."
      ],
      "metadata": {
        "id": "b6CpkSwv8SQy"
      }
    },
    {
      "cell_type": "code",
      "source": [
        "# These are all valid variable names and assignment\n",
        "\n",
        "user_name = \"codey\"\n",
        "user_id = 100\n",
        "verified = False\n",
        "\n",
        "# A variable's value can be changed after assignment\n",
        "\n",
        "points = 100\n",
        "points = 120\n",
        "print(points)"
      ],
      "metadata": {
        "colab": {
          "base_uri": "https://localhost:8080/"
        },
        "id": "xo-tPJ3K8R0A",
        "outputId": "d0b97bea-f102-496f-bd62-c90a28605cfe"
      },
      "execution_count": 4,
      "outputs": [
        {
          "output_type": "stream",
          "name": "stdout",
          "text": [
            "120\n"
          ]
        }
      ]
    },
    {
      "cell_type": "markdown",
      "source": [
        "# **Modulo Operator %**\n",
        "A modulo calculation returns the remainder of a division between the first and second number. For example:\n",
        "\n",
        "The result of the expression 4 % 2 would result in the value 0, because 4 is evenly divisible by 2 leaving no remainder.\n",
        "The result of the expression 7 % 3 would return 1, because 7 is not evenly divisible by 3, leaving a remainder of 1."
      ],
      "metadata": {
        "id": "cEsBT3WQ8ST5"
      }
    },
    {
      "cell_type": "code",
      "source": [
        "# Modulo operations\n",
        "\n",
        "zero = 8 % 4\n",
        "print(zero)\n",
        "nonzero = 12 % 5\n",
        "print(nonzero)"
      ],
      "metadata": {
        "colab": {
          "base_uri": "https://localhost:8080/"
        },
        "id": "Dyb71qxB9HNY",
        "outputId": "31c81319-114b-4b5a-fc47-a2f091febcd3"
      },
      "execution_count": 6,
      "outputs": [
        {
          "output_type": "stream",
          "name": "stdout",
          "text": [
            "0\n",
            "2\n"
          ]
        }
      ]
    },
    {
      "cell_type": "markdown",
      "source": [
        "# **Errors**\n",
        "The Python interpreter will report errors present in your code. For most error cases, the interpreter will display the line of code where the error was detected and place a caret character ^ under the portion of the code where the error was detected.\n",
        "\n",
        "if False ISNOTEQUAL True:\n",
        "                  ^\n",
        "SyntaxError: invalid syntax\n",
        "\n",
        "# **ZeroDivisionError**\n",
        "A ZeroDivisionError is reported by the Python interpreter when it detects a division operation is being performed and the denominator (bottom number) is 0. In mathematics, dividing a number by zero has no defined value, so Python treats this as an error condition and will report a ZeroDivisionError and display the line of code where the division occurred. This can also happen if a variable is used as the denominator and its value has been set to or changed to 0.\n",
        "\n",
        "a = b/0\n",
        "\n",
        "# **SyntaxError**\n",
        "A SyntaxError is reported by the Python interpreter when some portion of the code is incorrect. This can include misspelled keywords, missing or too many brackets or parentheses, incorrect operators, missing or too many quotation marks, or other conditions.\n",
        "\n",
        "# **NameError**\n",
        "A NameError is reported by the Python interpreter when it detects a variable that is unknown. This can occur when a variable is used before it has been assigned a value or if a variable name is spelled differently than the point at which it was defined. The Python interpreter will display the line of code where the NameError was detected and indicate which name it found that was not defined."
      ],
      "metadata": {
        "id": "V92S5E-L8SW3"
      }
    },
    {
      "cell_type": "markdown",
      "source": [
        "# **print() Function**\n",
        "The print() function is used to output text, numbers, or other printable information to the console."
      ],
      "metadata": {
        "id": "XIQk53v_9qkw"
      }
    }
  ]
}
