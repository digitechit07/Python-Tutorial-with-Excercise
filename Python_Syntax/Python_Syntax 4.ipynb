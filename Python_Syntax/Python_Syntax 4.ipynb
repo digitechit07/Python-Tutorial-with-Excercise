{
  "nbformat": 4,
  "nbformat_minor": 0,
  "metadata": {
    "colab": {
      "provenance": [],
      "authorship_tag": "ABX9TyOgPraWZxr9oAfbPCTPiGUP",
      "include_colab_link": true
    },
    "kernelspec": {
      "name": "python3",
      "display_name": "Python 3"
    },
    "language_info": {
      "name": "python"
    }
  },
  "cells": [
    {
      "cell_type": "markdown",
      "metadata": {
        "id": "view-in-github",
        "colab_type": "text"
      },
      "source": [
        "<a href=\"https://colab.research.google.com/github/digitechit07/Python-Tutorial-with-Excercise/blob/main/Python_Syntax.ipynb\" target=\"_parent\"><img src=\"https://colab.research.google.com/assets/colab-badge.svg\" alt=\"Open In Colab\"/></a>"
      ]
    },
    {
      "cell_type": "markdown",
      "source": [
        "# **Python - Syntax**\n",
        "The Python syntax defines a set of rules that are used to create a Python Program."
      ],
      "metadata": {
        "id": "RxmGzd62Fc5T"
      }
    },
    {
      "cell_type": "markdown",
      "source": [],
      "metadata": {
        "id": "-WL9P0K8Fmz3"
      }
    },
    {
      "cell_type": "markdown",
      "source": [
        "# **Python syntax can be executed by writing directly in the Command Line:**"
      ],
      "metadata": {
        "id": "clQpArVEEkXi"
      }
    },
    {
      "cell_type": "code",
      "execution_count": 1,
      "metadata": {
        "colab": {
          "base_uri": "https://localhost:8080/"
        },
        "id": "Fpz26qMRERYp",
        "outputId": "d6eaa325-230d-41e5-d001-fe297e56a059"
      },
      "outputs": [
        {
          "output_type": "stream",
          "name": "stdout",
          "text": [
            "Hello, World!\n"
          ]
        }
      ],
      "source": [
        "print(\"Hello, World!\")"
      ]
    },
    {
      "cell_type": "markdown",
      "source": [
        "# **Python Indentation**\n",
        "Indentation refers to the spaces at the beginning of a code line."
      ],
      "metadata": {
        "id": "0bp-NX2yEzF6"
      }
    },
    {
      "cell_type": "code",
      "source": [
        "if 10 > 5:\n",
        "  print(\"Ten is greater than Five!\")"
      ],
      "metadata": {
        "colab": {
          "base_uri": "https://localhost:8080/"
        },
        "id": "NCiUpDScEj9j",
        "outputId": "b23d85d6-ea3b-460e-f0f3-da4f6b8f5d72"
      },
      "execution_count": 2,
      "outputs": [
        {
          "output_type": "stream",
          "name": "stdout",
          "text": [
            "Ten is greater than Five!\n"
          ]
        }
      ]
    },
    {
      "cell_type": "markdown",
      "source": [
        "# **Python Variables**\n",
        "In Python, variables are created when you assign a value to it:"
      ],
      "metadata": {
        "id": "5P-IOKUNFEbs"
      }
    },
    {
      "cell_type": "code",
      "source": [
        "x = 5\n",
        "y = \"Hello, World!\"\n",
        "print(x * y)"
      ],
      "metadata": {
        "colab": {
          "base_uri": "https://localhost:8080/"
        },
        "id": "szXgGqufFF0b",
        "outputId": "1564c2d1-7c05-4968-8ec9-3525ee93ec06"
      },
      "execution_count": 3,
      "outputs": [
        {
          "output_type": "stream",
          "name": "stdout",
          "text": [
            "Hello, World!Hello, World!Hello, World!Hello, World!Hello, World!\n"
          ]
        }
      ]
    },
    {
      "cell_type": "markdown",
      "source": [
        "# **Comments**\n",
        "Python has commenting capability for the purpose of in-code documentation.\n",
        "\n",
        "Comments start with a #, and Python will render the rest of the line as a comment:"
      ],
      "metadata": {
        "id": "tH015vMvFPvT"
      }
    },
    {
      "cell_type": "code",
      "source": [
        "#This is a comment.\n",
        "print(\"Hello, World!\")"
      ],
      "metadata": {
        "colab": {
          "base_uri": "https://localhost:8080/"
        },
        "id": "WoeG3m0eFS9D",
        "outputId": "cc5f7aae-a4c8-4bba-c203-4ba8ff83299f"
      },
      "execution_count": 4,
      "outputs": [
        {
          "output_type": "stream",
          "name": "stdout",
          "text": [
            "Hello, World!\n"
          ]
        }
      ]
    },
    {
      "cell_type": "markdown",
      "source": [
        "# **Python - Interactive Mode Programming**\n",
        "We can invoke a Python interpreter from command line by typing python at the command prompt as following - $ python3"
      ],
      "metadata": {
        "id": "C81mUBzdFoid"
      }
    },
    {
      "cell_type": "code",
      "source": [],
      "metadata": {
        "id": "eBU-QvtqFqfO"
      },
      "execution_count": 5,
      "outputs": []
    },
    {
      "cell_type": "markdown",
      "source": [
        "# **Python - Script Mode Programming**\n",
        "We can invoke the Python interpreter with a script parameter which begins the execution of the script and continues until the script is finished. When the script is finished, the interpreter is no longer active. - $ python3 test.py"
      ],
      "metadata": {
        "id": "31B_-xixGEhL"
      }
    },
    {
      "cell_type": "markdown",
      "source": [
        "# **Python Identifiers**\n",
        "A Python identifier is a name used to identify a variable, function, class, module or other object. An identifier starts with a letter A to Z or a to z or an underscore (_) followed by zero or more letters, underscores and digits (0 to 9).\n",
        "\n",
        "# Here are naming conventions for Python identifiers −\n",
        "\n",
        "Python Class names start with an uppercase letter. All other identifiers start with a lowercase letter.\n",
        "\n",
        "Starting an identifier with a single leading underscore indicates that the identifier is private identifier.\n",
        "\n",
        "Starting an identifier with two leading underscores indicates a strongly private identifier.\n",
        "\n",
        "If the identifier also ends with two trailing underscores, the identifier is a language-defined special name.\n"
      ],
      "metadata": {
        "id": "bVN6SWE_GN3a"
      }
    },
    {
      "cell_type": "markdown",
      "source": [
        "# **Python Reserved Words**\n",
        "The following list shows the Python keywords. These are reserved words and you cannot use them as constant or variable or any other identifier names."
      ],
      "metadata": {
        "id": "mJqpfPIVGcU9"
      }
    },
    {
      "cell_type": "markdown",
      "source": [
        "# **Python Lines and Indentation**\n",
        "Python programming provides no braces to indicate blocks of code for class and function definitions or flow control. Blocks of code are denoted by line indentation, which is rigidly enforced."
      ],
      "metadata": {
        "id": "U-KmNQz6GgRf"
      }
    },
    {
      "cell_type": "code",
      "source": [
        "if True:\n",
        "   print (\"Answer\")\n",
        "   print (\"True\")\n",
        "else:\n",
        "   print (\"Answer\")\n",
        "   print (\"False\")"
      ],
      "metadata": {
        "colab": {
          "base_uri": "https://localhost:8080/"
        },
        "id": "QCrFmQz3GjwX",
        "outputId": "6a746d5a-17d6-463d-8eb2-3c4c403e8f38"
      },
      "execution_count": 6,
      "outputs": [
        {
          "output_type": "stream",
          "name": "stdout",
          "text": [
            "Answer\n",
            "True\n"
          ]
        }
      ]
    },
    {
      "cell_type": "markdown",
      "source": [
        "# **Python Multi-Line Statements**\n",
        "Statements in Python typically end with a new line. Python does, however, allow the use of the line continuation character (\\) to denote that the line should continue."
      ],
      "metadata": {
        "id": "RKUo9_tOGrM3"
      }
    },
    {
      "cell_type": "code",
      "source": [
        "item_one = 5\n",
        "item_two = 10\n",
        "item_three = 15\n",
        "\n",
        "total = item_one + \\\n",
        "        item_two + \\\n",
        "        item_three\n",
        "print(total)"
      ],
      "metadata": {
        "colab": {
          "base_uri": "https://localhost:8080/"
        },
        "id": "58I3-kQAGshQ",
        "outputId": "620edcd6-fd21-4c44-801a-b154f82daea3"
      },
      "execution_count": 8,
      "outputs": [
        {
          "output_type": "stream",
          "name": "stdout",
          "text": [
            "30\n"
          ]
        }
      ]
    },
    {
      "cell_type": "markdown",
      "source": [
        "# **Quotations in Python**\n",
        "Python accepts single ('), double (\") and triple (''' or \"\"\") quotes to denote string literals, as long as the same type of quote starts and ends the string."
      ],
      "metadata": {
        "id": "tWOs4VEwHAwS"
      }
    },
    {
      "cell_type": "code",
      "source": [
        "Single_quote = 'Here we use Single quote'\n",
        "print (Single_quote)\n",
        "\n",
        "Double_quote = \"Here we use Double_quote.\"\n",
        "print (Double_quote)\n",
        "\n",
        "paragraph = \"\"\"This is a paragraph. It is\n",
        " made up of multiple lines and sentences.\"\"\"\n",
        "print (paragraph)"
      ],
      "metadata": {
        "colab": {
          "base_uri": "https://localhost:8080/"
        },
        "id": "RI9EewW9HEAB",
        "outputId": "d90e60f5-3cfe-4309-b0a4-236a770d3ac0"
      },
      "execution_count": 9,
      "outputs": [
        {
          "output_type": "stream",
          "name": "stdout",
          "text": [
            "Here we use Single quote\n",
            "Here we use Double_quote.\n",
            "This is a paragraph. It is\n",
            " made up of multiple lines and sentences.\n"
          ]
        }
      ]
    },
    {
      "cell_type": "markdown",
      "source": [
        "# **Comments in Python**\n",
        "A comment is a programmer-readable explanation or annotation in the Python source code. They are added with the purpose of making the source code easier for humans to understand, and are ignored by Python interpreter\n",
        "\n",
        "# #I said that already.\n",
        "\n",
        "'''\n",
        "This is a multiline\n",
        "comment.\n",
        "'''"
      ],
      "metadata": {
        "id": "dwo1sm_AHfR1"
      }
    },
    {
      "cell_type": "markdown",
      "source": [
        "# *Waiting for the User*\n",
        "The following line of the program displays the prompt, the statement saying Press the enter key to exit, and waits for the user to take action −\n",
        "\n"
      ],
      "metadata": {
        "id": "00qta6PHH4i9"
      }
    },
    {
      "cell_type": "code",
      "source": [
        "raw = input(\"\\n\\nPress the enter key to exit.\")\n",
        "print(raw)\n"
      ],
      "metadata": {
        "colab": {
          "base_uri": "https://localhost:8080/"
        },
        "id": "aphploFFH7uV",
        "outputId": "8f8ae749-455e-4732-cb44-7321bd4457d7"
      },
      "execution_count": 11,
      "outputs": [
        {
          "output_type": "stream",
          "name": "stdout",
          "text": [
            "\n",
            "\n",
            "Press the enter key to exit. d\n",
            " d\n"
          ]
        }
      ]
    },
    {
      "cell_type": "markdown",
      "source": [
        "# **Multiple Statements on a Single Line**\n",
        "The semicolon ( ; ) allows multiple statements on the single line given that neither statement starts a new code block. Here is a sample snip using the semicolon −\n",
        "\n",
        "import sys; x = 'foo'; sys.stdout.write(x + '\\n')"
      ],
      "metadata": {
        "id": "zTjC07HoISum"
      }
    },
    {
      "cell_type": "markdown",
      "source": [
        "# **Multiple Statement Groups as Suites**\n",
        "A group of individual statements, which make a single code block are called suites in Python. Compound or complex statements, such as if, while, def, and class require a header line and a suite.\n",
        "\n",
        "if expression :\n",
        "\n",
        "   suite\n",
        "\n",
        "elif expression :\n",
        "\n",
        "   suite\n",
        "\n",
        "else :\n",
        "\n",
        "   suite"
      ],
      "metadata": {
        "id": "62HPOZmvIbuY"
      }
    },
    {
      "cell_type": "code",
      "source": [],
      "metadata": {
        "id": "2yzotaZOIfKW"
      },
      "execution_count": null,
      "outputs": []
    },
    {
      "cell_type": "markdown",
      "source": [
        "# **Command Line Arguments in Python**\n",
        "$ python3 -h"
      ],
      "metadata": {
        "id": "ilhtg7bZIq-m"
      }
    }
  ]
}
