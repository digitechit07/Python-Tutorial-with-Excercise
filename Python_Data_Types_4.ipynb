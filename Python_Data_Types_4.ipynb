{
  "nbformat": 4,
  "nbformat_minor": 0,
  "metadata": {
    "colab": {
      "provenance": [],
      "authorship_tag": "ABX9TyPKKyytp6vvOElysyWS2klU",
      "include_colab_link": true
    },
    "kernelspec": {
      "name": "python3",
      "display_name": "Python 3"
    },
    "language_info": {
      "name": "python"
    }
  },
  "cells": [
    {
      "cell_type": "markdown",
      "metadata": {
        "id": "view-in-github",
        "colab_type": "text"
      },
      "source": [
        "<a href=\"https://colab.research.google.com/github/digitechit07/Python-Tutorial-with-Excercise/blob/main/Python_Data_Types_4.ipynb\" target=\"_parent\"><img src=\"https://colab.research.google.com/assets/colab-badge.svg\" alt=\"Open In Colab\"/></a>"
      ]
    },
    {
      "cell_type": "markdown",
      "source": [
        "# **Types of Data Types in Python**\n",
        "Python supports the following built-in data types −\n",
        "\n",
        "Numeric Data Types\n",
        "\n",
        "int\n",
        "\n",
        "flot\n",
        "\n",
        "complex\n",
        "\n",
        "String Data Types\n",
        "\n",
        "Sequence Data Types\n",
        "\n",
        "list\n",
        "\n",
        "tuple\n",
        "\n",
        "range\n",
        "\n",
        "Binary Data Types\n",
        "\n",
        "bytes\n",
        "\n",
        "bytearray\n",
        "\n",
        "memoryview\n",
        "\n",
        "Dictionary Data Type\n",
        "\n",
        "Set Data Type\n",
        "\n",
        "set\n",
        "\n",
        "frozenset\n",
        "\n",
        "Boolean Data Type\n",
        "\n",
        "None Type"
      ],
      "metadata": {
        "id": "utirG0a4n2S4"
      }
    },
    {
      "cell_type": "code",
      "execution_count": 2,
      "metadata": {
        "colab": {
          "base_uri": "https://localhost:8080/"
        },
        "id": "OF2PkyfwnVoB",
        "outputId": "4e0ff762-0e4f-4954-ee0f-3eb5f2163f2e"
      },
      "outputs": [
        {
          "output_type": "stream",
          "name": "stdout",
          "text": [
            "The type of variable having value 100  is  <class 'int'>\n",
            "The type of variable having value 20.345  is  <class 'float'>\n",
            "The type of variable having value (10+3j)  is  <class 'complex'>\n"
          ]
        }
      ],
      "source": [
        "var1 = 1       # int data type\n",
        "var2 = True    # bool data type\n",
        "var3 = 10.023  # float data type\n",
        "var4 = 10+3j   # complex data type\n",
        "type(5+6j)\n",
        "\n",
        "# integer variable.\n",
        "a=100\n",
        "print(\"The type of variable having value\", a, \" is \", type(a))\n",
        "\n",
        "# float variable.\n",
        "c=20.345\n",
        "print(\"The type of variable having value\", c, \" is \", type(c))\n",
        "\n",
        "# complex variable.\n",
        "d=10+3j\n",
        "print(\"The type of variable having value\", d, \" is \", type(d))"
      ]
    },
    {
      "cell_type": "markdown",
      "source": [
        "**Python supports four different numerical types and each of them have built-in classes in Python library, called int, bool, float and complex respectively **−\n",
        "\n",
        "int (signed integers)\n",
        "float (floating point real values)\n",
        "complex (complex numbers)"
      ],
      "metadata": {
        "id": "ss6i8MKAoO1e"
      }
    },
    {
      "cell_type": "code",
      "source": [
        "str = 'Hello World!'\n",
        "\n",
        "print (str)          # Prints complete string\n",
        "print (str[0])       # Prints first character of the string\n",
        "print (str[2:5])     # Prints characters starting from 3rd to 5th\n",
        "print (str[2:])      # Prints string starting from 3rd character\n",
        "print (str * 2)      # Prints string two times\n",
        "print (str + \"TEST\") # Prints concatenated string\n",
        "\n"
      ],
      "metadata": {
        "colab": {
          "base_uri": "https://localhost:8080/"
        },
        "id": "FvCMiziWoO80",
        "outputId": "dfbe030b-877d-4289-c3d4-c4179a630525"
      },
      "execution_count": 3,
      "outputs": [
        {
          "output_type": "stream",
          "name": "stdout",
          "text": [
            "Hello World!\n",
            "H\n",
            "llo\n",
            "llo World!\n",
            "Hello World!Hello World!\n",
            "Hello World!TEST\n"
          ]
        }
      ]
    },
    {
      "cell_type": "markdown",
      "source": [
        "# **Python Sequence Data Types**\n",
        "Sequence is a collection data type. It is an ordered collection of items. Items in the sequence have a positional index starting with 0. It is conceptually similar to an array in C or C++. There are following three sequence data types defined in Python.\n",
        "\n",
        "List Data Type\n",
        "\n",
        "Tuple Data Type\n",
        "\n",
        "Range Data Type"
      ],
      "metadata": {
        "id": "yny11PgFodvQ"
      }
    },
    {
      "cell_type": "code",
      "source": [
        "list = [ 'abcd', 786 , 2.23, 'john', 70.2 ]\n",
        "tinylist = [123, 'john']\n",
        "\n",
        "print (list)            # Prints complete list\n",
        "print (list[0])         # Prints first element of the list\n",
        "print (list[1:3])       # Prints elements starting from 2nd till 3rd\n",
        "print (list[2:])        # Prints elements starting from 3rd element\n",
        "print (tinylist * 2)    # Prints list two times\n",
        "print (list + tinylist) # Prints concatenated lists\n",
        "\n",
        "tuple = ( 'abcd', 786 , 2.23, 'john', 70.2  )\n",
        "tinytuple = (123, 'john')\n",
        "\n",
        "print (tuple)               # Prints the complete tuple\n",
        "print (tuple[0])            # Prints first element of the tuple\n",
        "print (tuple[1:3])          # Prints elements of the tuple starting from 2nd till 3rd\n",
        "print (tuple[2:])           # Prints elements of the tuple starting from 3rd element\n",
        "print (tinytuple * 2)       # Prints the contents of the tuple twice\n",
        "print (tuple + tinytuple)   # Prints concatenated tuples\n",
        "\n",
        "\n",
        "tuple = ( 'abcd', 786 , 2.23, 'john', 70.2  )\n",
        "list = [ 'abcd', 786 , 2.23, 'john', 70.2  ]\n",
        "tuple[2] = 1000    # Invalid syntax with tuple\n",
        "list[2] = 1000     # Valid syntax with list\n",
        "\n"
      ],
      "metadata": {
        "colab": {
          "base_uri": "https://localhost:8080/"
        },
        "id": "7CjvJTAAod5f",
        "outputId": "2cc5ae0c-6474-44fa-9bb2-08d99f6c8217"
      },
      "execution_count": 4,
      "outputs": [
        {
          "output_type": "stream",
          "name": "stdout",
          "text": [
            "['abcd', 786, 2.23, 'john', 70.2]\n",
            "abcd\n",
            "[786, 2.23]\n",
            "[2.23, 'john', 70.2]\n",
            "[123, 'john', 123, 'john']\n",
            "['abcd', 786, 2.23, 'john', 70.2, 123, 'john']\n"
          ]
        }
      ]
    },
    {
      "cell_type": "markdown",
      "source": [
        "# **Python Binary Data Types**\n",
        "A binary data type in Python is a way to represent data as a series of binary digits, which are 0's and 1's. It is like a special language computers understand to store and process information efficiently.\n",
        "\n",
        "This type of data is commonly used when dealing with things like files, images, or anything that can be represented using just two possible values. So, instead of using regular numbers or letters, binary sequence data types use a combination of 0s and 1s to represent information.\n",
        "\n",
        "Python provides three different ways to represent binary data. They are as follows −\n",
        "\n",
        "bytes\n",
        "\n",
        "bytearray\n",
        "\n",
        "memoryview"
      ],
      "metadata": {
        "id": "CVY9biYcoeDe"
      }
    },
    {
      "cell_type": "code",
      "source": [
        "# Using bytes() function to create bytes\n",
        "b1 = bytes([65, 66, 67, 68, 69])\n",
        "print(b1)\n",
        "\n",
        "# Using prefix 'b' to create bytes\n",
        "b2 = b'Hello'\n",
        "print(b2)\n",
        "\n",
        "# Creating a bytearray from an iterable of integers\n",
        "value = bytearray([72, 101, 108, 108, 111])\n",
        "print(value)\n",
        "\n",
        "\n",
        "# Creating a bytearray by encoding a string\n",
        "val = bytearray(\"Hello\", 'utf-8')\n",
        "print(val)\n",
        "\n",
        "data = bytearray(b'Hello, world!')\n",
        "view = memoryview(data)\n",
        "print(view)\n",
        "\n",
        "import array\n",
        "arr = array.array('i', [1, 2, 3, 4, 5])\n",
        "view = memoryview(arr)\n",
        "print(view)\n",
        "\n",
        "data = b'Hello, world!'\n",
        "# Creating a view of the last part of the data\n",
        "view = memoryview(data[7:])\n",
        "print(view)"
      ],
      "metadata": {
        "colab": {
          "base_uri": "https://localhost:8080/"
        },
        "id": "b-X_nnOIoeKP",
        "outputId": "25551a5e-106c-4c56-aa47-ff9dd121589e"
      },
      "execution_count": 5,
      "outputs": [
        {
          "output_type": "stream",
          "name": "stdout",
          "text": [
            "b'ABCDE'\n",
            "b'Hello'\n",
            "bytearray(b'Hello')\n",
            "bytearray(b'Hello')\n",
            "<memory at 0x7edf010bd540>\n",
            "<memory at 0x7edf010bd780>\n",
            "<memory at 0x7edf010bd480>\n"
          ]
        }
      ]
    },
    {
      "cell_type": "code",
      "source": [
        "dict = {}\n",
        "dict['one'] = \"This is one\"\n",
        "dict[2]     = \"This is two\"\n",
        "\n",
        "tinydict = {'name': 'john','code':6734, 'dept': 'sales'}\n",
        "\n",
        "\n",
        "print (dict['one'])       # Prints value for 'one' key\n",
        "print (dict[2])           # Prints value for 2 key\n",
        "print (tinydict)          # Prints complete dictionary\n",
        "print (tinydict.keys())   # Prints all the keys\n",
        "print (tinydict.values()) # Prints all the values\n",
        "\n",
        "\n",
        "\n",
        "set1 = {123, 452, 5, 6}\n",
        "set2 = {'Java', 'Python', 'JavaScript'}\n",
        "\n",
        "print(set1)\n",
        "print(set2)\n",
        "\n",
        "# Returns false as a is not equal to b\n",
        "a = 2\n",
        "b = 4\n",
        "print(bool(a==b))\n",
        "\n",
        "# Following also prints the same\n",
        "print(a==b)\n",
        "\n",
        "# Returns False as a is None\n",
        "a = None\n",
        "print(bool(a))\n",
        "\n",
        "# Returns false as a is an empty sequence\n",
        "a = ()\n",
        "print(bool(a))\n",
        "\n",
        "# Returns false as a is 0\n",
        "a = 0.0\n",
        "print(bool(a))\n",
        "\n",
        "# Returns false as a is 10\n",
        "a = 10\n",
        "print(bool(a))\n",
        "\n",
        "\n"
      ],
      "metadata": {
        "colab": {
          "base_uri": "https://localhost:8080/"
        },
        "id": "hy_goxkFpAGN",
        "outputId": "14f2440a-bf9f-4b67-f312-17b304241794"
      },
      "execution_count": 6,
      "outputs": [
        {
          "output_type": "stream",
          "name": "stdout",
          "text": [
            "This is one\n",
            "This is two\n",
            "{'name': 'john', 'code': 6734, 'dept': 'sales'}\n",
            "dict_keys(['name', 'code', 'dept'])\n",
            "dict_values(['john', 6734, 'sales'])\n",
            "{123, 452, 5, 6}\n",
            "{'JavaScript', 'Java', 'Python'}\n",
            "False\n",
            "False\n",
            "False\n",
            "False\n",
            "False\n",
            "True\n"
          ]
        }
      ]
    },
    {
      "cell_type": "markdown",
      "source": [
        "# **Python None Type**\n",
        "Python's none type is represented by the \"nonetype.\" It is an object of its own data type. The nonetype represents the null type of values or absence of a value.\n",
        "\n",
        "Example of None Type\n",
        "In the following example, we are assigning None to a variable x and printing its type, which will be nonetyoe −"
      ],
      "metadata": {
        "id": "_2YSnM4ZpKMd"
      }
    },
    {
      "cell_type": "code",
      "source": [
        "# Declaring a variable\n",
        "# And, assigning a Null value (None)\n",
        "\n",
        "x = None\n",
        "\n",
        "# Printing its value and type\n",
        "print(\"x = \", x)\n",
        "print(\"type of x = \", type(x))\n",
        "\n",
        "\n",
        "# Getting type of values\n",
        "print(type(123))\n",
        "print(type(9.99))\n",
        "\n",
        "# Getting type of variables\n",
        "a = 10\n",
        "b = 2.12\n",
        "c = \"Hello\"\n",
        "d = (10, 20, 30)\n",
        "e = [10, 20, 30]\n",
        "\n",
        "print(type(a))\n",
        "print(type(b))\n",
        "print(type(c))\n",
        "print(type(d))\n",
        "print(type(e))\n",
        "\n",
        "\n",
        "# Declaring a variable\n",
        "# And, assigning an integer value\n",
        "\n",
        "x = 10\n",
        "\n",
        "# Printing its value and type\n",
        "print(\"x = \", x)\n",
        "print(\"type of x = \", type(x))\n",
        "\n",
        "# Now, assigning string value to\n",
        "# the same variable\n",
        "x = \"Hello World!\"\n",
        "\n",
        "# Printing its value and type\n",
        "print(\"x = \", x)\n",
        "print(\"type of x = \", type(x))\n",
        "\n",
        "\n"
      ],
      "metadata": {
        "colab": {
          "base_uri": "https://localhost:8080/"
        },
        "id": "1eSZ9Kf9pMad",
        "outputId": "c6e0bec7-26a4-48a7-d73e-427382110c9a"
      },
      "execution_count": 7,
      "outputs": [
        {
          "output_type": "stream",
          "name": "stdout",
          "text": [
            "x =  None\n",
            "type of x =  <class 'NoneType'>\n",
            "<class 'int'>\n",
            "<class 'float'>\n",
            "<class 'int'>\n",
            "<class 'float'>\n",
            "<class 'str'>\n",
            "<class 'tuple'>\n",
            "<class 'list'>\n",
            "x =  10\n",
            "type of x =  <class 'int'>\n",
            "x =  Hello World!\n",
            "type of x =  <class 'str'>\n"
          ]
        }
      ]
    },
    {
      "cell_type": "markdown",
      "source": [
        "# **Primitive and Non-primitive Data Types**\n",
        "The above-explained data types can also be categorized as primitive and non-primitive.\n",
        "\n",
        "**1. Primitive Types**\n",
        "The primitive data types are the fundamental data types that are used to create complex data types (sometimes called complex data structures). There are mainly four primitive data types, which are −\n",
        "\n",
        "Integers\n",
        "Floats\n",
        "Booleans, and\n",
        "Strings\n",
        "\n",
        "**2. Non-primitive Types**\n",
        "The non-primitive data types store values or collections of values. There are mainly four types of non-primitive types, which are −\n",
        "\n",
        "Lists\n",
        "Tuples\n",
        "Dictionaries, and\n",
        "Sets"
      ],
      "metadata": {
        "id": "iPhMsfk1pXRG"
      }
    },
    {
      "cell_type": "code",
      "source": [
        "print(\"Conversion to integer data type\")\n",
        "a = int(1)     # a will be 1\n",
        "b = int(2.2)   # b will be 2\n",
        "c = (\"3.3\")   # c will be 3\n",
        "\n",
        "print (a)\n",
        "print (b)\n",
        "print (c)\n",
        "\n",
        "print(\"Conversion to floating point number\")\n",
        "a = float(1)     # a will be 1.0\n",
        "b = float(2.2)   # b will be 2.2\n",
        "c = float(\"3.3\") # c will be 3.3\n",
        "\n",
        "print (a)\n",
        "print (b)\n",
        "print (c)\n",
        "\n",
        "'''\n",
        "print(\"Conversion to string\")\n",
        "a = str(1)     # a will be \"1\"\n",
        "b = str(2.2)   # b will be \"2.2\"\n",
        "c = str(\"3.3\") # c will be \"3.3\"\n",
        "'''\n",
        "print (a)\n",
        "print (b)\n",
        "print (c)\n"
      ],
      "metadata": {
        "colab": {
          "base_uri": "https://localhost:8080/"
        },
        "id": "UZHx-f3apeZO",
        "outputId": "881773e6-8c99-4636-fa7c-408e3e68e245"
      },
      "execution_count": 11,
      "outputs": [
        {
          "output_type": "stream",
          "name": "stdout",
          "text": [
            "Conversion to integer data type\n",
            "1\n",
            "2\n",
            "3.3\n",
            "Conversion to floating point number\n",
            "1.0\n",
            "2.2\n",
            "3.3\n",
            "1.0\n",
            "2.2\n",
            "3.3\n"
          ]
        }
      ]
    },
    {
      "cell_type": "markdown",
      "source": [
        "# **Data Type Conversion Functions**\n",
        "\n",
        "1\tPython int() function\n",
        "Converts x to an integer. base specifies the base if x is a string.\n",
        "\n",
        "2\tPython long() function\n",
        "Converts x to a long integer. base specifies the base if x is a string. This function has been deprecated.\n",
        "\n",
        "3\tPython float() function\n",
        "Converts x to a floating-point number.\n",
        "\n",
        "4\tPython complex() function\n",
        "Creates a complex number.\n",
        "\n",
        "5\tPython str() function\n",
        "Converts object x to a string representation.\n",
        "\n",
        "6\tPython repr() function\n",
        "Converts object x to an expression string.\n",
        "\n",
        "7\tPython eval() function\n",
        "Evaluates a string and returns an object.\n",
        "\n",
        "8\tPython tuple() function\n",
        "Converts s to a tuple.\n",
        "\n",
        "9\tPython list() function\n",
        "Converts s to a list.\n",
        "\n",
        "10\tPython set() function\n",
        "Converts s to a set.\n",
        "\n",
        "11\tPython dict() function\n",
        "Creates a dictionary. d must be a sequence of (key,value) tuples.\n",
        "\n",
        "12\tPython frozenset() function\n",
        "Converts s to a frozen set.\n",
        "\n",
        "13\tPython chr() function\n",
        "Converts an integer to a character.\n",
        "\n",
        "14\tPython unichr() function\n",
        "Converts an integer to a Unicode character.\n",
        "\n",
        "15\tPython ord() function\n",
        "Converts a single character to its integer value.\n",
        "\n",
        "16\tPython hex() function\n",
        "Converts an integer to a hexadecimal string.\n",
        "\n",
        "17\tPython oct() function\n",
        "Converts an integer to an octal string."
      ],
      "metadata": {
        "id": "h8mPC8gUp0fJ"
      }
    }
  ]
}