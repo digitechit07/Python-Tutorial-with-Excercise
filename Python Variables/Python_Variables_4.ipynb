{
  "nbformat": 4,
  "nbformat_minor": 0,
  "metadata": {
    "colab": {
      "provenance": [],
      "authorship_tag": "ABX9TyPP2t4bRxZFOgziQ3K5bw8w",
      "include_colab_link": true
    },
    "kernelspec": {
      "name": "python3",
      "display_name": "Python 3"
    },
    "language_info": {
      "name": "python"
    }
  },
  "cells": [
    {
      "cell_type": "markdown",
      "metadata": {
        "id": "view-in-github",
        "colab_type": "text"
      },
      "source": [
        "<a href=\"https://colab.research.google.com/github/digitechit07/Python-Tutorial-with-Excercise/blob/main/Python_Variables_4.ipynb\" target=\"_parent\"><img src=\"https://colab.research.google.com/assets/colab-badge.svg\" alt=\"Open In Colab\"/></a>"
      ]
    },
    {
      "cell_type": "markdown",
      "source": [
        "# **Python Variables - Naming Convention**\n",
        "Every Python variable should have a unique name like a, b, c. A variable name can be meaningful like color, age, name etc. There are certain rules which should be taken care while naming a Python variable:\n",
        "\n",
        "A variable name must start with a letter or the underscore character\n",
        "A variable name cannot start with a number or any special character like $, (, * % etc.\n",
        "A variable name can only contain alpha-numeric characters and underscores (A-z, 0-9, and _ )\n",
        "Python variable names are case-sensitive which means Name and NAME are two different variables in Python.\n",
        "Python reserved keywords cannot be used naming the variable.\n",
        "If the name of variable contains multiple words, we should use these naming patterns −\n",
        "\n",
        "Camel case − First letter is a lowercase, but first letter of each subsequent word is in uppercase. For example: kmPerHour, pricePerLitre\n",
        "\n",
        "Pascal case − First letter of each word is in uppercase. For example: KmPerHour, PricePerLitre\n",
        "\n",
        "Snake case − Use single underscore (_) character to separate words. For example: km_per_hour, price_per_litre"
      ],
      "metadata": {
        "id": "KYdAoYOn56zS"
      }
    },
    {
      "cell_type": "code",
      "execution_count": 1,
      "metadata": {
        "colab": {
          "base_uri": "https://localhost:8080/"
        },
        "id": "Au3J5yWR5fTE",
        "outputId": "59b936a5-78cf-437d-c49a-a181858a8c8c"
      },
      "outputs": [
        {
          "output_type": "stream",
          "name": "stdout",
          "text": [
            "100\n",
            "100\n",
            "Zara\n",
            "Nuha\n",
            "20\n",
            "100000\n"
          ]
        }
      ],
      "source": [
        "counter = 100\n",
        "_count  = 100\n",
        "name1 = \"Zara\"\n",
        "name2 = \"Nuha\"\n",
        "Age  = 20\n",
        "zara_salary = 100000\n",
        "\n",
        "print (counter)\n",
        "print (_count)\n",
        "print (name1)\n",
        "print (name2)\n",
        "print (Age)\n",
        "print (zara_salary)"
      ]
    },
    {
      "cell_type": "markdown",
      "source": [
        "Creating Python Variables\n",
        "Python variables do not need explicit declaration to reserve memory space or you can say to create a variable. A Python variable is created automatically when you assign a value to it. The equal sign (=) is used to assign values to variables.\n",
        "\n",
        "The operand to the left of the = operator is the name of the variable and the operand to the right of the = operator is the value stored in the variable.\n",
        "\n"
      ],
      "metadata": {
        "id": "FVuP9b-G5_cJ"
      }
    },
    {
      "cell_type": "code",
      "source": [
        "counter = 100          # Creates an integer variable\n",
        "miles   = 1000.0       # Creates a floating point variable\n",
        "name    = \"Zara Ali\"   # Creates a string variable"
      ],
      "metadata": {
        "id": "CS745HvS5_mJ"
      },
      "execution_count": null,
      "outputs": []
    },
    {
      "cell_type": "markdown",
      "source": [
        "# **Printing Python Variables**\n",
        "Once we create a Python variable and assign a value to it, we can print it using print() function. Following is the extension of previous example and shows how to print different variables in Python:"
      ],
      "metadata": {
        "id": "nCTX2aZ45_vx"
      }
    },
    {
      "cell_type": "code",
      "source": [
        "counter = 100          # Creates an integer variable\n",
        "miles   = 1000.0       # Creates a floating point variable\n",
        "name    = \"Zara Ali\"   # Creates a string variable\n",
        "\n",
        "print (counter)\n",
        "print (miles)\n",
        "print (name)"
      ],
      "metadata": {
        "id": "vsMgnYEd5_1x"
      },
      "execution_count": null,
      "outputs": []
    },
    {
      "cell_type": "markdown",
      "source": [
        "# **Deleting Python Variables**\n",
        "You can delete the reference to a number object by using the del statement. The syntax of the del statement is −\n",
        "\n",
        "del var1[,var2[,var3[....,varN]]]]"
      ],
      "metadata": {
        "id": "E7kSDcal5_86"
      }
    },
    {
      "cell_type": "code",
      "source": [
        "del var\n",
        "del var_a, var_b"
      ],
      "metadata": {
        "id": "slw_OFxQ6ADb"
      },
      "execution_count": null,
      "outputs": []
    },
    {
      "cell_type": "markdown",
      "source": [
        "# **Getting Type of a Variable**\n",
        "You can get the data type of a Python variable using the python built-in function type() as follows."
      ],
      "metadata": {
        "id": "S6FdNkgo6AJo"
      }
    },
    {
      "cell_type": "code",
      "source": [
        "x = \"Zara\"\n",
        "y =  10\n",
        "z =  10.10\n",
        "\n",
        "print(type(x))\n",
        "print(type(y))\n",
        "print(type(z))"
      ],
      "metadata": {
        "id": "IpoRx4-h6AQB"
      },
      "execution_count": null,
      "outputs": []
    },
    {
      "cell_type": "markdown",
      "source": [
        "# **Casting Python Variables**\n",
        "You can specify the data type of a variable with the help of casting as follows:\n",
        "\n"
      ],
      "metadata": {
        "id": "RoRg2XGe6AWh"
      }
    },
    {
      "cell_type": "code",
      "source": [
        "x = str(10)    # x will be '10'\n",
        "y = int(10)    # y will be 10\n",
        "z = float(10)  # z will be 10.0\n",
        "\n",
        "print( \"x =\", x )\n",
        "print( \"y =\", y )\n",
        "print( \"z =\", z )"
      ],
      "metadata": {
        "id": "3uIrhPz56Ab6"
      },
      "execution_count": null,
      "outputs": []
    },
    {
      "cell_type": "markdown",
      "source": [
        "# **Case-Sensitivity of Python Variables**\n",
        "Python variables are case sensitive which means Age and age are two different variables:"
      ],
      "metadata": {
        "id": "L41Y9KRv6Ahq"
      }
    },
    {
      "cell_type": "code",
      "source": [
        "age = 20\n",
        "Age = 30\n",
        "\n",
        "print( \"age =\", age )\n",
        "print( \"Age =\", Age )"
      ],
      "metadata": {
        "id": "ctvzKN-D6Ana"
      },
      "execution_count": null,
      "outputs": []
    },
    {
      "cell_type": "markdown",
      "source": [
        "# **Python Variables - Multiple Assignment**\n",
        "Python allows to initialize more than one variables in a single statement. In the following case, three variables have same value."
      ],
      "metadata": {
        "id": "-mS8TqB36Asp"
      }
    },
    {
      "cell_type": "code",
      "source": [
        "a=b=c=10\n",
        "print (a,b,c)"
      ],
      "metadata": {
        "id": "_7F6SWYW6Ax5"
      },
      "execution_count": null,
      "outputs": []
    },
    {
      "cell_type": "markdown",
      "source": [
        "# **Python Local Variables**\n",
        "Python Local Variables are defined inside a function. We can not access variable outside the function."
      ],
      "metadata": {
        "id": "7Jk2t7CY6tOh"
      }
    },
    {
      "cell_type": "code",
      "source": [
        "def sum(x,y):\n",
        "   sum = x + y\n",
        "   return sum\n",
        "print(sum(5, 10))"
      ],
      "metadata": {
        "id": "ppLLk3CD6tU5"
      },
      "execution_count": null,
      "outputs": []
    },
    {
      "cell_type": "markdown",
      "source": [
        "# **Python Global Variables**\n",
        "Any variable created outside a function can be accessed within any function and so they have global scope."
      ],
      "metadata": {
        "id": "yUHta5Ne6tcR"
      }
    },
    {
      "cell_type": "code",
      "source": [
        "x = 5\n",
        "y = 10\n",
        "def sum():\n",
        "   sum = x + y\n",
        "   return sum\n",
        "print(sum())"
      ],
      "metadata": {
        "id": "4R6axBHj6tjK"
      },
      "execution_count": null,
      "outputs": []
    },
    {
      "cell_type": "markdown",
      "source": [
        "# **Constants in Python**\n",
        "Python doesn't have any formally defined constants, However you can indicate a variable to be treated as a constant by using all-caps names with underscores. For example, the name PI_VALUE indicates that you don't want the variable redefined or changed in any way."
      ],
      "metadata": {
        "id": "Zg4qC0ka6tq5"
      }
    },
    {
      "cell_type": "code",
      "source": [
        "a=b=10"
      ],
      "metadata": {
        "id": "mJsVNuTH6txx"
      },
      "execution_count": null,
      "outputs": []
    }
  ]
}
