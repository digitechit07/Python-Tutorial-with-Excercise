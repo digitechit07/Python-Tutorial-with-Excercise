{
  "nbformat": 4,
  "nbformat_minor": 0,
  "metadata": {
    "colab": {
      "provenance": [],
      "authorship_tag": "ABX9TyOAHErSKvC4mVLIT+KpBJLw",
      "include_colab_link": true
    },
    "kernelspec": {
      "name": "python3",
      "display_name": "Python 3"
    },
    "language_info": {
      "name": "python"
    }
  },
  "cells": [
    {
      "cell_type": "markdown",
      "metadata": {
        "id": "view-in-github",
        "colab_type": "text"
      },
      "source": [
        "<a href=\"https://colab.research.google.com/github/digitechit07/Python-Tutorial-with-Excercise/blob/main/Python_Numbers_4.ipynb\" target=\"_parent\"><img src=\"https://colab.research.google.com/assets/colab-badge.svg\" alt=\"Open In Colab\"/></a>"
      ]
    },
    {
      "cell_type": "markdown",
      "source": [
        "# **Python has three different types of built-in numbers: **\n",
        "integers (int), floating-point (float), and complex (complex).\n",
        "Fractions (fractions.Fraction) and Decimals (decimal.Decimal) are also available via import from the standard library.\n",
        "\n",
        "Whole numbers including hexadecimal (hex()), octal (oct()) and binary (bin()) numbers without decimal places are also identified as ints:"
      ],
      "metadata": {
        "id": "p4jcMxdO-AE1"
      }
    },
    {
      "cell_type": "code",
      "execution_count": 1,
      "metadata": {
        "colab": {
          "base_uri": "https://localhost:8080/"
        },
        "id": "kkFZnWg_9lyt",
        "outputId": "0fdc4e74-19fb-4dd9-bfe1-c6053a2b927e"
      },
      "outputs": [
        {
          "output_type": "stream",
          "name": "stdout",
          "text": [
            "Roll number is: 33\n",
            "<class 'int'>\n",
            "25\n",
            "<class 'int'>\n",
            "<class 'int'>\n",
            "<class 'float'>\n",
            "2.356194490192345\n",
            "real:: -0.4161468365471424\n",
            "imaginary:: 0.9092974268256817\n",
            "complex number:: (-0.4161468365471424+0.9092974268256817j)\n",
            "polar:: (1.0, 2.0)\n",
            "in octal form:: 0o12\n",
            "in hexa decimal form :: 0xa\n"
          ]
        }
      ],
      "source": [
        "roll_no = 33\n",
        "# display roll no\n",
        "print(\"Roll number is:\", roll_no)  # 33\n",
        "print(type(roll_no))  # class 'int'\n",
        "\n",
        "# create integer using int() class\n",
        "id = int(25)\n",
        "print(id)  # 25\n",
        "print(type(id))  # class 'int'\n",
        "\n",
        "#data types\n",
        "x=-9999\n",
        "y=99.99\n",
        "print(type(x))\n",
        "print(type(y))\n",
        "\n",
        "import cmath\n",
        "\n",
        "#to find the phase angle\n",
        "phi = cmath.phase(complex(-1.0, 1.0))\n",
        "print(phi)\n",
        "\n",
        "#to find the rectangular coordinates\n",
        "c=cmath.rect(1,2)\n",
        "print(\"real::\",c.real)\n",
        "print(\"imaginary::\",c.imag)\n",
        "print(\"complex number::\",c)\n",
        "\n",
        "#print the polar coordinates\n",
        "p=cmath.polar(c)\n",
        "print(\"polar::\",p)\n",
        "\n",
        "i = 10\n",
        "print(\"in octal form::\", oct(i))\n",
        "print(\"in hexa decimal form ::\", hex(i))\n",
        "\n"
      ]
    },
    {
      "cell_type": "markdown",
      "source": [
        "# **Number Type Conversion**\n",
        "Python allows the conversion of data from one type to another in two ways.\n",
        "\n",
        "Implicit type conversion\n",
        "Explicit type conversion"
      ],
      "metadata": {
        "id": "9EYD80_u-jZX"
      }
    },
    {
      "cell_type": "code",
      "source": [
        "x = 99\n",
        "y = 1.111\n",
        "\n",
        "#data in int and float\n",
        "print(type(x))\n",
        "print(type(y))\n",
        "\n",
        "#addition\n",
        "z = x+y\n",
        "\n",
        "#type after addition\n",
        "print(type(z))\n",
        "\n",
        "#concatenating int and str types\n",
        "i = 99\n",
        "s = \"apple\"\n",
        "print(s+str(i))\n",
        "\n"
      ],
      "metadata": {
        "colab": {
          "base_uri": "https://localhost:8080/"
        },
        "id": "tpNlnMMA-jhV",
        "outputId": "087ea466-036e-4770-8638-338f6e7a6424"
      },
      "execution_count": 2,
      "outputs": [
        {
          "output_type": "stream",
          "name": "stdout",
          "text": [
            "<class 'int'>\n",
            "<class 'float'>\n",
            "<class 'float'>\n",
            "apple99\n"
          ]
        }
      ]
    },
    {
      "cell_type": "markdown",
      "source": [
        "# **ceil() and floor()**\n",
        "These two methods are used to round a float number to the nearest integer. As the name suggests, ceil()  method is used to round the number UP to the nearest integer value while floor() is used to round a number DOWN to the nearest integer value.\n",
        "\n",
        "# **degrees() and radians()**\n",
        "\n",
        "We use the degrees() method to convert the angle in radians to degrees.\n",
        "Similarly, we use radians() method to convert the angle in degrees to radians.\n",
        "\n",
        "In addition to the above methods, math module also provides some frequently used constants like pi. Let us see this with an example below.\n",
        "\n",
        "# **fabs() and trunc()**\n",
        "We can use the fabs() method in the math module to find a number’s absolute value as a float. This method will remove the negative sign, if any, and return only the absolute float value."
      ],
      "metadata": {
        "id": "Ie9PZdCs-uHP"
      }
    },
    {
      "cell_type": "code",
      "source": [
        "import math as m\n",
        "\n",
        "a = 1.4\n",
        "print(m.ceil(a))\n",
        "print(m.floor(a))\n",
        "\n",
        "import math\n",
        "\n",
        "pi = math.pi\n",
        "print(pi)\n",
        "#To find the degree equivalent of the radians\n",
        "print(\"Degree value of pi is ::\",math.degrees(pi))\n",
        "\n",
        "#Radians for the degrees\n",
        "print(\"Radian value of 90 degree is ::\",math.radians(90))\n",
        "\n",
        "#sin value of 90\n",
        "radians_90=math.radians(90)\n",
        "print(\"sin value of pi/2 is ::\", math.sin(radians_90))\n",
        "\n",
        "#cos value of 60\n",
        "radians_60 = math.radians(60)\n",
        "print(\"cos value of pi/2 is ::\", math.cos(radians_60))\n",
        "\n",
        "import math\n",
        "\n",
        "#factorial of 6 : 6*5*4*3*2*1\n",
        "print(\"factorial of 6 is ::\", math.factorial(6))\n",
        "\n",
        "import math\n",
        "\n",
        "#floating absolute value\n",
        "print(\"floating absolute value::\", math.fabs(-99.999))\n",
        "print(\"floating absolute value of an integer::\", math.fabs(-11))\n",
        "\n",
        "#truncated integer value\n",
        "print(\"truncated integer value::\", math.trunc(-99.99))\n",
        "\n"
      ],
      "metadata": {
        "colab": {
          "base_uri": "https://localhost:8080/"
        },
        "id": "JPAUv7fw-vqu",
        "outputId": "124e0dde-07e0-4e31-b5f9-570cd3df69fc"
      },
      "execution_count": 3,
      "outputs": [
        {
          "output_type": "stream",
          "name": "stdout",
          "text": [
            "2\n",
            "1\n",
            "3.141592653589793\n",
            "Degree value of pi is :: 180.0\n",
            "Radian value of 90 degree is :: 1.5707963267948966\n",
            "sin value of pi/2 is :: 1.0\n",
            "cos value of pi/2 is :: 0.5000000000000001\n",
            "factorial of 6 is :: 720\n",
            "floating absolute value:: 99.999\n",
            "floating absolute value of an integer:: 11.0\n",
            "truncated integer value:: -99\n"
          ]
        }
      ]
    },
    {
      "cell_type": "markdown",
      "source": [
        "# **pow() and log()**\n",
        "We can find the natural log value of a number using the log() method in math module.\n",
        "The pow() method accepts two arguments, x, and y, and returns the value of x raised to power y. Let us see both the methods with an example.\n",
        "\n",
        "# **isfinite() and isinf()**\n",
        "We can check whether a number is finite or not using the isfinite() method. This method will return True if the value is finite and false if it is infinite. In the same way, we can check whether a number is infinite or not using the isinf() method.\n",
        "\n",
        "# **isnan()**\n",
        "We can also check whether the argument we pass is a number or not using the isnan() method.This method will return true the passed argument is not a number.\n",
        "\n",
        "\n",
        "# **isclose()**\n",
        "We can find whether two numbers are close or not using the isclose()  method. We can even mention the absolute tolerance which will compare the numbers near 0 and it is the minimum tolerance. We can pass the relative tolerance which is the maximum difference allowed between two numbers.\n",
        "\n"
      ],
      "metadata": {
        "id": "oyqBbNWs_IhY"
      }
    },
    {
      "cell_type": "code",
      "source": [
        "import math\n",
        "\n",
        "print(\"The value of 9^3 is ::\", math.pow(9, 3))\n",
        "print(\"The log value of 5::\", math.log(5))\n",
        "\n",
        "#checking whether a number is finite or not\n",
        "print(\"Finite or not::\",math.isfinite(-0.00006))\n",
        "#checking whether a number is infinite or not\n",
        "print(\"Infinite or not::\",math.isinf(math.inf))\n",
        "\n",
        "#checking whether it is a number or not\n",
        "print(\"IS a number or not::\", math.isnan(math.nan))\n",
        "\n",
        "#compare the closeness of two values\n",
        "print(\"with absolute tolerance  difference::\", math.isclose(1.5, 2.05, abs_tol = 0.55))\n",
        "\n",
        "print(\"with relative difference < difference::\", math.isclose(1.5,1.75,rel_tol=0.5))\n",
        "\n"
      ],
      "metadata": {
        "colab": {
          "base_uri": "https://localhost:8080/"
        },
        "id": "T7KEmxbJ_Ip_",
        "outputId": "62b7f5f5-9faa-425d-a0bb-37702b14b3a9"
      },
      "execution_count": 4,
      "outputs": [
        {
          "output_type": "stream",
          "name": "stdout",
          "text": [
            "The value of 9^3 is :: 729.0\n",
            "The log value of 5:: 1.6094379124341003\n",
            "Finite or not:: True\n",
            "Infinite or not:: True\n",
            "IS a number or not:: True\n",
            "with absolute tolerance  difference:: True\n",
            "with relative difference < difference:: True\n"
          ]
        }
      ]
    },
    {
      "cell_type": "markdown",
      "source": [
        "# **Square root, GCD, Power, and Exponentials of a Number**\n",
        "In addition to the above methods, there are methods that are commonly used like\n",
        "\n",
        "sqrt(): For finding the square root,\n",
        "\n",
        "gcd(): For finding the greatest common divisor,\n",
        "\n",
        "pow(x,y): For finding  number x raised to power y and\n",
        "\n",
        "exp(x): exponentials of number x\n",
        "\n",
        "\n",
        "# **bit_length()**\n",
        "This method is used to find the number of bits to represent a number in binary format excluding the sign and leading zeros.\n",
        "\n",
        "# **to_bytes()**\n",
        "This method will return an array of bytes to represent an integer.\n",
        "\n",
        "# **is_integer()**\n",
        "We can check whether the given number is an integer or not using the is_integer() method. It will return a boolean value.\n",
        "\n",
        "# **as_integer_ratio()**\n",
        "We can represent the floating number as an integer number ratio. In case of not a perfect fraction ,then the nearest possible ratio will be returned.\n",
        "\n"
      ],
      "metadata": {
        "id": "urZpHl-x_psY"
      }
    },
    {
      "cell_type": "code",
      "source": [
        "#finding sqrt\n",
        "print(\"The square root of 25 is ::\", math.sqrt(25))\n",
        "print(\"The square root of 10 is ::\", math.sqrt(10))\n",
        "\n",
        "#Greatest Common Divisor\n",
        "print(\"The greatest common divisor is ::\", math.gcd(6,12))\n",
        "\n",
        "#exponential value\n",
        "print(\"The value os e(x) is::\", math.exp(-2))\n",
        "\n",
        "#Number raised to power\n",
        "print(\"The value of 9^3 is ::\", math.pow(9, 3))\n",
        "\n",
        "i=-99\n",
        "print(\"bit length::\", i.bit_length())\n",
        "\n",
        "#checking by printing the binary version\n",
        "bin(i)\n",
        "\n",
        "(24).to_bytes(3, byteorder='big')\n",
        "\n",
        "f=0.25\n",
        "\n",
        "f.is_integer()\n",
        "\n",
        "f=0.25\n",
        "f.as_integer_ratio()\n"
      ],
      "metadata": {
        "colab": {
          "base_uri": "https://localhost:8080/"
        },
        "id": "fPEvG_aL_pz5",
        "outputId": "467a85e0-4e69-43dd-c6a7-790fa9a16499"
      },
      "execution_count": 6,
      "outputs": [
        {
          "output_type": "stream",
          "name": "stdout",
          "text": [
            "The square root of 25 is :: 5.0\n",
            "The square root of 10 is :: 3.1622776601683795\n",
            "The greatest common divisor is :: 6\n",
            "The value os e(x) is:: 0.1353352832366127\n",
            "The value of 9^3 is :: 729.0\n",
            "bit length:: 7\n"
          ]
        },
        {
          "output_type": "execute_result",
          "data": {
            "text/plain": [
              "(1, 4)"
            ]
          },
          "metadata": {},
          "execution_count": 6
        }
      ]
    },
    {
      "cell_type": "markdown",
      "source": [
        "# **Creating a Decimal Number**\n",
        "With the help of the decimal  module we can actually set the precision of the number to be displayed up to 28 digits. Based on the requirements we can actually specify the amount of precision while representing the decimal numbers.\n",
        "\n",
        "**Using decimal() constructor:** We need to import the decimal module to perform the following operations.\n",
        "Passing a tuple inside the decimal() constructor: Tuple will have three-part. The first part will be 0 for positive and 1 for negative. The second part will be the Integer component.\n",
        "\n",
        "getcontext()\n",
        "We can set the precision using the getcontext() method and even set the flags to mention whether we need to round the digits up or Down.\n",
        "\n",
        "# **Python Fraction Module**\n",
        "Python provides a separate module for handling the rational numbers called Fraction Module.\n",
        "\n",
        "\n"
      ],
      "metadata": {
        "id": "jq0rbcjJAIrx"
      }
    },
    {
      "cell_type": "code",
      "source": [
        "import decimal\n",
        "from decimal import *\n",
        "\n",
        "print(Decimal(0.01))\n",
        "print(Decimal('0.05'))\n",
        "print(Decimal((1, (9,9,9,9), -2)))\n",
        "\n",
        "print(Decimal(3) / Decimal(77))\n",
        "\n",
        "from fractions import Fraction\n",
        "#From two integers\n",
        "Fraction(25, -100)\n",
        "#From another fraction\n",
        "Fraction(' -3/7 ')\n",
        "#from a decimal\n",
        "from decimal import Decimal\n",
        "Fraction(Decimal('9.9'))\n",
        "#from a decimal without quotes\n",
        "from decimal import Decimal\n",
        "Fraction(9.1)\n",
        "#Empty Fraction\n",
        "Fraction()\n"
      ],
      "metadata": {
        "colab": {
          "base_uri": "https://localhost:8080/"
        },
        "id": "h2wBGDs_AI0A",
        "outputId": "b5da609c-b36e-4247-f8ec-97c573e4dfe1"
      },
      "execution_count": 7,
      "outputs": [
        {
          "output_type": "stream",
          "name": "stdout",
          "text": [
            "0.01000000000000000020816681711721685132943093776702880859375\n",
            "0.05\n",
            "-99.99\n",
            "0.03896103896103896103896103896\n"
          ]
        },
        {
          "output_type": "execute_result",
          "data": {
            "text/plain": [
              "Fraction(0, 1)"
            ]
          },
          "metadata": {},
          "execution_count": 7
        }
      ]
    },
    {
      "cell_type": "markdown",
      "source": [
        "# **limit_denominator()**\n",
        "Some fractions are lengthy, and we can use the limit_denominator() method to limit the number of digits in the denominator. Let us see this with an example.\n",
        "\n",
        "# **from_float()**\n",
        "We can create fractions from a floating number using the  method.\n",
        "\n",
        "# **ceil() and floor()**\n",
        "We can use the ceil() and floor() methods of the math module to find the nearest integer above or below the fraction value.\n",
        "# **New Section**\n",
        "Printing Numbers in different Formats\n",
        "We can print the numbers in different formats using the format function. We can specify the number of digits we want to print after the decimal point in case of a float number. With the help of the format function and padding operator, we can specify the space after the sign in case of a negative integer."
      ],
      "metadata": {
        "id": "WO-BsA7IBRTz"
      }
    },
    {
      "cell_type": "code",
      "source": [
        "from fractions import Fraction\n",
        "import math\n",
        "#Fraction(math.pi).limit_denominator(100)\n",
        "f=Fraction(math.pi).limit_denominator(100)\n",
        "print(\"The fraction created is::\",f)\n",
        "print(\"Numerator::\",f.numerator)\n",
        "\n",
        "import math\n",
        "math.ceil(Fraction(300, 124))\n",
        "\n",
        "print(\"Total 6 digits with 4 after the decimal point :::\")\n",
        "print('{:06.4f}'.format(3.141592653589793))\n",
        "\n",
        "print(\"6 digits including the sign:::\")\n",
        "print('{:=6d}'.format((- 234)))"
      ],
      "metadata": {
        "colab": {
          "base_uri": "https://localhost:8080/"
        },
        "id": "xTz5ycXgBTQB",
        "outputId": "17b6c269-3d03-458c-ef5a-c9e915ee5427"
      },
      "execution_count": 8,
      "outputs": [
        {
          "output_type": "stream",
          "name": "stdout",
          "text": [
            "The fraction created is:: 311/99\n",
            "Numerator:: 311\n",
            "Total 6 digits with 4 after the decimal point :::\n",
            "3.1416\n",
            "6 digits including the sign:::\n",
            "-  234\n"
          ]
        }
      ]
    },
    {
      "cell_type": "markdown",
      "source": [
        "# **Summary of all the Methods**\n",
        "Method\tDescription\n",
        "\n",
        "ceil()\tTo round the number UP to the nearest integer value\n",
        "\n",
        "floor()\tTo round a number DOWN to the nearest integer value.\n",
        "\n",
        "degrees()\tTo convert the angle in radians to degrees.\n",
        "\n",
        "radians()\tTo convert the angle in degrees to radians.\n",
        "\n",
        "factorial()\tTo find the factorial of any positive integer\n",
        "\n",
        "fabs() \tTo find a number’s absolute value as a float.\n",
        "\n",
        "trunc() \tTo truncate a number to its nearest integer\n",
        "\n",
        "pow() \tAccepts two arguments, x, and y, and returns the value of x raised to power y\n",
        "\n",
        "isfinite() and isinf() \tTo find whether a number is finite or not\n",
        "\n",
        "isclose() \tTo find whether two numbers are close or not using\n",
        "\n",
        "getcontext() \tTo set the precision of a decimal and set the flags to mention to round the digits up or Down.\n",
        "\n",
        "limit_denominator() \tTo limit the number of digits in the denominator.\n",
        "\n",
        "from_float() \tTo create fractions from a floating number"
      ],
      "metadata": {
        "id": "MJbXPHwnBnHD"
      }
    }
  ]
}