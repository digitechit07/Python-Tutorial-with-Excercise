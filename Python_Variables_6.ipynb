{
  "nbformat": 4,
  "nbformat_minor": 0,
  "metadata": {
    "colab": {
      "provenance": [],
      "authorship_tag": "ABX9TyOp8ZYeLxh30Z8+Bch8TnS4",
      "include_colab_link": true
    },
    "kernelspec": {
      "name": "python3",
      "display_name": "Python 3"
    },
    "language_info": {
      "name": "python"
    }
  },
  "cells": [
    {
      "cell_type": "markdown",
      "metadata": {
        "id": "view-in-github",
        "colab_type": "text"
      },
      "source": [
        "<a href=\"https://colab.research.google.com/github/digitechit07/Python-Tutorial-with-Excercise/blob/main/Python_Variables_6.ipynb\" target=\"_parent\"><img src=\"https://colab.research.google.com/assets/colab-badge.svg\" alt=\"Open In Colab\"/></a>"
      ]
    },
    {
      "cell_type": "markdown",
      "source": [
        "# **What are Variables in Python**\n",
        "Variables in Python are a core concept in Python programming. They allow you to save data that may be accessed and modified throughout your code. Imagine you have a box where you keep your favorite items, like a book or a toy. In Python, variables work just like that box, but instead of toys, you store data like numbers and text. Learn how variables in Python make your code easier and more organized!\n",
        "\n",
        "\n",
        "Variables in Python are used to store and manage data values in your program. A variable in Python is created by assigning a value to a name, and this value can be changed or used later in the code. With variables in Python, you can work with different data types in Python, such as numbers, strings, or lists, making your code more flexible and efficient.\n",
        "\n",
        "A variable is a named memory location in which a value is stored.\n",
        "Variables are used to store information that will be needed during the program.\n",
        "In Python, you do not need to define a variable before using it.\n",
        "When you assign a value to a variable, it is created.\n",
        "You can change a variable's value at any moment. This will override its previous value."
      ],
      "metadata": {
        "id": "FpY5iTyfGzhK"
      }
    },
    {
      "cell_type": "code",
      "execution_count": null,
      "metadata": {
        "id": "J-IX4Q7DGaLR"
      },
      "outputs": [],
      "source": [
        " age = 25"
      ]
    },
    {
      "cell_type": "markdown",
      "source": [
        "# **Python Variable Naming Conventions**\n",
        "When working with variables in Python, it’s essential to follow proper naming conventions to make your code readable and maintainable. Here are some key rules for naming variables in Python\n",
        "\n",
        "Variable names should start with a letter (a-z, A-Z) or an underscore (_), followed by letters, numbers, or underscores.\n",
        "\n",
        "Variables in Python are case-sensitive, meaning myVariable and myvariable are considered different.\n",
        "\n",
        "Avoid using Python keywords or built-in function names (like print, input, etc.) as variable names in Python.\n",
        "\n",
        "Use descriptive names for variables in Python to make your code easier to understand. For example, use age instead of x.\n",
        "\n",
        "If a variable in Python consists of multiple words, separate them with underscores (snake_case), such as student_score.\n",
        "\n",
        "Try to keep variable names in Python short but meaningful, balancing clarity and brevity. For example, count instead of number_of_items.\n",
        "\n",
        "Declaration and Initialization of Variables in Python\n",
        "Let's break down the declaration and initialization of variables in Python step by step:\n",
        "\n",
        "**1. Declaration of Variables in Python**\n",
        "In Python, you don’t need to explicitly declare a variable in Python before using it. You simply create a variable in Python by assigning a value to it. This is different from other programming languages, where you usually declare a variable before using it."
      ],
      "metadata": {
        "id": "BTtVneIZHBQK"
      }
    },
    {
      "cell_type": "code",
      "source": [
        "age = 25\n",
        " name = \"John\""
      ],
      "metadata": {
        "id": "ItT7DwKVHBXy"
      },
      "execution_count": null,
      "outputs": []
    },
    {
      "cell_type": "markdown",
      "source": [
        "# **2. Initialization of Variables in Python**\n",
        "Initialization means giving a value to a variable in Python at the time of its creation. When you assign a value to a variable in Python, you are initializing it."
      ],
      "metadata": {
        "id": "_-FCHLCHHBey"
      }
    },
    {
      "cell_type": "code",
      "source": [
        " height = 5.9\n",
        " is_student = True"
      ],
      "metadata": {
        "id": "wpUFtH45HBoC"
      },
      "execution_count": null,
      "outputs": []
    },
    {
      "cell_type": "markdown",
      "source": [
        "# **3. Assigning Values to Variables in Python**\n",
        "\n",
        "You assign values to variables in Python using the assignment operator =. The value can be of any data type, such as integers, strings, floats, or booleans."
      ],
      "metadata": {
        "id": "dBvLwfc8HBv7"
      }
    },
    {
      "cell_type": "code",
      "source": [
        "score = 90   # Integer value\n",
        " greeting = \"Hello, World!\"   # String value\n",
        " temperature = 98.6   # Float value\n",
        " is_active = False   # Boolean value"
      ],
      "metadata": {
        "id": "3tt3QAepHB36"
      },
      "execution_count": null,
      "outputs": []
    },
    {
      "cell_type": "markdown",
      "source": [
        "# **4. No Explicit Declaration in Python**\n",
        "Unlike some other languages, you don't have to specify the data type of a variable in Python explicitly. Python automatically understands the type based on the value assigned to the variables in Python."
      ],
      "metadata": {
        "id": "y69IwDc6HB_6"
      }
    },
    {
      "cell_type": "code",
      "source": [
        " number = 10   # Python understands this as an integer\n",
        " name = \"Aman\"   # Python understands this as a string"
      ],
      "metadata": {
        "id": "kDpbYw1SHCIK"
      },
      "execution_count": null,
      "outputs": []
    },
    {
      "cell_type": "markdown",
      "source": [
        "# **1. Expressions with Variables in Python**\n",
        "Expressions are small formulas in coding that are used to perform calculations. These calculations are done using numbers, operators, and variables in Pytho"
      ],
      "metadata": {
        "id": "Zs1eBUcOHCNa"
      }
    },
    {
      "cell_type": "code",
      "source": [
        "a = 10\n",
        "b = 20\n",
        "result = a + b\n",
        "print(result)"
      ],
      "metadata": {
        "id": "HUhSe3qVHCSy"
      },
      "execution_count": null,
      "outputs": []
    },
    {
      "cell_type": "markdown",
      "source": [
        "# **2. Counting Things (Counters)**\n",
        "A counter is a variable in Python that increases step by step. It is commonly used inside loops."
      ],
      "metadata": {
        "id": "mIN7D6cPHCYr"
      }
    },
    {
      "cell_type": "code",
      "source": [
        "count = 0\n",
        "for i in range(5):\n",
        "    count += 1\n",
        "print(\"Count is:\", count)"
      ],
      "metadata": {
        "id": "epz-iwlrHCd6"
      },
      "execution_count": null,
      "outputs": []
    },
    {
      "cell_type": "markdown",
      "source": [
        "# **3. Adding Repeated Values (Accumulators)**\n",
        "Accumulators are variables in Python used to collect a running total of values inside loops."
      ],
      "metadata": {
        "id": "D0PywRGBIIz2"
      }
    },
    {
      "cell_type": "code",
      "source": [
        "total = 0\n",
        "for num in [5, 10, 15]:\n",
        "    total += num\n",
        "print(\"Total sum is:\", total)"
      ],
      "metadata": {
        "id": "_P4tDM4III6W"
      },
      "execution_count": null,
      "outputs": []
    },
    {
      "cell_type": "markdown",
      "source": [
        "# **4. Using Temporary Variables**\n",
        "A temporary variable in Python holds data temporarily while values are being swapped or changed."
      ],
      "metadata": {
        "id": "14dMWUnqIJAu"
      }
    },
    {
      "cell_type": "code",
      "source": [
        "x = 5\n",
        "y = 10\n",
        "temp = x\n",
        "x = y\n",
        "y = temp\n",
        "print(\"x =\", x)\n",
        "print(\"y =\", y)"
      ],
      "metadata": {
        "id": "0363BENKIJIu"
      },
      "execution_count": null,
      "outputs": []
    },
    {
      "cell_type": "markdown",
      "source": [
        "# **5. True/False Checking (Boolean Flags)**\n",
        "A boolean flag is a variable in Python that tells us if something is true or false."
      ],
      "metadata": {
        "id": "tmOMqwiMIJTO"
      }
    },
    {
      "cell_type": "code",
      "source": [
        "found = False\n",
        "for item in [1, 2, 3]:\n",
        "    if item == 2:\n",
        "        found = True\n",
        "print(\"Found 2?\", found)"
      ],
      "metadata": {
        "id": "9Kn5ZzF1IJbG"
      },
      "execution_count": null,
      "outputs": []
    },
    {
      "cell_type": "markdown",
      "source": [
        "# **6. Loop Helper Variables**\n",
        "Loop helper variables in Python help you repeat actions for multiple items in a list."
      ],
      "metadata": {
        "id": "k0pSUxbdIJhV"
      }
    },
    {
      "cell_type": "code",
      "source": [
        "for fruit in [\"apple\", \"banana\", \"cherry\"]:\n",
        "    print(fruit)"
      ],
      "metadata": {
        "id": "2jGDpqE6IJoX"
      },
      "execution_count": null,
      "outputs": []
    },
    {
      "cell_type": "markdown",
      "source": [
        "# **7. Data Storage Using Variables in Python**\n",
        "You can use variables in Python to store and manage big data using lists and dictionaries."
      ],
      "metadata": {
        "id": "hBBo44WnIJwG"
      }
    },
    {
      "cell_type": "code",
      "source": [
        "students = [\"Aman\", \"Riya\"]\n",
        "marks = {\"Aman\": 90, \"Riya\": 85}\n",
        "print(\"Students:\", students)\n",
        "print(\"Marks:\", marks)"
      ],
      "metadata": {
        "id": "Mtxwg2MrIJ1u"
      },
      "execution_count": null,
      "outputs": []
    },
    {
      "cell_type": "markdown",
      "source": [
        "# **1. How Variables in Python Point to Data Objects**\n",
        "One of the special things about variables in Python is that they store references to data objects rather than the actual data itself. When you assign a value to a variable in Python, you're not copying the data; you're pointing to it."
      ],
      "metadata": {
        "id": "FQ9AX_IZIJ8d"
      }
    },
    {
      "cell_type": "code",
      "source": [
        "x = [1, 2, 3]\n",
        "y = x\n",
        "y.append(4)\n",
        "print(x)\n"
      ],
      "metadata": {
        "id": "6h9FtqyFIKC3"
      },
      "execution_count": null,
      "outputs": []
    },
    {
      "cell_type": "markdown",
      "source": [
        "# **2. Why Variables in Python Can Change Their Data Type**\n",
        "Another great feature of variables in Python is that they are dynamically typed. This means you don't need to declare a data type before using a variable. A variable in Python can first store an integer and then store a string, all without any errors. This makes variables in Python very flexible for both beginners and advanced programmers."
      ],
      "metadata": {
        "id": "Ri3TLaN8IKI2"
      }
    },
    {
      "cell_type": "code",
      "source": [
        "data = 100     # data is an integer\n",
        "data = \"hello\" # now data is a string\n",
        "print(data)\n"
      ],
      "metadata": {
        "id": "-rZfFV7SIKO2"
      },
      "execution_count": null,
      "outputs": []
    },
    {
      "cell_type": "markdown",
      "source": [
        "# **3. Using Type Hints to Describe Variables in Python**\n",
        "While variables in Python don’t require a declared type, you can still use type hints to make your code easier to read. Type hints show what kind of data each variable in Python is expected to store.\n"
      ],
      "metadata": {
        "id": "qfSIhwx9IKVY"
      }
    },
    {
      "cell_type": "code",
      "source": [
        "name: str = \"Aman\"\n",
        "age: int = 22\n",
        "print(\"My name is\", name)\n",
        "print(\"I am\", age, \"years old.\")\n"
      ],
      "metadata": {
        "id": "wZlQDGY9IKbe"
      },
      "execution_count": null,
      "outputs": []
    },
    {
      "cell_type": "markdown",
      "source": [
        "# 1. Global, Local, and Non-Local Variables\n",
        "In Python, the scope of variables in Python determines where they are accessible. A global variable in Python can be used anywhere in the code, while a local variable in Python is confined to the function or block where it’s defined. Non-local variables in Python are used within nested functions to refer to a variable in the enclosing (but non-global) scope."
      ],
      "metadata": {
        "id": "tGhVnuNNJGxZ"
      }
    },
    {
      "cell_type": "code",
      "source": [
        "x = \"global\"\n",
        "def outer():\n",
        "    x = \"non-local\"\n",
        "    def inner():\n",
        "        nonlocal x\n",
        "        x = \"local to outer\"\n",
        "    inner()\n",
        "    print(\"Outer x:\", x)\n",
        "outer()\n",
        "print(\"Global x:\", x)\n"
      ],
      "metadata": {
        "id": "cdDtkj64JG5o"
      },
      "execution_count": null,
      "outputs": []
    },
    {
      "cell_type": "markdown",
      "source": [
        "# **2. Class and Instance Variables (Attributes)**\n",
        "In object-oriented programming with Python, variables in Python can be either class variables or instance variables. Class variables are shared by all instances of a class, while instance variables are specific to each instance of the class. This distinction helps you manage how data is stored and accessed in an object-oriented design."
      ],
      "metadata": {
        "id": "iEzdRoGuJHAI"
      }
    },
    {
      "cell_type": "code",
      "source": [
        "class Student:\n",
        "    school = \"ABC School\"  # class variable\n",
        "    def __init__(self, name):\n",
        "        self.name = name    # instance variable\n",
        "s1 = Student(\"Ram\")\n",
        "s2 = Student(\"Shyam\")\n",
        "print(s1.name, \"-\", s1.school)\n",
        "print(s2.name, \"-\", s2.school)\n"
      ],
      "metadata": {
        "id": "prReevEJJHHp"
      },
      "execution_count": null,
      "outputs": []
    },
    {
      "cell_type": "markdown",
      "source": [
        "# **3. Deleting Variables From Their Scope**\n",
        "In Python, you can use the del keyword to remove variables in Python from their scope. This is particularly useful when you want to free up memory or ensure that a variable in Python is no longer accessible. Once a variable in Python is deleted, trying to access it will raise an error."
      ],
      "metadata": {
        "id": "DQdqmByOJHYg"
      }
    },
    {
      "cell_type": "code",
      "source": [
        "x = 10\n",
        "print(\"Before deleting:\", x)\n",
        "del x\n",
        "# print(x)  # This will give an error if uncommented\n"
      ],
      "metadata": {
        "id": "tVS1SfYOJHkg"
      },
      "execution_count": null,
      "outputs": []
    },
    {
      "cell_type": "markdown",
      "source": [
        "# **1. Assigning Many Variables at Once**\n",
        "In this method, you can assign values to multiple variables in Python in a single line. It helps when you need to create many variables in Python quickly and cleanly. This is called parallel assignment and is one of the simplest ways to use variables in Python in a neat format."
      ],
      "metadata": {
        "id": "CjtJzGkOJHwX"
      }
    },
    {
      "cell_type": "code",
      "source": [
        "a, b, c = 10, 20, 30\n",
        "print(\"a =\", a)\n",
        "print(\"b =\", b)\n",
        "print(\"c =\", c)\n"
      ],
      "metadata": {
        "id": "RYSsEc-1JH2Y"
      },
      "execution_count": null,
      "outputs": []
    },
    {
      "cell_type": "markdown",
      "source": [
        "# **2. Unpacking Values from Lists or Tuples**\n",
        "Another cool way to use variables in Python is to unpack them from a list or tuple. When you have a group of values, you can assign them to different variables in Python in one go. This keeps your code short and easy to read, and it's very common in real Python projects that use variables in Python a lot."
      ],
      "metadata": {
        "id": "vlUpzNR6JhMS"
      }
    },
    {
      "cell_type": "code",
      "source": [
        "fruits = [\"apple\", \"banana\", \"cherry\"]\n",
        "x, y, z = fruits\n",
        "print(x)\n",
        "print(y)\n",
        "print(z)\n"
      ],
      "metadata": {
        "id": "XpCLeVrkJhjC"
      },
      "execution_count": null,
      "outputs": []
    },
    {
      "cell_type": "markdown",
      "source": [
        "# **3. Creating and Using Variables in One Step**\n",
        "You can also create variables in Python while using them inside an expression. This is called an assignment expression or \"walrus operator\". It helps when you want to use the value of variables in Python as soon as they are created, especially inside loops or conditions. This method saves time and space while handling variables in Python."
      ],
      "metadata": {
        "id": "roWBpnt3Jh_1"
      }
    },
    {
      "cell_type": "code",
      "source": [
        "if (n := 5) > 3:\n",
        "    print(\"n is greater than 3:\", n)"
      ],
      "metadata": {
        "id": "fjCjrP8SJiKb"
      },
      "execution_count": null,
      "outputs": []
    }
  ]
}