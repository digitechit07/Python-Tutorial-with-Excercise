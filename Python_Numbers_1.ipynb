{
  "nbformat": 4,
  "nbformat_minor": 0,
  "metadata": {
    "colab": {
      "provenance": [],
      "authorship_tag": "ABX9TyOHWrcYFGlfwruEWu9/FrjL",
      "include_colab_link": true
    },
    "kernelspec": {
      "name": "python3",
      "display_name": "Python 3"
    },
    "language_info": {
      "name": "python"
    }
  },
  "cells": [
    {
      "cell_type": "markdown",
      "metadata": {
        "id": "view-in-github",
        "colab_type": "text"
      },
      "source": [
        "<a href=\"https://colab.research.google.com/github/digitechit07/Python-Tutorial-with-Excercise/blob/main/Python_Numbers_1.ipynb\" target=\"_parent\"><img src=\"https://colab.research.google.com/assets/colab-badge.svg\" alt=\"Open In Colab\"/></a>"
      ]
    },
    {
      "cell_type": "markdown",
      "source": [
        "# **Python provides three core numeric types for handling numerical data:**\n",
        "Integers (int): These represent whole numbers, positive, negative, or zero, without any decimal component. Python integers have arbitrary precision, meaning their size is limited only by available memory."
      ],
      "metadata": {
        "id": "5Jk0j11ovPvf"
      }
    },
    {
      "cell_type": "code",
      "execution_count": 1,
      "metadata": {
        "colab": {
          "base_uri": "https://localhost:8080/"
        },
        "id": "3b_maXSrvKyN",
        "outputId": "9b88dce1-258f-46fd-aaf8-99ec5e5db494"
      },
      "outputs": [
        {
          "output_type": "stream",
          "name": "stdout",
          "text": [
            "<class 'int'>\n"
          ]
        }
      ],
      "source": [
        "    x = 10\n",
        "    y = -5\n",
        "    z = 0\n",
        "    print(type(x)) # Output: <class 'int'>"
      ]
    },
    {
      "cell_type": "markdown",
      "source": [
        "# **Floating-point numbers (float): **\n",
        "\n",
        "These represent real numbers with a decimal point. They can be positive, negative, or zero, and can also be expressed in scientific notation (e.g., 1.23e-4). Floats in Python are typically implemented using double-precision floating-point numbers, offering high precision but with a limited size.**"
      ],
      "metadata": {
        "id": "FtlvWZBwvTc3"
      }
    },
    {
      "cell_type": "code",
      "source": [
        "    a = 3.14\n",
        "    b = -0.5\n",
        "    c = 1.2e-5 # 0.000012\n",
        "    print(type(a)) # Output: <class 'float'>"
      ],
      "metadata": {
        "colab": {
          "base_uri": "https://localhost:8080/"
        },
        "id": "fV8_L9NVvTmP",
        "outputId": "149a2e84-90bb-4a27-d765-5dd6ceec2a54"
      },
      "execution_count": 2,
      "outputs": [
        {
          "output_type": "stream",
          "name": "stdout",
          "text": [
            "<class 'float'>\n"
          ]
        }
      ]
    },
    {
      "cell_type": "markdown",
      "source": [
        "# **Complex numbers (complex): **\n",
        "These represent numbers with a real and an imaginary part, expressed in the form a + bj, where a is the real part, b is the imaginary part, and j represents the imaginary unit (square root of -1)."
      ],
      "metadata": {
        "id": "rNCbXqgxvTtn"
      }
    },
    {
      "cell_type": "code",
      "source": [
        "    p = 2 + 3j\n",
        "    q = -1j\n",
        "    print(type(p)) # Output: <class 'complex'>"
      ],
      "metadata": {
        "colab": {
          "base_uri": "https://localhost:8080/"
        },
        "id": "QtCReMBpvT1X",
        "outputId": "6524b556-d466-4889-ea70-d0ce5e058bd9"
      },
      "execution_count": 3,
      "outputs": [
        {
          "output_type": "stream",
          "name": "stdout",
          "text": [
            "<class 'complex'>\n"
          ]
        }
      ]
    },
    {
      "cell_type": "markdown",
      "source": [
        "# **Python Numbers**\n",
        "There are three numeric types in Python:\n",
        "\n",
        "int\n",
        "float\n",
        "complex"
      ],
      "metadata": {
        "id": "Y9b4kgW-vT73"
      }
    },
    {
      "cell_type": "code",
      "source": [
        "x = 1\n",
        "y = 35656222554887711\n",
        "z = -3255522\n",
        "\n",
        "print(type(x))\n",
        "print(type(y))\n",
        "print(type(z))\n",
        "\n",
        "x = 1.10\n",
        "y = 1.0\n",
        "z = -35.59\n",
        "\n",
        "print(type(x))\n",
        "print(type(y))\n",
        "print(type(z))\n",
        "\n",
        "\n",
        "x = 35e3\n",
        "y = 12E4\n",
        "z = -87.7e100\n",
        "\n",
        "print(type(x))\n",
        "print(type(y))\n",
        "print(type(z))\n",
        "\n",
        "\n",
        "x = 3+5j\n",
        "y = 5j\n",
        "z = -5j\n",
        "\n",
        "print(type(x))\n",
        "print(type(y))\n",
        "print(type(z))\n",
        "\n",
        "\n",
        "x = 1    # int\n",
        "y = 2.8  # float\n",
        "z = 1j   # complex\n",
        "\n",
        "#convert from int to float:\n",
        "a = float(x)\n",
        "\n",
        "#convert from float to int:\n",
        "b = int(y)\n",
        "\n",
        "#convert from int to complex:\n",
        "c = complex(x)\n",
        "\n",
        "print(a)\n",
        "print(b)\n",
        "print(c)\n",
        "\n",
        "print(type(a))\n",
        "print(type(b))\n",
        "print(type(c))"
      ],
      "metadata": {
        "colab": {
          "base_uri": "https://localhost:8080/"
        },
        "id": "2SgRw--zvUDI",
        "outputId": "fb4303a1-e9ca-4d71-de33-119802acb3a4"
      },
      "execution_count": 4,
      "outputs": [
        {
          "output_type": "stream",
          "name": "stdout",
          "text": [
            "<class 'int'>\n",
            "<class 'int'>\n",
            "<class 'int'>\n",
            "<class 'float'>\n",
            "<class 'float'>\n",
            "<class 'float'>\n",
            "<class 'float'>\n",
            "<class 'float'>\n",
            "<class 'float'>\n",
            "<class 'complex'>\n",
            "<class 'complex'>\n",
            "<class 'complex'>\n",
            "1.0\n",
            "2\n",
            "(1+0j)\n",
            "<class 'float'>\n",
            "<class 'int'>\n",
            "<class 'complex'>\n"
          ]
        }
      ]
    },
    {
      "cell_type": "markdown",
      "source": [
        "# **Random Number**\n",
        "Python does not have a random() function to make a random number, but Python has a built-in module called random that can be used to make random numbers:"
      ],
      "metadata": {
        "id": "YfHzkDTovUJY"
      }
    },
    {
      "cell_type": "code",
      "source": [
        "import random\n",
        "\n",
        "print(random.randrange(1, 10))"
      ],
      "metadata": {
        "colab": {
          "base_uri": "https://localhost:8080/"
        },
        "id": "AIO_FN8ovUPp",
        "outputId": "c98e1c02-eea6-436a-820d-e3b30baf7655"
      },
      "execution_count": 7,
      "outputs": [
        {
          "output_type": "stream",
          "name": "stdout",
          "text": [
            "6\n"
          ]
        }
      ]
    },
    {
      "cell_type": "markdown",
      "source": [
        "# **Python Numbers**\n",
        "\n",
        "In Python, numbers are a core data-type essential for performing arithmetic operations and calculations. Python supports three types of numbers, including integers, floating-point numbers and complex numbers. Here's an overview of each:"
      ],
      "metadata": {
        "id": "Z7RHrgCqzUjU"
      }
    },
    {
      "cell_type": "code",
      "source": [
        "a = 4 # integer\n",
        "b = 4.5 # float\n",
        "c = 4j # complex number\n",
        "\n",
        "print(type(a))\n",
        "print(type(b))\n",
        "print(type(c))"
      ],
      "metadata": {
        "colab": {
          "base_uri": "https://localhost:8080/"
        },
        "id": "QwTjwTo6zUrc",
        "outputId": "5bb2ca20-3b7d-439d-bc62-fa4afd5767fd"
      },
      "execution_count": 8,
      "outputs": [
        {
          "output_type": "stream",
          "name": "stdout",
          "text": [
            "<class 'int'>\n",
            "<class 'float'>\n",
            "<class 'complex'>\n"
          ]
        }
      ]
    },
    {
      "cell_type": "markdown",
      "source": [
        "Python Integer\n",
        "\n",
        "Python Float\n",
        "\n",
        "Python Complex\n",
        "\n",
        "Type Conversion in Python\n",
        "\n",
        "Random Numbers\n",
        "\n",
        "Special Numbers in Python"
      ],
      "metadata": {
        "id": "vp-ULm5TzpaG"
      }
    },
    {
      "cell_type": "code",
      "source": [
        "x = 5      # A positive integer\n",
        "y = -23    # A negative integer\n",
        "z = 0      # Zero is also considered an integer\n",
        "\n",
        "# Addition\n",
        "res = 5 + 3    # Output: 8\n",
        "\n",
        "# Subtraction\n",
        "res = 10 - 4   # Output: 6\n",
        "\n",
        "# Multiplication\n",
        "res = 7 * 6    # Output: 42\n",
        "\n",
        "# Division\n",
        "res = 15 / 4   # Output: 3.75\n",
        "\n",
        "# Floor Division\n",
        "res = 15 // 4  # Output: 3\n",
        "\n",
        "# Modulus (%)\n",
        "res = 15 % 4   # Output: 3 (because 15 divided by 4 gives remainder 3)\n",
        "\n",
        "# Exponentiation (**)\n",
        "res = 2 ** 3   # Output: 8 (because 2 raised to the power of 3 is 8)\n",
        "\n",
        "# Absolute Value (abs)\n",
        "res = abs(-10) # Output: 10 (absolute value of -10)\n",
        "\n",
        "# Round (round)\n",
        "res = round(3.14159, 2)  # Output: 3.14 (rounds to 2 decimal places)\n",
        "a = 3.14      # A positive float\n",
        "b = -0.99     # A negative float\n",
        "c = 0.0       # A float value that represents zero\n",
        "\n",
        "# Addition (float)\n",
        "res = 3.5 + 2.2   # Output: 5.7\n",
        "\n",
        "# Subtraction (float)\n",
        "res = 7.8 - 4.3   # Output: 3.5\n",
        "\n",
        "# Multiplication (float)\n",
        "res = 5.5 * 2.0   # Output: 11.0\n",
        "\n",
        "# Division (float)\n",
        "res = 9.0 / 4.5   # Output: 2.0\n",
        "\n",
        "# Floor Division (float)\n",
        "res = 9.0 // 4.5  # Output: 2.0 (it returns the truncated quotient)\n",
        "\n",
        "# Modulus (%) (float)\n",
        "res = 9.0 % 4.5   # Output: 0.0 (remainder when divided)\n",
        "\n",
        "# Exponentiation (float)\n",
        "res = 2.5 ** 2    # Output: 6.25 (2.5 raised to the power of 2)\n",
        "\n",
        "# Absolute Value (float)\n",
        "res = abs(-7.4)   # Output: 7.4 (absolute value)\n",
        "\n",
        "# Round (float)\n",
        "res = round(3.14159, 2)  # Output: 3.14 (rounds to 2 decimal places)\n",
        "\n",
        "# Addition (complex)\n",
        "res = (3 + 4j) + (1 + 2j)   # Output: (4 + 6j)\n",
        "\n",
        "# Subtraction (complex)\n",
        "res = (5 + 6j) - (2 + 3j)   # Output: (3 + 3j)\n",
        "\n",
        "# Multiplication (complex)\n",
        "res = (2 + 3j) * (1 + 4j)   # Output: (-10 + 11j)\n",
        "\n",
        "# Division (complex)\n",
        "res = (8 + 6j) / (2 + 3j)   # Output: (2.0 + 0.0j)\n",
        "\n",
        "# Exponentiation (complex)\n",
        "res = (1 + 1j) ** 2    # Output: (0 + 2j) (raises the complex number to the power of 2)\n",
        "\n",
        "# Absolute Value (complex)\n",
        "res = abs(3 + 4j)   # Output: 5.0 (absolute value of a complex number, which is sqrt(3^2 + 4^2))\n",
        "\n",
        "# Conjugate of a complex number\n",
        "res = (3 + 4j).conjugate()   # Output: (3 - 4j) (negates the imaginary part)\n",
        "\n",
        "# Real and Imaginary parts of a complex number\n",
        "real = (3 + 4j).real   # Output: 3.0\n",
        "imag = (3 + 4j).imag   # Output: 4.0\n",
        "\n"
      ],
      "metadata": {
        "id": "PRvEUUMEzpjN"
      },
      "execution_count": 9,
      "outputs": []
    },
    {
      "cell_type": "markdown",
      "source": [
        "# **Using built-in functions and Arithmetic Operations**\n",
        "We can also use built-in functions like int(), float() and complex() to convert into different types explicitly. We can also use operations like addition and subtraction to change the type of number implicitly(automatically), if one of the operands is float."
      ],
      "metadata": {
        "id": "EAQIb2NQz3co"
      }
    },
    {
      "cell_type": "code",
      "source": [
        "#Using Built-In Function\n",
        "a = 2\n",
        "print(float(a))\n",
        "\n",
        "b = 5.6\n",
        "print(int(b))\n",
        "\n",
        "c = '3'\n",
        "print(type(int(c)))\n",
        "\n",
        "d = '5.6'\n",
        "print(type(float(c)))\n",
        "\n",
        "e = 5\n",
        "print(complex(e))\n",
        "\n",
        "f = 6.5\n",
        "print(complex(f))\n",
        "\n",
        "#Using Arithmetic Operations:\n",
        "a = 1.6\n",
        "b = 5\n",
        "\n",
        "c = a + b\n",
        "\n",
        "print(c)\n",
        "\n",
        "# Generating Random Integer\n",
        "import random\n",
        "x = random.randint(1, 100)\n",
        "print(x)\n",
        "\n",
        "# Generating Random FLoating Point Integer\n",
        "x = random.uniform(1.0, 10.0)\n",
        "print(x)\n",
        "\n"
      ],
      "metadata": {
        "colab": {
          "base_uri": "https://localhost:8080/"
        },
        "id": "8lAvSt41z3mg",
        "outputId": "733ef392-2fb9-4dc5-8742-996a76f67ac7"
      },
      "execution_count": 10,
      "outputs": [
        {
          "output_type": "stream",
          "name": "stdout",
          "text": [
            "2.0\n",
            "5\n",
            "<class 'int'>\n",
            "<class 'float'>\n",
            "(5+0j)\n",
            "(6.5+0j)\n",
            "6.6\n",
            "22\n",
            "8.75295872008651\n"
          ]
        }
      ]
    },
    {
      "cell_type": "markdown",
      "source": [
        "# **Special Numbers in Python**\n",
        "Python has some special numeric values that you can encounter, especially when working with scientific computations or handling edge cases.\n",
        "\n",
        "NaN (Not a Number): NaN stands for \"Not a Number\" and is used to represent undefined or unrepresentable values such as the result of dividing 0 by 0.\n",
        "\n",
        "Infinity and -Infinity: Python also supports positive and negative infinity, represented by float('inf') and float('-inf'), respectively. These are useful in various situations, such as when setting bounds for algorithms or detecting overflow conditions."
      ],
      "metadata": {
        "id": "2vq1JDuI0C1g"
      }
    },
    {
      "cell_type": "code",
      "source": [
        "# NaN Example\n",
        "import math\n",
        "n = math.nan\n",
        "print(n)\n",
        "\n",
        "# Infinity and -Infinity Example\n",
        "x = float('inf')\n",
        "y = float('-inf')\n",
        "print(x)\n",
        "print(y)\n",
        "\n"
      ],
      "metadata": {
        "colab": {
          "base_uri": "https://localhost:8080/"
        },
        "id": "Tb8xlPA20C-Q",
        "outputId": "c5ee2a2a-b271-4789-f252-8d7558fa5a2b"
      },
      "execution_count": 11,
      "outputs": [
        {
          "output_type": "stream",
          "name": "stdout",
          "text": [
            "nan\n",
            "inf\n",
            "-inf\n"
          ]
        }
      ]
    },
    {
      "cell_type": "markdown",
      "source": [
        "# **Python Numbers, Type Conversion and Mathematics**\n",
        "The number data types are used to store the numeric values.\n",
        "\n",
        "Python supports integers, floating-point numbers and complex numbers. They are defined as int, float, and complex classes in Python.\n",
        "\n",
        "int - holds signed integers of non-limited length.\n",
        "float - holds floating decimal points and it's accurate up to 15 decimal places.\n",
        "complex - holds complex numbers."
      ],
      "metadata": {
        "id": "Ojz_qKNi0M_5"
      }
    },
    {
      "cell_type": "code",
      "source": [
        "num1 = 5\n",
        "print(num1, 'is of type', type(num1))\n",
        "\n",
        "num2 = 5.42\n",
        "print(num2, 'is of type', type(num2))\n",
        "\n",
        "num3 = 8+2j\n",
        "print(num3, 'is of type', type(num3))\n",
        "\n"
      ],
      "metadata": {
        "colab": {
          "base_uri": "https://localhost:8080/"
        },
        "id": "3B4nFpaX0NIy",
        "outputId": "e4328a28-026d-4183-d1be-2bf200434fb3"
      },
      "execution_count": 12,
      "outputs": [
        {
          "output_type": "stream",
          "name": "stdout",
          "text": [
            "5 is of type <class 'int'>\n",
            "5.42 is of type <class 'float'>\n",
            "(8+2j) is of type <class 'complex'>\n"
          ]
        }
      ]
    },
    {
      "cell_type": "markdown",
      "source": [
        "# **Number Systems**\n",
        "The numbers we deal with every day are of the decimal (base 10) number system.\n",
        "\n",
        "But computer programmers need to work with binary (base 2), hexadecimal (base 16) and octal (base 8) number systems.\n",
        "\n",
        "In Python, we can represent these numbers by appropriately placing a prefix before that number. The following table lists these prefixes.\n",
        "\n",
        "Number System\tPrefix\n",
        "\n",
        "Binary\t0b or 0B\n",
        "\n",
        "Octal\t0o or 0O\n",
        "\n",
        "Hexadecimal\t0x or 0X"
      ],
      "metadata": {
        "id": "6bSt354S0TUs"
      }
    },
    {
      "cell_type": "code",
      "source": [
        "print(0b1101011)  # prints 107\n",
        "\n",
        "print(0xFB + 0b10)  # prints 253\n",
        "\n",
        "print(0o15)  # prints 13\n",
        "\n",
        "print(1 + 2.0) # prints 3.0\n",
        "\n",
        "num1 = int(2.3)\n",
        "print(num1)  # prints 2\n",
        "\n",
        "num2 = int(-2.8)\n",
        "print(num2)  # prints -2\n",
        "\n",
        "num3 = float(5)\n",
        "print(num3) # prints 5.0\n",
        "\n",
        "num4 = complex('3+5j')\n",
        "print(num4)  # prints (3 + 5j)\n",
        "\n",
        "import random\n",
        "\n",
        "print(random.randrange(10, 20))\n",
        "\n",
        "list1 = ['a', 'b', 'c', 'd', 'e']\n",
        "\n",
        "# get random item from list1\n",
        "print(random.choice(list1))\n",
        "\n",
        "# Shuffle list1\n",
        "random.shuffle(list1)\n",
        "\n",
        "# Print the shuffled list1\n",
        "print(list1)\n",
        "\n",
        "# Print random element\n",
        "print(random.random())\n",
        "\n",
        "import math\n",
        "\n",
        "print(math.pi)\n",
        "\n",
        "print(math.cos(math.pi))\n",
        "\n",
        "print(math.exp(10))\n",
        "\n",
        "print(math.log10(1000))\n",
        "\n",
        "print(math.sinh(1))\n",
        "\n",
        "print(math.factorial(6))\n",
        "\n",
        "\n"
      ],
      "metadata": {
        "colab": {
          "base_uri": "https://localhost:8080/"
        },
        "id": "Zxt8yALf0Tbs",
        "outputId": "0d0013f7-16c2-4380-8053-1d92fca9f8c6"
      },
      "execution_count": 14,
      "outputs": [
        {
          "output_type": "stream",
          "name": "stdout",
          "text": [
            "107\n",
            "253\n",
            "13\n",
            "3.0\n",
            "2\n",
            "-2\n",
            "5.0\n",
            "(3+5j)\n",
            "11\n",
            "e\n",
            "['a', 'e', 'd', 'b', 'c']\n",
            "0.9620457801755379\n",
            "3.141592653589793\n",
            "-1.0\n",
            "22026.465794806718\n",
            "3.0\n",
            "1.1752011936438014\n",
            "720\n"
          ]
        }
      ]
    }
  ]
}