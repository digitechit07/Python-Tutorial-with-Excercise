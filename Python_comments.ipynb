{
  "nbformat": 4,
  "nbformat_minor": 0,
  "metadata": {
    "colab": {
      "provenance": [],
      "authorship_tag": "ABX9TyOT+eYtNhK832NjpuJqdcXZ",
      "include_colab_link": true
    },
    "kernelspec": {
      "name": "python3",
      "display_name": "Python 3"
    },
    "language_info": {
      "name": "python"
    }
  },
  "cells": [
    {
      "cell_type": "markdown",
      "metadata": {
        "id": "view-in-github",
        "colab_type": "text"
      },
      "source": [
        "<a href=\"https://colab.research.google.com/github/digitechit07/Python-Tutorial-with-Excercise/blob/main/Python_comments.ipynb\" target=\"_parent\"><img src=\"https://colab.research.google.com/assets/colab-badge.svg\" alt=\"Open In Colab\"/></a>"
      ]
    },
    {
      "cell_type": "markdown",
      "source": [
        "# **Python comments**\n",
        "Python comments are non-executable lines within code used to explain its purpose, logic, or any other relevant information for human readers. The Python interpreter ignores comments during program execution.\n",
        "\n",
        "# **Creating Comments:**\n",
        "\n",
        "Single-line comments: These are created by placing a hash symbol (#) at the beginning of the comment text. Anything following the # on the same line is treated as a comment."
      ],
      "metadata": {
        "id": "h2EVrJureblJ"
      }
    },
    {
      "cell_type": "code",
      "execution_count": null,
      "metadata": {
        "id": "i9GNiV2deaCa"
      },
      "outputs": [],
      "source": [
        "    # This is a single-line comment\n",
        "    print(\"Hello, World!\") # This is an inline comment"
      ]
    },
    {
      "cell_type": "markdown",
      "source": [
        "# **Multi-line comments: **\n",
        "Python does not have a dedicated syntax for multi-line comments. However, multi-line strings (enclosed in triple quotes, \"\"\" or ''') that are not assigned to a variable are effectively ignored by the interpreter and can serve as multi-line comments."
      ],
      "metadata": {
        "id": "ZiL1ajule1Vd"
      }
    },
    {
      "cell_type": "code",
      "source": [
        "    \"\"\"\n",
        "    This is a multi-line comment.\n",
        "    It can span across multiple lines.\n",
        "    \"\"\"\n",
        "    print(\"Welcome to Python!\")"
      ],
      "metadata": {
        "colab": {
          "base_uri": "https://localhost:8080/"
        },
        "id": "bC-dwwf8e1dt",
        "outputId": "df3bd754-0050-4025-fa8b-e825a20c7f3e"
      },
      "execution_count": 1,
      "outputs": [
        {
          "output_type": "stream",
          "name": "stdout",
          "text": [
            "Welcome to Python!\n"
          ]
        }
      ]
    },
    {
      "cell_type": "markdown",
      "source": [
        "Alternatively, one can achieve multi-line comments by placing a hash symbol (#) at the beginning of each line intended as a comment."
      ],
      "metadata": {
        "id": "v2_QZ-Vme1ld"
      }
    },
    {
      "cell_type": "code",
      "source": [
        "    # This is another way\n",
        "    # to create multi-line comments\n",
        "    # by using hash on each line.\n",
        "    print(\"Example.\")"
      ],
      "metadata": {
        "id": "36bFiN97e1sF"
      },
      "execution_count": null,
      "outputs": []
    },
    {
      "cell_type": "markdown",
      "source": [
        "# Purpose of Comments:\n",
        "Enhance readability: Comments help make code more understandable for the original author and others who may read or maintain the code.\n",
        "\n",
        "**Explain complex logic**: They can be used to clarify intricate algorithms or unconventional coding patterns.\n",
        "\n",
        "**Document code:** Comments can provide information about function parameters, return values, or the overall design of a program.\n",
        "\n",
        "**Debug and test:** Comments can temporarily disable sections of code during testing or debugging without deleting them.\n",
        "\n",
        "Notes and reminders: They serve as reminders for future tasks, potential improvements, or any other notes related to the code."
      ],
      "metadata": {
        "id": "GAfFQSi8e1ym"
      }
    },
    {
      "cell_type": "code",
      "source": [
        "#This is a comment\n",
        "print(\"Hello, World!\")"
      ],
      "metadata": {
        "colab": {
          "base_uri": "https://localhost:8080/"
        },
        "id": "WPxTzMwZe132",
        "outputId": "cd046d7b-da81-4dd7-8970-aca9d7268b29"
      },
      "execution_count": 3,
      "outputs": [
        {
          "output_type": "stream",
          "name": "stdout",
          "text": [
            "Hello, World!\n"
          ]
        }
      ]
    },
    {
      "cell_type": "markdown",
      "source": [
        "# **Creating a Comment**\n",
        "Comments starts with a #, and Python will ignore them:\n",
        "\n",
        "ExampleGet your own Python Server\n",
        "#This is a comment\n",
        "print(\"Hello, World!\")\n",
        "Comments can be placed at the end of a line, and Python will ignore the rest of the line:\n",
        "\n",
        "Example\n",
        "print(\"Hello, World!\") #This is a comment\n",
        "A comment does not have to be text that explains the code, it can also be used to prevent Python from executing code:\n",
        "\n",
        "Example\n",
        "#print(\"Hello, World!\")\n",
        "print(\"Cheers, Mate!\")\n"
      ],
      "metadata": {
        "id": "eJCXWOlNe1_l"
      }
    },
    {
      "cell_type": "code",
      "source": [
        "#This is a comment\n",
        "#written in\n",
        "#more than just one line\n",
        "print(\"Hello, World!\")"
      ],
      "metadata": {
        "colab": {
          "base_uri": "https://localhost:8080/"
        },
        "id": "XX5wGrgZe2Fu",
        "outputId": "34d83971-f5f7-48e3-da9d-52d4d892b298"
      },
      "execution_count": 4,
      "outputs": [
        {
          "output_type": "stream",
          "name": "stdout",
          "text": [
            "Hello, World!\n"
          ]
        }
      ]
    },
    {
      "cell_type": "markdown",
      "source": [
        "# **Multiline Comments**\n",
        "Python does not really have a syntax for multiline comments.\n",
        "\n",
        "To add a multiline comment you could insert a # for each line:\n",
        "\n",
        "Example\n",
        "#This is a comment\n",
        "#written in\n",
        "#more than just one line\n",
        "print(\"Hello, World!\")\n",
        "Or, not quite as intended, you can use a multiline string.\n",
        "\n",
        "Since Python will ignore string literals that are not assigned to a variable, you can add a multiline string (triple quotes) in your code, and place your comment inside it:\n",
        "\n",
        "Example\n",
        "\"\"\"\n",
        "This is a comment\n",
        "written in\n",
        "more than just one line\n",
        "\"\"\"\n",
        "print(\"Hello, World!\")"
      ],
      "metadata": {
        "id": "HziW_tzOe2L1"
      }
    },
    {
      "cell_type": "code",
      "source": [],
      "metadata": {
        "id": "odhDRfPoe2RG"
      },
      "execution_count": null,
      "outputs": []
    },
    {
      "cell_type": "markdown",
      "source": [],
      "metadata": {
        "id": "r8KPBHbne2Wm"
      }
    },
    {
      "cell_type": "code",
      "source": [],
      "metadata": {
        "id": "F9b0RaS6e2bN"
      },
      "execution_count": null,
      "outputs": []
    }
  ]
}