{
  "nbformat": 4,
  "nbformat_minor": 0,
  "metadata": {
    "colab": {
      "provenance": [],
      "authorship_tag": "ABX9TyNc3pTMGgIxQByFUf0ayPnZ",
      "include_colab_link": true
    },
    "kernelspec": {
      "name": "python3",
      "display_name": "Python 3"
    },
    "language_info": {
      "name": "python"
    }
  },
  "cells": [
    {
      "cell_type": "markdown",
      "metadata": {
        "id": "view-in-github",
        "colab_type": "text"
      },
      "source": [
        "<a href=\"https://colab.research.google.com/github/digitechit07/Python-Tutorial-with-Excercise/blob/main/Python_Comments_1.ipynb\" target=\"_parent\"><img src=\"https://colab.research.google.com/assets/colab-badge.svg\" alt=\"Open In Colab\"/></a>"
      ]
    },
    {
      "cell_type": "markdown",
      "source": [
        "# **Creating Comments:**\n",
        "Single-line comments: Begin with a hash symbol (#). Anything following the # on the same line is considered a comment."
      ],
      "metadata": {
        "id": "oA1HnSZNa2Y-"
      }
    },
    {
      "cell_type": "code",
      "execution_count": 1,
      "metadata": {
        "colab": {
          "base_uri": "https://localhost:8080/"
        },
        "id": "czwRNF5cajQQ",
        "outputId": "dcb46aa1-923b-478b-9738-722b29837610"
      },
      "outputs": [
        {
          "output_type": "stream",
          "name": "stdout",
          "text": [
            "Hello, world!\n"
          ]
        }
      ],
      "source": [
        "    # This is a single-line comment\n",
        "    print(\"Hello, world!\")  # This is an inline comment after code\n"
      ]
    },
    {
      "cell_type": "markdown",
      "source": [
        "# **Multi-line comments (simulated): **\n",
        "Python does not have a specific syntax for multi-line comments like some other languages. However, they can be simulated in two common ways:\n",
        "Multiple single-line comments: Place a # at the beginning of each line of the comment."
      ],
      "metadata": {
        "id": "W59mLYZZa4QV"
      }
    },
    {
      "cell_type": "code",
      "source": [
        "        # This is a multi-line comment\n",
        "        # written across several lines.\n",
        "        print(\"Example.\")"
      ],
      "metadata": {
        "colab": {
          "base_uri": "https://localhost:8080/"
        },
        "id": "3e6JGe8Ga-ZN",
        "outputId": "8e0557b9-194f-483b-a452-1c906063c59e"
      },
      "execution_count": 2,
      "outputs": [
        {
          "output_type": "stream",
          "name": "stdout",
          "text": [
            "Example.\n"
          ]
        }
      ]
    },
    {
      "cell_type": "markdown",
      "source": [
        "# **Unassigned multi-line strings (docstrings): **\n",
        "Use triple quotes (\"\"\" or ''') to enclose the comment. If this multi-line string is not assigned to a variable or used as a docstring for a function, class, or module, Python treats it as a comment and ignores it during execution."
      ],
      "metadata": {
        "id": "ypjU8zrGbb3O"
      }
    },
    {
      "cell_type": "code",
      "source": [
        "        \"\"\"\n",
        "        This is another way to create\n",
        "        a multi-line comment using\n",
        "        triple quotes.\n",
        "        \"\"\"\n",
        "        print(\"Another example.\")"
      ],
      "metadata": {
        "colab": {
          "base_uri": "https://localhost:8080/"
        },
        "id": "PpTbNloCbgZ1",
        "outputId": "dd0d123e-be7a-42c3-b33c-e6a23f35ac32"
      },
      "execution_count": 3,
      "outputs": [
        {
          "output_type": "stream",
          "name": "stdout",
          "text": [
            "Another example.\n"
          ]
        }
      ]
    },
    {
      "cell_type": "markdown",
      "source": [
        "# **Purpose of Comments:**\n",
        "Code Explanation: Clarify complex logic, algorithms, or the purpose of specific code sections.\n",
        "\n",
        "Documentation: Provide notes for future reference or for others working on the same codebase.\n",
        "\n",
        "Debugging/Testing: Temporarily disable lines of code without deleting them, which is useful for testing or isolating issues."
      ],
      "metadata": {
        "id": "kZOQQ9-4bla1"
      }
    },
    {
      "cell_type": "code",
      "source": [
        "# I am single line comment\n",
        "\n",
        "\"\"\" Multi-line comment used\n",
        "print(\"Python Comments\") \"\"\""
      ],
      "metadata": {
        "colab": {
          "base_uri": "https://localhost:8080/",
          "height": 35
        },
        "id": "jQSP7XeUbprN",
        "outputId": "d20554b9-a74b-42cf-e40c-7e7eaa10e4db"
      },
      "execution_count": 4,
      "outputs": [
        {
          "output_type": "execute_result",
          "data": {
            "text/plain": [
              "' Multi-line comment used\\nprint(\"Python Comments\") '"
            ],
            "application/vnd.google.colaboratory.intrinsic+json": {
              "type": "string"
            }
          },
          "metadata": {},
          "execution_count": 4
        }
      ]
    },
    {
      "cell_type": "markdown",
      "source": [
        "# **Comments in Python are the lines in the code that are ignored by the interpreter during the execution of the program.**\n",
        "\n",
        "Comments enhance the readability of the code.\n",
        "Comment can be used to identify functionality or structure the code-base.\n",
        "Comment can help understanding unusual or tricky scenarios handled by the code to prevent accidental removal or changes.\n",
        "Comments can be used to prevent executing any specific part of your code, while making changes or testing."
      ],
      "metadata": {
        "id": "Zb3AlCWob2mF"
      }
    },
    {
      "cell_type": "code",
      "source": [
        "# Python program to demonstrate\n",
        "# multiline comments\n",
        "print(\"Multiline comments\")"
      ],
      "metadata": {
        "colab": {
          "base_uri": "https://localhost:8080/"
        },
        "id": "RblN9eeIb2s-",
        "outputId": "d73734bc-d1c1-4172-ce63-15000627d4be"
      },
      "execution_count": 5,
      "outputs": [
        {
          "output_type": "stream",
          "name": "stdout",
          "text": [
            "Multiline comments\n"
          ]
        }
      ]
    },
    {
      "cell_type": "markdown",
      "source": [
        "Python ignores the string literals that are not assigned to a variable. So, we can use these string literals as Python Comments."
      ],
      "metadata": {
        "id": "s-8bY-jCb20m"
      }
    },
    {
      "cell_type": "code",
      "source": [
        "'Single-line comments using string literals'\n",
        "\n",
        "\"\"\" Python program to demonstrate\n",
        " multiline comments\"\"\"\n",
        "print(\"Multiline comments\")"
      ],
      "metadata": {
        "colab": {
          "base_uri": "https://localhost:8080/"
        },
        "id": "Xw9NImWMb26m",
        "outputId": "237dc88c-dde7-4b32-a28c-e6b9a965a597"
      },
      "execution_count": 6,
      "outputs": [
        {
          "output_type": "stream",
          "name": "stdout",
          "text": [
            "Multiline comments\n"
          ]
        }
      ]
    },
    {
      "cell_type": "markdown",
      "source": [
        "# **Best Practice to Write Comments**\n",
        "These are some of the tips you can follow, to make your comments effective are:\n",
        "\n",
        "Comments should be short and precise.\n",
        "Use comments only when necessary, don't clutter your code with comments.\n",
        "Avoid writing generic or basic comments.\n",
        "Write comments that are self explanatory.\n"
      ],
      "metadata": {
        "id": "fRrCbWYAb3CF"
      }
    },
    {
      "cell_type": "code",
      "source": [],
      "metadata": {
        "id": "XlPFaMHob3H9"
      },
      "execution_count": null,
      "outputs": []
    },
    {
      "cell_type": "markdown",
      "source": [],
      "metadata": {
        "id": "DWsWUqlMb3PO"
      }
    },
    {
      "cell_type": "code",
      "source": [],
      "metadata": {
        "id": "Tt6Rb_5Ob3Vl"
      },
      "execution_count": null,
      "outputs": []
    }
  ]
}
