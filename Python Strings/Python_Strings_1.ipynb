{
  "nbformat": 4,
  "nbformat_minor": 0,
  "metadata": {
    "colab": {
      "provenance": [],
      "authorship_tag": "ABX9TyNu8TqAQQQZsOtxrA1Ny1IN",
      "include_colab_link": true
    },
    "kernelspec": {
      "name": "python3",
      "display_name": "Python 3"
    },
    "language_info": {
      "name": "python"
    }
  },
  "cells": [
    {
      "cell_type": "markdown",
      "metadata": {
        "id": "view-in-github",
        "colab_type": "text"
      },
      "source": [
        "<a href=\"https://colab.research.google.com/github/digitechit07/Python-Tutorial-with-Excercise/blob/main/Python_Strings_1.ipynb\" target=\"_parent\"><img src=\"https://colab.research.google.com/assets/colab-badge.svg\" alt=\"Open In Colab\"/></a>"
      ]
    },
    {
      "cell_type": "markdown",
      "source": [
        "# **Key characteristics of Python strings:**\n",
        "Immutability: Once a string is created, its contents cannot be changed. Any operation that appears to modify a string, such as changing its case or replacing a substring, actually results in the creation of a new string.\n",
        "Creation: Strings can be created by enclosing characters in single quotes ('...'), double quotes (\"...\"), or triple quotes ('''...''' or \"\"\"...\"\"\") for multiline strings."
      ],
      "metadata": {
        "id": "FCoAyrdyLFV2"
      }
    },
    {
      "cell_type": "code",
      "execution_count": 1,
      "metadata": {
        "id": "XZpbNQ6pKF_7",
        "colab": {
          "base_uri": "https://localhost:8080/"
        },
        "outputId": "b85299c1-573f-4ce6-f38d-042a216704de"
      },
      "outputs": [
        {
          "output_type": "stream",
          "name": "stdout",
          "text": [
            "P\n",
            "yth\n"
          ]
        }
      ],
      "source": [
        "my_string_single = 'Hello, World!'\n",
        "my_string_double = \"Python Programming\"\n",
        "my_string_multiline = \"\"\"This is a\n",
        "multiline string.\"\"\"\n",
        "\n",
        "s = \"Python\"\n",
        "print(s[0]) # Output: P\n",
        "print(s[1:4]) # Output: yth\n",
        "\n"
      ]
    },
    {
      "cell_type": "markdown",
      "source": [
        "# **String Methods:**\n",
        "\n",
        "Python provides a rich set of built-in string methods for various operations like:\n",
        "Changing case (.lower(), .upper(), .title(), .swapcase())\n",
        "Searching and replacing (.find(), .replace())\n",
        "Removing whitespace (.strip(), .lstrip(), .rstrip())\n",
        "Splitting and joining (.split(), .join())\n",
        "Checking properties (.isalpha(), .isdigit(), .startswith(), .endswith())"
      ],
      "metadata": {
        "id": "fLKmGB0bLREG"
      }
    },
    {
      "cell_type": "code",
      "source": [
        "text = \"  Hello Python  \"\n",
        "print(text.strip()) # Output: Hello Python\n",
        "print(\" \".join([\"Learn\", \"Python\"])) # Output: Learn Python"
      ],
      "metadata": {
        "colab": {
          "base_uri": "https://localhost:8080/"
        },
        "id": "_E5H8AS2LdPv",
        "outputId": "2cb92358-0463-4776-89a5-bf1929aa27d4"
      },
      "execution_count": 2,
      "outputs": [
        {
          "output_type": "stream",
          "name": "stdout",
          "text": [
            "Hello Python\n",
            "Learn Python\n"
          ]
        }
      ]
    },
    {
      "cell_type": "markdown",
      "source": [
        "# **String Formatting:**\n",
        "\n",
        "Various methods exist for embedding variables and expressions within strings, including f-strings (formatted string literals), the .format() method, and the older % operator. F-strings are generally recommended for their readability and conciseness."
      ],
      "metadata": {
        "id": "dOWchR9hLenX"
      }
    },
    {
      "cell_type": "code",
      "source": [
        "name = \"Alice\"\n",
        "age = 30\n",
        "print(f\"My name is {name} and I am {age} years old.\")\n",
        "# Output: My name is Alice and I am 30 years old."
      ],
      "metadata": {
        "colab": {
          "base_uri": "https://localhost:8080/"
        },
        "id": "sQ5CPrmMLoD4",
        "outputId": "37e310cf-3bb1-4e90-c99b-5c6204160660"
      },
      "execution_count": 3,
      "outputs": [
        {
          "output_type": "stream",
          "name": "stdout",
          "text": [
            "My name is Alice and I am 30 years old.\n"
          ]
        }
      ]
    },
    {
      "cell_type": "markdown",
      "source": [
        "# **Escape Sequences:**\n",
        "\n",
        "Special characters can be included in strings using escape sequences, such as \\n for a newline, \\t for a tab, and \\' or \\\" to include quotes within a string enclosed by the same type of quote."
      ],
      "metadata": {
        "id": "zuzdkQDMLp-4"
      }
    },
    {
      "cell_type": "code",
      "source": [
        "print('He said, \"It\\'s great!\"') # Output: He said, \"It's great!\"\n",
        "print(\"It's alright\")\n",
        "print(\"He is called 'Johnny'\")\n",
        "print('He is called \"Johnny\"')"
      ],
      "metadata": {
        "colab": {
          "base_uri": "https://localhost:8080/"
        },
        "id": "E9tKqStPLwbo",
        "outputId": "efa1ecc9-ff4d-402f-8ee7-34cc209eeebd"
      },
      "execution_count": 5,
      "outputs": [
        {
          "output_type": "stream",
          "name": "stdout",
          "text": [
            "He said, \"It's great!\"\n",
            "It's alright\n",
            "He is called 'Johnny'\n",
            "He is called \"Johnny\"\n"
          ]
        }
      ]
    },
    {
      "cell_type": "markdown",
      "source": [
        "# **Assign String to a Variable**\n",
        "Assigning a string to a variable is done with the variable name followed by an equal sign and the string:"
      ],
      "metadata": {
        "id": "IZjboyWpMEnC"
      }
    },
    {
      "cell_type": "code",
      "source": [
        "a = \"Hello\"\n",
        "print(a)\n",
        "\n",
        "a = \"\"\"Lorem ipsum dolor sit amet,\n",
        "consectetur adipiscing elit,\n",
        "sed do eiusmod tempor incididunt\n",
        "ut labore et dolore magna aliqua.\"\"\"\n",
        "print(a)\n",
        "\n",
        "a = \"Hello, World!\"\n",
        "print(a[1])\n",
        "\n",
        "for x in \"banana\":\n",
        "  print(x)\n",
        "\n",
        "a = \"Hello, World!\"\n",
        "print(len(a))\n",
        "\n",
        "txt = \"The best things in life are free!\"\n",
        "print(\"free\" in txt)\n",
        "\n",
        "\n",
        "txt = \"The best things in life are free!\"\n",
        "if \"free\" in txt:\n",
        "  print(\"Yes, 'free' is present.\")\n",
        "\n",
        "\n",
        "txt = \"The best things in life are free!\"\n",
        "print(\"expensive\" not in txt)\n",
        "\n",
        "txt = \"The best things in life are free!\"\n",
        "if \"expensive\" not in txt:\n",
        "  print(\"No, 'expensive' is NOT present.\")\n",
        ""
      ],
      "metadata": {
        "colab": {
          "base_uri": "https://localhost:8080/"
        },
        "id": "T5QdiR_9MGiJ",
        "outputId": "263579e4-3873-413f-c25c-f3b3d653c6ca"
      },
      "execution_count": 6,
      "outputs": [
        {
          "output_type": "stream",
          "name": "stdout",
          "text": [
            "Hello\n",
            "Lorem ipsum dolor sit amet,\n",
            "consectetur adipiscing elit,\n",
            "sed do eiusmod tempor incididunt\n",
            "ut labore et dolore magna aliqua.\n",
            "e\n",
            "b\n",
            "a\n",
            "n\n",
            "a\n",
            "n\n",
            "a\n",
            "13\n",
            "True\n",
            "Yes, 'free' is present.\n",
            "True\n",
            "No, 'expensive' is NOT present.\n"
          ]
        }
      ]
    },
    {
      "cell_type": "markdown",
      "source": [
        "# **Slicing**\n",
        "You can return a range of characters by using the slice syntax.\n",
        "\n",
        "Specify the start index and the end index, separated by a colon, to return a part of the string."
      ],
      "metadata": {
        "id": "NbAQHm3jMcEq"
      }
    },
    {
      "cell_type": "code",
      "source": [
        "b = \"Hello, World!\"\n",
        "print(b[2:5])\n",
        "\n",
        "b = \"Hello, World!\"\n",
        "print(b[:5])\n",
        "\n",
        "b = \"Hello, World!\"\n",
        "print(b[2:])\n",
        "\n",
        "\n",
        "b = \"Hello, World!\"\n",
        "print(b[-5:-2])\n",
        "\n",
        "\n",
        "a = \"Hello, World!\"\n",
        "print(a.upper())\n",
        "\n",
        "a = \"Hello, World!\"\n",
        "print(a.lower())\n",
        "\n",
        "a = \" Hello, World! \"\n",
        "print(a.strip()) # returns \"Hello, World!\"\n",
        "\n",
        "a = \"Hello, World!\"\n",
        "print(a.replace(\"H\", \"J\"))\n",
        "\n",
        "a = \"Hello, World!\"\n",
        "print(a.split(\",\")) # returns ['Hello', ' World!']\n",
        "\n"
      ],
      "metadata": {
        "colab": {
          "base_uri": "https://localhost:8080/"
        },
        "id": "h-_HU5xTMgQr",
        "outputId": "8568f3e4-06eb-4ace-cf71-593c91ec67e2"
      },
      "execution_count": 7,
      "outputs": [
        {
          "output_type": "stream",
          "name": "stdout",
          "text": [
            "llo\n",
            "Hello\n",
            "llo, World!\n",
            "orl\n",
            "HELLO, WORLD!\n",
            "hello, world!\n",
            "Hello, World!\n",
            "Jello, World!\n",
            "['Hello', ' World!']\n"
          ]
        }
      ]
    },
    {
      "cell_type": "markdown",
      "source": [
        "# **String Concatenation**\n",
        "To concatenate, or combine, two strings you can use the + operator."
      ],
      "metadata": {
        "id": "P1ucAO1-MzNS"
      }
    },
    {
      "cell_type": "code",
      "source": [
        "a = \"Hello\"\n",
        "b = \"World\"\n",
        "c = a + b\n",
        "print(c)\n",
        "\n",
        "\n",
        "a = \"Hello\"\n",
        "b = \"World\"\n",
        "c = a + \" \" + b\n",
        "print(c)\n",
        "\n",
        "age = \"36\"\n",
        "#This will produce an error:\n",
        "txt = \"My name is John, I am \" + age\n",
        "print(txt)\n",
        "\n",
        "age = 36\n",
        "txt = f\"My name is John, I am {age}\"\n",
        "print(txt)\n",
        "\n",
        "price = 59\n",
        "txt = f\"The price is {price} dollars\"\n",
        "print(txt)\n",
        "\n",
        "price = 59\n",
        "txt = f\"The price is {price:.2f} dollars\"\n",
        "print(txt)\n",
        "\n",
        "txt = f\"The price is {20 * 59} dollars\"\n",
        "print(txt)\n",
        "\n",
        "txt = \"We are the so-called \\\"Vikings\\\" from the north.\"\n",
        "\n"
      ],
      "metadata": {
        "colab": {
          "base_uri": "https://localhost:8080/"
        },
        "id": "YHFcqhEsMxAL",
        "outputId": "ae97416c-5ff3-4c04-fe0e-f18ff47d529e"
      },
      "execution_count": 9,
      "outputs": [
        {
          "output_type": "stream",
          "name": "stdout",
          "text": [
            "HelloWorld\n",
            "Hello World\n",
            "My name is John, I am 36\n",
            "My name is John, I am 36\n",
            "The price is 59 dollars\n",
            "The price is 59.00 dollars\n",
            "The price is 1180 dollars\n"
          ]
        }
      ]
    },
    {
      "cell_type": "markdown",
      "source": [
        "# **Escape Characters**\n",
        "Other escape characters used in Python:\n",
        "\n",
        "Code\tResult\tTry it\n",
        "\n",
        "\\'\tSingle Quote\n",
        "\n",
        "\\\\\tBackslash\n",
        "\n",
        "\\n\tNew Line\n",
        "\n",
        "\\r\tCarriage Return\n",
        "\n",
        "\\t\tTab\n",
        "\n",
        "\\b\tBackspace\n",
        "\n",
        "\\f\tForm Feed\n",
        "\n",
        "\\ooo\tOctal value\n",
        "\n",
        "\\xhh\tHex value\n"
      ],
      "metadata": {
        "id": "KW7-C-TLNVXl"
      }
    },
    {
      "cell_type": "code",
      "source": [
        "s1 = 'GfG'  # single quote\n",
        "s2 = \"GfG\"  # double quote\n",
        "print(s1)\n",
        "print(s2)\n",
        "\n",
        "s = \"\"\"I am Learning\n",
        "Python String on GeeksforGeeks\"\"\"\n",
        "print(s)\n",
        "\n",
        "s = '''I'm a\n",
        "Geek'''\n",
        "print(s)\n",
        "\n"
      ],
      "metadata": {
        "colab": {
          "base_uri": "https://localhost:8080/"
        },
        "id": "nTlF0fPeNenf",
        "outputId": "ace2e99a-2afb-4950-ec3c-8cc9c1d24b3a"
      },
      "execution_count": 10,
      "outputs": [
        {
          "output_type": "stream",
          "name": "stdout",
          "text": [
            "GfG\n",
            "GfG\n",
            "I am Learning\n",
            "Python String on GeeksforGeeks\n",
            "I'm a \n",
            "Geek\n"
          ]
        }
      ]
    },
    {
      "cell_type": "markdown",
      "source": [
        "# **String Methods**\n",
        "Python has a set of built-in methods that you can use on strings.\n",
        "\n",
        "\n",
        "Method\tDescription\n",
        "capitalize()\tConverts the first character to upper case\n",
        "\n",
        "casefold()\tConverts string into lower case\n",
        "\n",
        "center()\tReturns a centered string\n",
        "\n",
        "count()\tReturns the number of times a specified value occurs in a string\n",
        "\n",
        "encode()\tReturns an encoded version of the string\n",
        "\n",
        "endswith()\tReturns true if the string ends with the specified value\n",
        "\n",
        "expandtabs()\tSets the tab size of the string\n",
        "\n",
        "find()\tSearches the string for a specified value and returns the\n",
        "position of where it was found\n",
        "\n",
        "format()\tFormats specified values in a string\n",
        "\n",
        "format_map()\tFormats specified values in a string\n",
        "\n",
        "index()\tSearches the string for a specified value and returns the position of where it was found\n",
        "\n",
        "isalnum()\tReturns True if all characters in the string are alphanumeric\n",
        "\n",
        "isalpha()\tReturns True if all characters in the string are in the alphabet\n",
        "\n",
        "isascii()\tReturns True if all characters in the string are ascii characters\n",
        "\n",
        "isdecimal()\tReturns True if all characters in the string are decimals\n",
        "\n",
        "isdigit()\tReturns True if all characters in the string are digits\n",
        "\n",
        "isidentifier()\tReturns True if the string is an identifier\n",
        "\n",
        "islower()\tReturns True if all characters in the string are lower case\n",
        "\n",
        "isnumeric()\tReturns True if all characters in the string are numeric\n",
        "\n",
        "isprintable()\tReturns True if all characters in the string are printable\n",
        "\n",
        "isspace()\tReturns True if all characters in the string are whitespaces\n",
        "\n",
        "istitle()\tReturns True if the string follows the rules of a title\n",
        "\n",
        "isupper()\tReturns True if all characters in the string are upper case\n",
        "\n",
        "join()\tJoins the elements of an iterable to the end of the string\n",
        "\n",
        "ljust()\tReturns a left justified version of the string\n",
        "\n",
        "lower()\tConverts a string into lower case\n",
        "\n",
        "lstrip()\tReturns a left trim version of the string\n",
        "\n",
        "maketrans()\tReturns a translation table to be used in translations\n",
        "\n",
        "partition()\tReturns a tuple where the string is parted into three parts\n",
        "\n",
        "replace()\tReturns a string where a specified value is replaced with a specified value\n",
        "\n",
        "rfind()\tSearches the string for a specified value and returns the last position of where it was found\n",
        "\n",
        "rindex()\tSearches the string for a specified value and returns the last position of where it was found\n",
        "\n",
        "rjust()\tReturns a right justified version of the string\n",
        "\n",
        "rpartition()\tReturns a tuple where the string is parted into three parts\n",
        "\n",
        "rsplit()\tSplits the string at the specified separator, and returns a list\n",
        "\n",
        "rstrip()\tReturns a right trim version of the string\n",
        "\n",
        "split()\tSplits the string at the specified separator, and returns a list\n",
        "\n",
        "splitlines()\tSplits the string at line breaks and returns a list\n",
        "\n",
        "startswith()\tReturns true if the string starts with the specified value\n",
        "\n",
        "strip()\tReturns a trimmed version of the string\n",
        "\n",
        "swapcase()\tSwaps cases, lower case becomes upper case and vice versa\n",
        "\n",
        "title()\tConverts the first character of each word to upper case\n",
        "\n",
        "translate()\tReturns a translated string\n",
        "\n",
        "upper()\tConverts a string into upper case\n",
        "\n",
        "zfill()\tFills the string with a specified number of 0 values at the beginning"
      ],
      "metadata": {
        "id": "TMCc-ZeWNg53"
      }
    }
  ]
}
