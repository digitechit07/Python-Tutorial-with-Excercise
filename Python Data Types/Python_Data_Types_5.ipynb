{
  "nbformat": 4,
  "nbformat_minor": 0,
  "metadata": {
    "colab": {
      "provenance": [],
      "authorship_tag": "ABX9TyPcKqkqOVeLDpJymZQn3j2s",
      "include_colab_link": true
    },
    "kernelspec": {
      "name": "python3",
      "display_name": "Python 3"
    },
    "language_info": {
      "name": "python"
    }
  },
  "cells": [
    {
      "cell_type": "markdown",
      "metadata": {
        "id": "view-in-github",
        "colab_type": "text"
      },
      "source": [
        "<a href=\"https://colab.research.google.com/github/digitechit07/Python-Tutorial-with-Excercise/blob/main/Python_Data_Types_5.ipynb\" target=\"_parent\"><img src=\"https://colab.research.google.com/assets/colab-badge.svg\" alt=\"Open In Colab\"/></a>"
      ]
    },
    {
      "cell_type": "markdown",
      "source": [
        "# **Numeric Data Types in Python**\n",
        "Have you ever thought about working with numerical values with Python? If yes, numeric data types are used to represent any numerical values.\n",
        "\n",
        "There are three main numeric data types in Python: integers, floating-point numbers, and the complex numbers.\n",
        "\n",
        "Integer Data Type in Python\n",
        "In Python, integers are known as int. They are a built-in data type for whole numbers. int can represent any size of integers without overflow errors because they can either be positive, zero, or negative."
      ],
      "metadata": {
        "id": "DSKb4cyYqmb7"
      }
    },
    {
      "cell_type": "code",
      "execution_count": 1,
      "metadata": {
        "colab": {
          "base_uri": "https://localhost:8080/"
        },
        "id": "xQqJYLUXqhhb",
        "outputId": "05ba7905-c8a9-4338-96b3-07094c1e24ed"
      },
      "outputs": [
        {
          "output_type": "stream",
          "name": "stdout",
          "text": [
            "7\n",
            "-1\n",
            "0\n",
            "Addition: 11\n",
            "Subtraction: 5\n",
            "Multiplication: 20\n",
            "Division: 1.6666666666666667\n",
            "Integer Division: 5\n",
            "Modulus: 0\n",
            "Exponentiation: 64\n"
          ]
        }
      ],
      "source": [
        "# Python Integer\n",
        "a = 7\n",
        "y = -1\n",
        "c = 0\n",
        "\n",
        "print(a)  # Output: 7\n",
        "print(y)  # Output: -1\n",
        "print(c)  # Output: 0\n",
        "\n",
        "# Addition Operation +\n",
        "\n",
        "addition = 8 + 3\n",
        "print(\"Addition:\", addition)  # Output: 11\n",
        "\n",
        "# Subtraction operation -\n",
        "subtraction = 9 - 4\n",
        "print(\"Subtraction:\", subtraction)  # Output: 5\n",
        "\n",
        "# Multiplication operation *\n",
        "multiplication = 10 * 2\n",
        "print(\"Multiplication:\", multiplication)  # Output: 20\n",
        "\n",
        "# Division operation /\n",
        "division = 10 / 6\n",
        "print(\"Division:\", division)  # Output: 1.6666666666666667\n",
        "\n",
        "# Integer Division operation //\n",
        "integer_division = 10 // 2\n",
        "print(\"Integer Division:\", integer_division)  # Output: 5\n",
        "\n",
        "# Modulus operation %\n",
        "modulus = 10 % 5\n",
        "print(\"Modulus:\", modulus)  # Output: 0\n",
        "\n",
        "# Exponentiation operation **\n",
        "exponentiation = 2 ** 6\n",
        "print(\"Exponentiation:\", exponentiation)  # Output: 64"
      ]
    },
    {
      "cell_type": "markdown",
      "source": [
        "# **Floating-point Data Type in Python**\n",
        "In Python, float can represent both whole numbers and fractions. They are used for approximating real numbers. Hence, they are not precise when dealing with a very small or a very large numbers."
      ],
      "metadata": {
        "id": "bKexFvVXqu0b"
      }
    },
    {
      "cell_type": "code",
      "source": [
        "# Python Float\n",
        "b = 2.47\n",
        "y = -0.1\n",
        "k = 5.0\n",
        "\n",
        "print(b)  # Output: 2.47\n",
        "print(y)  # Output: -0.1\n",
        "print(k)  # Output: 5.0\n",
        "\n",
        "# Addition Operation\n",
        "\n",
        "a = 3.5\n",
        "b = 2.1\n",
        "print(a + b) # Output will be 5.3\n",
        "\n",
        " # Subtraction Operation\n",
        "c = 5.5\n",
        "d = 2.2\n",
        "print(c - d) # Output will be 3.3\n",
        "\n",
        "# Multiplication operation\n",
        "\n",
        "e = 4.0\n",
        "f = 2.5\n",
        "print(e * f)  # Output will be 10.0\n",
        "\n",
        "# Division Operation\n",
        "g= 10.0\n",
        "h = 7.0\n",
        "print(g / h) # Output will be 1.4285714285714286\n",
        "\n",
        "# Exponential Operation\n",
        "i = 2.0\n",
        "j = 3.0\n",
        "print(i * j)# Output will be 6.0\n",
        "\n",
        "# Modulus operation\n",
        "k = 10.5\n",
        "l = 4.0\n",
        "print(k % l) # Output will be 2.5\n",
        "\n",
        "# integer division Operation\n",
        "m = 10.5\n",
        "n = 3.0\n",
        "print(k // l) # Output will be 2.0\n"
      ],
      "metadata": {
        "colab": {
          "base_uri": "https://localhost:8080/"
        },
        "id": "CiJnCKnhqx2b",
        "outputId": "52304235-226a-46af-8fc2-0123754ada9d"
      },
      "execution_count": 2,
      "outputs": [
        {
          "output_type": "stream",
          "name": "stdout",
          "text": [
            "2.47\n",
            "-0.1\n",
            "5.0\n",
            "5.6\n",
            "3.3\n",
            "10.0\n",
            "1.4285714285714286\n",
            "6.0\n",
            "2.5\n",
            "2.0\n"
          ]
        }
      ]
    },
    {
      "cell_type": "markdown",
      "source": [
        "# **Complex Data Type in Python**\n",
        "complex numbers are popularly used in engineering, physics, and mathematics to model the real and imaginary components. The numbers take the form of a + bj, where a and b are real numbers, and j represents the imaginary unit, defined as the square root of -1."
      ],
      "metadata": {
        "id": "v5Jb5p70qyFr"
      }
    },
    {
      "cell_type": "code",
      "source": [
        "z1 = 8 + 2j  # Creates a complex number 8 + 2j\n",
        "z2 = -9 - 6j # Creates a complex number -9 - 6j\n",
        "\n",
        "z2 = complex(3, 2)\n",
        "z4 = complex(-1, 6)\n",
        "\n",
        "# Addition Operation\n",
        "sum_z = z2 + z4  # Result: 3 - 1 + (2 + 6)j = 2 + 8j\n",
        "\n",
        "# Subtraction\n",
        "diff_z = z2 - z4  # Result: 3 - (-1) + (2 - 6)j = 4 - 4j\n",
        "\n",
        "# Multiplication\n",
        "prod_z = z2 * z4\n",
        "\n",
        "# Result: (3 * -1 - 2 * 6) + (3 * 6 + 2 * -1)j = (-15+16j)\n",
        "\n",
        "# Division\n",
        "div_z = z2 / z4\n",
        "# Result:(0.24324324324324323-0.5405405405405406j)"
      ],
      "metadata": {
        "id": "7TwvKZYfqyLC"
      },
      "execution_count": 3,
      "outputs": []
    },
    {
      "cell_type": "markdown",
      "source": [
        "# **Sequence Data Types in Python**\n",
        "In Python, there are several sequence data types used to represent data collections in a specific order. They are as follows:\n",
        "\n",
        "**List Data Type in Python**\n",
        "\n",
        "Lists are defined using square brackets [] with comma-separated elements. They are a mutable, built-in data structure for storing item collections. The mutability feature of [] means it's modifiable after creation.\n",
        "\n",
        "Lists are a widely used data structures in Python because they support various operations and offer flexibility."
      ],
      "metadata": {
        "id": "7_735htTqyQz"
      }
    },
    {
      "cell_type": "code",
      "source": [
        "# List creation\n",
        "\n",
        "the_list = [1, 2, 4, 5]\n",
        "\n",
        "\n",
        "# creating a mixed data list\n",
        "multiple_data_list = [1, 'hi', 2.57, False]\n",
        "\n",
        "\n",
        "\n",
        "print(the_list[0])   # Output: 1\n",
        "print(multiple_data_list[2])  # Output:2.57\n",
        "\n",
        "\n",
        "# Mutable feature of list\n",
        "\n",
        "the_list[0] = 10          # Modify the first element\n",
        "the_list.append(9)        # Append a new element\n",
        "the_list.extend([5, 4])   # Extend the list with another list\n",
        "the_list.remove(2)        # Remove an element by value\n",
        "del the_list[0]           # Remove an element by index\n",
        "\n"
      ],
      "metadata": {
        "colab": {
          "base_uri": "https://localhost:8080/"
        },
        "id": "fqfiDtFqqyVz",
        "outputId": "84b8d799-e741-4720-a9fe-c653f6c8af45"
      },
      "execution_count": 4,
      "outputs": [
        {
          "output_type": "stream",
          "name": "stdout",
          "text": [
            "1\n",
            "2.57\n"
          ]
        }
      ]
    },
    {
      "cell_type": "markdown",
      "source": [
        "# **Tuple Data Type in Python**\n",
        "In Python, a tuple is an immutable built-in data type for storing an ordered collection of elements.\n",
        "\n",
        "Tuples are created using parentheses (). Just like lists, Tuples have comma-separated elements.\n",
        "\n",
        "A tuple requires a comma after the element to differentiate it from a parenthesized expression, even if it contains single element. The immutability feature of tuples implies that you cannot change them after creation."
      ],
      "metadata": {
        "id": "j0KU8IiSqydc"
      }
    },
    {
      "cell_type": "code",
      "source": [
        "# Empty tuple\n",
        "zilch_tuple = ()\n",
        "\n",
        " # Tuple with a single element\n",
        "single_tuple = (1,)\n",
        "\n",
        " # Tuple with multiple elements\n",
        "multiple_tuple = (1,8,9,3, 5)\n",
        "\n",
        "# Tuple immutability\n",
        "\n",
        "#single_slice[0] = 5\n",
        "\n",
        "#print(tuple_slice) # TypeError: 'tuple' object does not support item assignment\n",
        "\n",
        "\n",
        "# Different elements tuples\n",
        "mixed_tuple = (1, 'hello', 3.14, True)\n",
        "\n",
        " # Nested tuple\n",
        "\n",
        "nested_tuple = ('Orange', ('banana', 'Pineapple'), [\"he\", 'she', 'them'])\n",
        "\n",
        "\n",
        " # Concatenate tuples\n",
        "\n",
        "add_tuple = multiple_tuple + (6, 7, 8)  # Output: (1, 8, 9, 4, 3, 5, 7, 8)\n",
        "\n",
        "# Create a slice of the tuple\n",
        "tuple_slice = add_tuple[1:3]     # Output: (8, 9)\n",
        "\n",
        "# Creaating a String with both single and double quote\n",
        "\n",
        "single_string = 'Hello!'\n",
        "double_string = \"Python Programming!\"\n",
        "\n",
        "# Outputting the result\n",
        "\n",
        "print(single_string[0])    # Output: 'H'\n",
        "print(double_string[-1])   # Output: '!'\n",
        "\n",
        "\n",
        "print(single_string[0:5])    # Output: 'Hello'\n",
        "print(double_string[::2])    # Output: 'Pto rgamn!'\n",
        "\n",
        "# Concatenate the two strings\n",
        "\n",
        "concatenate_string = single_string + ' ' + double_string\n",
        "print(concatenate_string)   # Output: 'Hello! Python Programming'\n",
        "\n",
        "\n",
        "# Some popular string methods like the upper,lower,find,replace, split and strip.\n",
        "\n",
        "print(single_string.upper())              # Output: 'HELLO!'\n",
        "print(double_string.lower())              # Output: 'python programming!'\n",
        "print(single_string.find('World'))        # Output: -1\n",
        "print(double_string.replace('Python', 'Java'))  # Output: 'Java Programming'\n",
        "print(single_string.split(','))           # Output: ['Hello!']\n",
        "print(double_string.strip())              # Output: 'Python Programming!'"
      ],
      "metadata": {
        "colab": {
          "base_uri": "https://localhost:8080/"
        },
        "id": "aHcOd77dqyiL",
        "outputId": "1134ed6c-fb97-4b63-aa4b-7cd41250520d"
      },
      "execution_count": 9,
      "outputs": [
        {
          "output_type": "stream",
          "name": "stdout",
          "text": [
            "H\n",
            "!\n",
            "Hello\n",
            "Pto rgamn!\n",
            "Hello! Python Programming!\n",
            "HELLO!\n",
            "python programming!\n",
            "-1\n",
            "Java Programming!\n",
            "['Hello!']\n",
            "Python Programming!\n"
          ]
        }
      ]
    },
    {
      "cell_type": "markdown",
      "source": [
        "# **Range Data Type in Python**\n",
        "The range function is used to iterate over elements in a list. By executing a task repeatedly, the range generates indices for the data structure."
      ],
      "metadata": {
        "id": "fyvyVk-hqynj"
      }
    },
    {
      "cell_type": "code",
      "source": [
        "# Generating a number from 0 to 10\n",
        "for i in range(11):\n",
        "    print(i)  # OUTPUT..... 0,1,2,3,4,5,6,7,8,9,10\n",
        "\n",
        "\n",
        "# Generate a number from 1 to 19.\n",
        "for i in range(1, 20):\n",
        "    print(i) # OUTPUT.....1,2,3,4,5,6,7,8,9,10,11,12,13,14,15,16,17,18,19\n",
        "\n",
        "\n",
        "# Generating numbers from 0 to 10 with a step of 2:\n",
        "\n",
        "for i in range(0, 21, 2):\n",
        "    print(i)  # OUTPUT.... 0,2,4,6,8,10,12,14,16,18,20\n",
        "\n",
        "\n",
        "# Generate a list of numbers using the list function in conjuction with range:\n",
        "\n",
        "new_list = list(range(15))\n",
        "print(new_list)  # Output: [0, 1, 2, 3, 4,5,6,7,8,9,10,11,12,13,14]"
      ],
      "metadata": {
        "colab": {
          "base_uri": "https://localhost:8080/"
        },
        "id": "VueOK9Lrqys6",
        "outputId": "957265fe-36e6-4fef-a08c-3d755e921e3e"
      },
      "execution_count": 10,
      "outputs": [
        {
          "output_type": "stream",
          "name": "stdout",
          "text": [
            "0\n",
            "1\n",
            "2\n",
            "3\n",
            "4\n",
            "5\n",
            "6\n",
            "7\n",
            "8\n",
            "9\n",
            "10\n",
            "1\n",
            "2\n",
            "3\n",
            "4\n",
            "5\n",
            "6\n",
            "7\n",
            "8\n",
            "9\n",
            "10\n",
            "11\n",
            "12\n",
            "13\n",
            "14\n",
            "15\n",
            "16\n",
            "17\n",
            "18\n",
            "19\n",
            "0\n",
            "2\n",
            "4\n",
            "6\n",
            "8\n",
            "10\n",
            "12\n",
            "14\n",
            "16\n",
            "18\n",
            "20\n",
            "[0, 1, 2, 3, 4, 5, 6, 7, 8, 9, 10, 11, 12, 13, 14]\n"
          ]
        }
      ]
    },
    {
      "cell_type": "markdown",
      "source": [
        "# **Mapping Data Type in Python**\n",
        "In Python, the dictionary dict is the primary data type for storing a collection of key-value pairs.\n",
        "\n",
        "The dict is widely used in Python for different functions, such as mapping between related information, representing a set of data records, and storing configurations.\n",
        "\n",
        "We can create a dict in Python with either the curly braces {} or the dict() constructor.\n",
        "\n",
        "Some of the characteristics of a dictionary are as follows:\n",
        "\n",
        "**Key-Value Pairs:** A dict consists of a key associated with a specific value in a key-value pair. The function of the key is to look up the corresponding value in the dictionary.\n",
        "Uniqueness: Duplicate keys are not allowed in dict. Assigning a new value to an existing key will only replace the old value associated with that key.\n",
        "\n",
        "**Key Immutability:** The immutability nature of the keys ensures that keys remain \"hashable\" and consistent. Hence, keys in dictionary must be immutable. Some examples of immutable data types include integers, strings, and tuples.\n",
        "\n",
        "Flexible Values: **bold text** Any data type including but not limited to lists, tuples, strings, numbers and even dictionaries can be associated with keys in a dictionary."
      ],
      "metadata": {
        "id": "rwjssW7gruks"
      }
    },
    {
      "cell_type": "code",
      "source": [
        "person = {\n",
        "    \"name\": \"Kamaldeen\",\n",
        "    \"age\": 32,\n",
        "    \"city\": \"Nigeria\"\n",
        "}\n",
        "\n",
        "# Accessing values by key:\n",
        "\n",
        "print(person[\"name\"])  # Output: Kamaldeen\n",
        "\n",
        "# Modifying values\n",
        "\n",
        "person[\"age\"] = 35  # Output: {'name': 'Kamaldeen', 'age': 35, 'city':'Nigeria'}\n",
        "\n",
        "# Adding a new key-value paie\n",
        "\n",
        "person[\"job\"] = \"Engineer\"  # Output: {'name': 'Kamaldeen', 'age': 32, 'city': 'Nigeria', 'job': 'Engineer'}\n",
        "\n",
        "# Check if name is in person dictionary\n",
        "\n",
        "if \"name\" in person:\n",
        "    print(\"Name is present in the dictionary.\") # Output:Name is present in the dictionary\n",
        "\n"
      ],
      "metadata": {
        "colab": {
          "base_uri": "https://localhost:8080/"
        },
        "id": "rV0__MOiruvM",
        "outputId": "6a192c11-5455-4c5a-a66e-c67c9978b732"
      },
      "execution_count": 12,
      "outputs": [
        {
          "output_type": "stream",
          "name": "stdout",
          "text": [
            "Kamaldeen\n",
            "Name is present in the dictionary.\n"
          ]
        }
      ]
    },
    {
      "cell_type": "markdown",
      "source": [
        "# **Set Data Type in Python**\n",
        "In Python, a set is a built-in data type that represents a collection of unique elements with no particular order.\n",
        "\n",
        "The elements in the set are immutable, but the set itself is mutable. Sets can be defined using curly braces {} with comma-separated elements or by the set() constructor. They gets used for mathematical operations like unions, intersections, and differences."
      ],
      "metadata": {
        "id": "VZdsqEg3sFsg"
      }
    },
    {
      "cell_type": "code",
      "source": [
        "first_set = {1, 2, 3}\n",
        "second_set = {3, 4, 5}\n",
        "\n",
        "union_set = first_set & second_set  # Using the '&' operator\n",
        "# Output: {3}\n",
        "\n",
        "# or\n",
        "\n",
        "union_method = first_set.intersection(second_set)  # Using the union() method\n",
        "# Output: {3}\n",
        "\n",
        "print(union_set)\n",
        "print(union_method)\n",
        "\n",
        "\n",
        "first_set = {1, 2, 3}\n",
        "second_set = {3, 4, 5}\n",
        "\n",
        "union_set = first_set - second_set  # Using the '-' operator\n",
        "\n",
        "# or\n",
        "\n",
        "union_method = first_set.difference(second_set)  # Using the difference() method\n",
        "\n",
        "\n",
        "print(union_set)\n",
        "print(union_method)\n",
        "\n",
        "\n",
        "first_set = {1, 2, 3}\n",
        "second_set = {3, 4, 5}\n",
        "\n",
        "# Add with add method\n",
        "first_set.add(4)\n",
        "\n",
        "# Update with update method\n",
        "second_set.update({4,8,9,7})\n",
        "\n",
        "print(first_set) # Output: {1, 2, 3, 4}\n",
        "print(second_set)  # OUtput: {3, 4, 5, 7, 8, 9}\n",
        "\n",
        "\n",
        "first_set = {1, 2, 3}\n",
        "second_set = {3, 4, 5}\n",
        "\n",
        "first_set.remove(3) # Output:KeyError: 5\n",
        "second_set.discard(4)  # Output:KeyError: {3, 5}\n",
        "\n",
        "print(first_set)\n",
        "print(second_set)\n",
        "\n",
        "\n",
        "\n",
        "\n"
      ],
      "metadata": {
        "colab": {
          "base_uri": "https://localhost:8080/"
        },
        "id": "nNxqDoUNsHSw",
        "outputId": "9b172d3e-c0de-4e36-c4f3-7ddaadf3773d"
      },
      "execution_count": 16,
      "outputs": [
        {
          "output_type": "stream",
          "name": "stdout",
          "text": [
            "{3}\n",
            "{3}\n",
            "{1, 2}\n",
            "{1, 2}\n",
            "{1, 2, 3, 4}\n",
            "{3, 4, 5, 7, 8, 9}\n",
            "{1, 2}\n",
            "{3, 5}\n"
          ]
        }
      ]
    },
    {
      "cell_type": "markdown",
      "source": [
        "# **Frozenset Operation using Sets in Python**\n",
        "The frozenset is a built-in immutable set. It gets defined like a regular set with {}, but its element cannot be changed or modified after creation."
      ],
      "metadata": {
        "id": "fFeG4mBKseni"
      }
    },
    {
      "cell_type": "code",
      "source": [
        "# Creating a frozenset\n",
        "\n",
        "frozen_set = frozenset([7, 2, 3, 1, 5])\n",
        "\n",
        "# Frozensets are immutable.\n",
        "\n",
        "frozen_set.add(6)  # An AttributeError will be raised\n",
        "\n",
        "# Elements of a frozenset cannot be changed once it's created\n",
        "\n",
        "frozen_set[0] = 10  # TypeError will  be raised\n",
        "\n",
        "# You can perform set operations like union, intersection, and difference on the frozenset"
      ],
      "metadata": {
        "colab": {
          "base_uri": "https://localhost:8080/",
          "height": 211
        },
        "id": "s7YZaQL2sexK",
        "outputId": "e5460d39-100b-402a-fc4d-3ca2df33db89"
      },
      "execution_count": 18,
      "outputs": [
        {
          "output_type": "error",
          "ename": "AttributeError",
          "evalue": "'frozenset' object has no attribute 'add'",
          "traceback": [
            "\u001b[0;31m---------------------------------------------------------------------------\u001b[0m",
            "\u001b[0;31mAttributeError\u001b[0m                            Traceback (most recent call last)",
            "\u001b[0;32m/tmp/ipython-input-2381426466.py\u001b[0m in \u001b[0;36m<cell line: 0>\u001b[0;34m()\u001b[0m\n\u001b[1;32m      5\u001b[0m \u001b[0;31m# Frozensets are immutable.\u001b[0m\u001b[0;34m\u001b[0m\u001b[0;34m\u001b[0m\u001b[0m\n\u001b[1;32m      6\u001b[0m \u001b[0;34m\u001b[0m\u001b[0m\n\u001b[0;32m----> 7\u001b[0;31m \u001b[0mfrozen_set\u001b[0m\u001b[0;34m.\u001b[0m\u001b[0madd\u001b[0m\u001b[0;34m(\u001b[0m\u001b[0;36m6\u001b[0m\u001b[0;34m)\u001b[0m  \u001b[0;31m# An AttributeError will be raised\u001b[0m\u001b[0;34m\u001b[0m\u001b[0;34m\u001b[0m\u001b[0m\n\u001b[0m\u001b[1;32m      8\u001b[0m \u001b[0;34m\u001b[0m\u001b[0m\n\u001b[1;32m      9\u001b[0m \u001b[0;31m# Elements of a frozenset cannot be changed once it's created\u001b[0m\u001b[0;34m\u001b[0m\u001b[0;34m\u001b[0m\u001b[0m\n",
            "\u001b[0;31mAttributeError\u001b[0m: 'frozenset' object has no attribute 'add'"
          ]
        }
      ]
    },
    {
      "cell_type": "markdown",
      "source": [
        "# **None Data Type in Python**\n",
        "In Python, the None data type represents the absence of a value or a null value.\n",
        "\n",
        "It indicates the function does not a have a return value or the expression lacks a meaningful value.\n",
        "\n",
        "Some key takeaways from the None data type:\n",
        "\n",
        "Type: None is called the NoneType data type in Python.\n",
        "Return Value: None is the default return value for a function without a value.\n",
        "Default Value: We can use None as a default argument in the function definition"
      ],
      "metadata": {
        "id": "-kzXrPv4stVU"
      }
    },
    {
      "cell_type": "code",
      "source": [
        "# Initializing z with None, indicating that it does not currently hold any meaningful value.\n",
        "\n",
        "z = None\n",
        "print(z)  # Output: None\n",
        "\n",
        "\n",
        "y = None\n",
        "if y is None:\n",
        "    print(\"The Value of y is:\" \"x is None\")\n",
        "\n",
        "# Output: The Value of y is :y is None\n",
        "\n",
        "\n",
        "def pair(y=None):\n",
        "    if y is None:\n",
        "        print(\"y is None\")\n",
        "\n",
        "pair()  # Output: y is None\n",
        "\n",
        "\n",
        "# The greeting() function prints a message if a name is provided, otherwise it greets a stranger, but since the function does not return any value explicitly, it returns None by default.\n",
        "\n",
        "def greeting(name):\n",
        "    if name:\n",
        "        print(\"Hi, \" + name)\n",
        "    else:\n",
        "        print(\"Hi, Stranger\")\n",
        "\n",
        "result = greeting(\"Kamaldeen\")  # Output: Hello, Kamaldeen\n",
        "print(result)  # Output: None"
      ],
      "metadata": {
        "colab": {
          "base_uri": "https://localhost:8080/"
        },
        "id": "ugm_Xhsusuk4",
        "outputId": "ef0d6963-1873-422c-86ba-14a92d62e9e6"
      },
      "execution_count": 19,
      "outputs": [
        {
          "output_type": "stream",
          "name": "stdout",
          "text": [
            "None\n",
            "The Value of y is:x is None\n",
            "y is None\n",
            "Hi, Kamaldeen\n",
            "None\n"
          ]
        }
      ]
    },
    {
      "cell_type": "markdown",
      "source": [
        "# **Boolean Data Type in Python**\n",
        "In Python, there are only two values used for comparisons and logical operation when using the boolean data type. They are the True and False values.\n",
        "\n",
        "The boolean values are the result that arises from the comparison operators such as the equal (==), the not equal (!=), the greater than (>), the less than (<), the greater than or equal to (>=), and the less than or equal to (<=)."
      ],
      "metadata": {
        "id": "vdidXS8mszLf"
      }
    },
    {
      "cell_type": "code",
      "source": [
        "a = 10\n",
        "b = 15\n",
        "\n",
        "# Comparison operators\n",
        "\n",
        "print(a == b)  # False\n",
        "print(a < b)   # True\n",
        "\n",
        "# Logical operators\n",
        "\n",
        "print(a < 10 and b > 5)  # False\n",
        "print(a < 3 or b> 20)   # False\n",
        "print(not(a == b))        # True\n",
        "\n",
        "# Control Flow\n",
        "\n",
        "age = 75\n",
        "\n",
        "if age >= 18:\n",
        "    print(\"You are an adult.\")\n",
        "else:\n",
        "    print(\"You are a minor.\")\n",
        "\n",
        "# Functions return\n",
        "\n",
        "def is_even(number):\n",
        "    return number % 2 == 0\n",
        "\n",
        "print(is_even(10))  # True\n",
        "print(is_even(7))  # False"
      ],
      "metadata": {
        "colab": {
          "base_uri": "https://localhost:8080/"
        },
        "id": "r5keUwm6szRf",
        "outputId": "86664753-e941-436b-81ba-086877190b04"
      },
      "execution_count": 20,
      "outputs": [
        {
          "output_type": "stream",
          "name": "stdout",
          "text": [
            "False\n",
            "True\n",
            "False\n",
            "False\n",
            "True\n",
            "You are an adult.\n",
            "True\n",
            "False\n"
          ]
        }
      ]
    }
  ]
}
