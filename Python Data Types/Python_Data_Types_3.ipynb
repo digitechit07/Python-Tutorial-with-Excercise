{
  "nbformat": 4,
  "nbformat_minor": 0,
  "metadata": {
    "colab": {
      "provenance": [],
      "authorship_tag": "ABX9TyNIdvaN/M0MI1RyRfZ8IE8Q",
      "include_colab_link": true
    },
    "kernelspec": {
      "name": "python3",
      "display_name": "Python 3"
    },
    "language_info": {
      "name": "python"
    }
  },
  "cells": [
    {
      "cell_type": "markdown",
      "metadata": {
        "id": "view-in-github",
        "colab_type": "text"
      },
      "source": [
        "<a href=\"https://colab.research.google.com/github/digitechit07/Python-Tutorial-with-Excercise/blob/main/Python_Data_Types_3.ipynb\" target=\"_parent\"><img src=\"https://colab.research.google.com/assets/colab-badge.svg\" alt=\"Open In Colab\"/></a>"
      ]
    },
    {
      "cell_type": "markdown",
      "source": [
        "# **Python Data Types**\n",
        "Data Types\tClasses\tDescription\n",
        "\n",
        "Numeric\tint, float, complex\tholds numeric values\n",
        "\n",
        "String\tstr\tholds sequence of characters\n",
        "\n",
        "Sequence\tlist, tuple, range\tholds collection of items\n",
        "\n",
        "Mapping\tdict\tholds data in key-value pair form\n",
        "\n",
        "Boolean\tbool\tholds either True or False\n",
        "\n",
        "Set\tset, frozenset\thold collection of unique items"
      ],
      "metadata": {
        "id": "kpQyfrIejI62"
      }
    },
    {
      "cell_type": "code",
      "execution_count": 1,
      "metadata": {
        "colab": {
          "base_uri": "https://localhost:8080/"
        },
        "id": "iwEDvk-winxm",
        "outputId": "d284dba1-9574-43f7-8f45-469e689581f6"
      },
      "outputs": [
        {
          "output_type": "execute_result",
          "data": {
            "text/plain": [
              "int"
            ]
          },
          "metadata": {},
          "execution_count": 1
        }
      ],
      "source": [
        "type(42)"
      ]
    },
    {
      "cell_type": "markdown",
      "source": [
        "# **Python Numeric Data type**\n",
        "In Python, numeric data type is used to hold numeric values.\n",
        "\n",
        "Integers, floating-point numbers and complex numbers fall under Python numbers category. They are defined as int, float and complex classes in Python.\n",
        "\n",
        "int - holds signed integers of non-limited length.\n",
        "\n",
        "float - holds floating decimal points and it's accurate up to 15 decimal places.\n",
        "\n",
        "complex - holds complex numbers."
      ],
      "metadata": {
        "id": "2w7Bn8AOjhlW"
      }
    },
    {
      "cell_type": "code",
      "source": [
        "num1 = 5\n",
        "print(num1, 'is of type', type(num1))\n",
        "\n",
        "num2 = 2.0\n",
        "print(num2, 'is of type', type(num2))\n",
        "\n",
        "num3 = 1+2j\n",
        "print(num3, 'is of type', type(num3))"
      ],
      "metadata": {
        "colab": {
          "base_uri": "https://localhost:8080/"
        },
        "id": "LanWgm9DjhxF",
        "outputId": "bdf45d69-bf58-489f-e76a-8c8d988e8641"
      },
      "execution_count": 2,
      "outputs": [
        {
          "output_type": "stream",
          "name": "stdout",
          "text": [
            "5 is of type <class 'int'>\n",
            "2.0 is of type <class 'float'>\n",
            "(1+2j) is of type <class 'complex'>\n"
          ]
        }
      ]
    },
    {
      "cell_type": "markdown",
      "source": [
        "# **Python List Data Type**\n",
        "List is an ordered collection of similar or different types of items separated by commas and enclosed within brackets [ ]"
      ],
      "metadata": {
        "id": "naJCATMVjiRd"
      }
    },
    {
      "cell_type": "code",
      "source": [
        "languages = [\"Swift\", \"Java\", \"Python\"]\n",
        "\n",
        "# access element at index 0\n",
        "print(languages[0])   # Swift\n",
        "\n",
        "# access element at index 2\n",
        "print(languages[2])   # Python"
      ],
      "metadata": {
        "colab": {
          "base_uri": "https://localhost:8080/"
        },
        "id": "ftyjxkpzjiZd",
        "outputId": "c1a6ebcd-06c8-4d12-c454-b684afa9bbe4"
      },
      "execution_count": 3,
      "outputs": [
        {
          "output_type": "stream",
          "name": "stdout",
          "text": [
            "Swift\n",
            "Python\n"
          ]
        }
      ]
    },
    {
      "cell_type": "markdown",
      "source": [
        "# **Python Tuple Data Type**\n",
        "Tuple is an ordered sequence of items same as a list. The only difference is that tuples are immutable. Tuples once created cannot be modified.\n",
        "\n",
        "In Python, we use the parentheses ()"
      ],
      "metadata": {
        "id": "Sq0PC2eCjihm"
      }
    },
    {
      "cell_type": "code",
      "source": [
        "# create a tuple\n",
        "product = ('Microsoft', 'Xbox', 499.99)\n",
        "\n",
        "# access element at index 0\n",
        "print(product[0])   # Microsoft\n",
        "\n",
        "# access element at index 1\n",
        "print(product[1])   # Xbox"
      ],
      "metadata": {
        "colab": {
          "base_uri": "https://localhost:8080/"
        },
        "id": "uD2XZh9wjinV",
        "outputId": "12df1f2c-8186-4082-8f57-6a2d8000f300"
      },
      "execution_count": 4,
      "outputs": [
        {
          "output_type": "stream",
          "name": "stdout",
          "text": [
            "Microsoft\n",
            "Xbox\n"
          ]
        }
      ]
    },
    {
      "cell_type": "markdown",
      "source": [
        "# **Python String Data Type**\n",
        "String is a sequence of characters represented by either single or double quotes."
      ],
      "metadata": {
        "id": "2_aPIJXXjit0"
      }
    },
    {
      "cell_type": "code",
      "source": [
        "name = 'Python'\n",
        "print(name)\n",
        "\n",
        "message = 'Python for beginners'\n",
        "print(message)"
      ],
      "metadata": {
        "colab": {
          "base_uri": "https://localhost:8080/"
        },
        "id": "SyyLtvV6jizd",
        "outputId": "ac070ace-7296-4211-dbb0-11e245405544"
      },
      "execution_count": 5,
      "outputs": [
        {
          "output_type": "stream",
          "name": "stdout",
          "text": [
            "Python\n",
            "Python for beginners\n"
          ]
        }
      ]
    },
    {
      "cell_type": "markdown",
      "source": [
        "# **Python Set Data Type**\n",
        "Set is an unordered collection of unique items. Set is defined by values separated by commas inside braces { }."
      ],
      "metadata": {
        "id": "65AFvgI-ji6u"
      }
    },
    {
      "cell_type": "code",
      "source": [
        "# create a set named student_id\n",
        "student_id = {112, 114, 116, 118, 115}\n",
        "\n",
        "# display student_id elements\n",
        "print(student_id)\n",
        "\n",
        "# display type of student_id\n",
        "print(type(student_id))"
      ],
      "metadata": {
        "colab": {
          "base_uri": "https://localhost:8080/"
        },
        "id": "pX0zi2YOjjBV",
        "outputId": "3daa5512-45b4-4b25-b7f0-642c3c658c71"
      },
      "execution_count": 6,
      "outputs": [
        {
          "output_type": "stream",
          "name": "stdout",
          "text": [
            "{112, 114, 115, 116, 118}\n",
            "<class 'set'>\n"
          ]
        }
      ]
    },
    {
      "cell_type": "markdown",
      "source": [
        "# **Python Dictionary Data Type**\n",
        "Python dictionary is an ordered collection of items. It stores elements in key/value pairs.\n",
        "\n",
        "Here, keys are unique identifiers that are associated with each value."
      ],
      "metadata": {
        "id": "0RpJIZjtjjH-"
      }
    },
    {
      "cell_type": "code",
      "source": [
        "# create a dictionary named capital_city\n",
        "capital_city = {'Nepal': 'Kathmandu', 'Italy': 'Rome', 'England': 'London'}\n",
        "\n",
        "print(capital_city)\n",
        "\n",
        "# create a dictionary named capital_city\n",
        "capital_city = {'Nepal': 'Kathmandu', 'Italy': 'Rome', 'England': 'London'}\n",
        "\n",
        "print(capital_city['Nepal'])  # prints Kathmandu\n",
        "\n",
        "print(capital_city['England'])  # throws error message"
      ],
      "metadata": {
        "colab": {
          "base_uri": "https://localhost:8080/"
        },
        "id": "Q0YOIngdjjNO",
        "outputId": "c8609106-9aa2-458d-97cd-7091fdbf23a0"
      },
      "execution_count": 9,
      "outputs": [
        {
          "output_type": "stream",
          "name": "stdout",
          "text": [
            "{'Nepal': 'Kathmandu', 'Italy': 'Rome', 'England': 'London'}\n",
            "Kathmandu\n",
            "London\n"
          ]
        }
      ]
    },
    {
      "cell_type": "markdown",
      "source": [
        "# **Dynamic typing**\n",
        "Python is a dynamically typed programming language, this means you don’t need to explicitly declare a variable’s type at the time of defining them. Instead, the Python interpreter determines and assigns a type dynamically based on the value provided to the variable."
      ],
      "metadata": {
        "id": "J762u0qdkqti"
      }
    },
    {
      "cell_type": "code",
      "source": [
        "int: x = 10;   #// Integer\n",
        "double: y = 10.5; #// Float\n",
        "String: z = \"Hello\"; #// String\n",
        "\n",
        "x = 10  # Integer\n",
        "y = 10.5  # Float\n",
        "z = \"Hello\"  # String\n",
        "\n"
      ],
      "metadata": {
        "id": "5ktMyKprkqz0"
      },
      "execution_count": null,
      "outputs": []
    },
    {
      "cell_type": "markdown",
      "source": [
        "# **Complex numbers (complex):**\n",
        "\n",
        "Numbers with a real and imaginary part. Complex numbers are useful in fields like electrical engineering, physics, and signal processing, where operations involving imaginary numbers are common.\n",
        "\n",
        "Python represents complex numbers as a + bj, where a is the real part, and b is the imaginary part. This built-in support simplifies calculations that would otherwise require external libraries or custom implementations in other languages."
      ],
      "metadata": {
        "id": "8DdCadDTkq9c"
      }
    },
    {
      "cell_type": "code",
      "source": [
        "fruits = [\"apple\", \"banana\", \"cherry\"]\n",
        "print(fruits)"
      ],
      "metadata": {
        "id": "dVYG8QhSkrCz"
      },
      "execution_count": null,
      "outputs": []
    },
    {
      "cell_type": "markdown",
      "source": [
        "# **Mapping Data Types**\n",
        "While sequences store ordered collections of elements, Python also provides mapping data types that associate keys with values. The most commonly used mapping type is the dictionary."
      ],
      "metadata": {
        "id": "IcCYOI3SkrMU"
      }
    },
    {
      "cell_type": "code",
      "source": [
        "unique_numbers = {1, 2, 3, 4, 5}"
      ],
      "metadata": {
        "id": "oF85YJT6krRu"
      },
      "execution_count": null,
      "outputs": []
    },
    {
      "cell_type": "markdown",
      "source": [
        "# **Frozen sets (frozenset)**\n",
        "An immutable version of a set, which means that once created, its elements cannot be modified.\n",
        "\n",
        "Frozen sets are useful in scenarios where you need a hashable collection of unique items, such as using a set as a key in a dictionary or ensuring the integrity of data that should not change.\n",
        "\n",
        "They retain all the properties of regular sets, such as supporting mathematical operations like union and intersection, but with the added benefit of immutability."
      ],
      "metadata": {
        "id": "acMevad0krZm"
      }
    },
    {
      "cell_type": "code",
      "source": [
        "immutable_set = frozenset([1, 2, 3])"
      ],
      "metadata": {
        "id": "PjG_qzGMkre9"
      },
      "execution_count": null,
      "outputs": []
    },
    {
      "cell_type": "markdown",
      "source": [
        "# **Boolean Data Type**\n",
        "In many programming scenarios, we need a way to represent truth values. Python provides the Boolean data type, which plays a role in decision-making and control flow.\n",
        "\n",
        "5.1. Boolean\n",
        "Logical values, either True or False. These values are often used in decision-making processes, such as conditional statements and loops.\n",
        "\n",
        "Booleans are fundamental to control flow in programming, allowing you to write code that reacts dynamically based on conditions.\n",
        "\n",
        "In Python, Boolean values can also result from comparisons (e.g., 5 > 3 evaluates to True) or logical operations (e.g., True and False evaluates to False)."
      ],
      "metadata": {
        "id": "ChwcMtdQkrmG"
      }
    },
    {
      "cell_type": "code",
      "source": [
        "is_active = True"
      ],
      "metadata": {
        "id": "2h78sXrfkrrt"
      },
      "execution_count": null,
      "outputs": []
    },
    {
      "cell_type": "markdown",
      "source": [
        "# **NoneType**\n",
        "In addition to numeric, sequence, mapping, set, and Boolean types, Python includes a special data type to represent the absence of a value.\n",
        "\n",
        "6.1 None (NoneType)\n",
        "Represents the absence of a value or a null value.\n",
        "\n",
        "The None type is often used to signify a placeholder, uninitialized variables, or the default return value of functions that do not explicitly return anything.\n",
        "\n",
        "It is useful, especially in cases where an operation might not produce a result or when a variable needs to be defined without an initial value.\n"
      ],
      "metadata": {
        "id": "A78VbR3WlgHT"
      }
    },
    {
      "cell_type": "code",
      "source": [
        "result = None"
      ],
      "metadata": {
        "id": "80gqGDbNlgPC"
      },
      "execution_count": null,
      "outputs": []
    },
    {
      "cell_type": "markdown",
      "source": [],
      "metadata": {
        "id": "T_cBb7zilgVr"
      }
    },
    {
      "cell_type": "code",
      "source": [],
      "metadata": {
        "id": "aS41HQT1lgbS"
      },
      "execution_count": null,
      "outputs": []
    },
    {
      "cell_type": "markdown",
      "source": [
        "# **Advanced Data Types and External Libraries**\n",
        "Beyond the fundamental built-in types, Python also provides advanced data types for handling more specialized use cases. Let’s look at the most common types.\n",
        "\n",
        "**1. Byte objects**\n",
        "Byte objects are specifically designed to handle binary data, including files, multimedia, and network packets. These data types are particularly useful when working with non-textual data.\n",
        "\n",
        "The bytes type is immutable, making it suitable for read-only operations, while bytearray provides a mutable alternative for scenarios where modifications are needed. The memory view type enables access to an object's internal data buffer without copying it, improving performance in memory-intensive applications."
      ],
      "metadata": {
        "id": "gKUfkjholgiT"
      }
    },
    {
      "cell_type": "code",
      "source": [
        "data = b\"hello\"  # Immutable bytes object\n",
        "mutable_data = bytearray(b\"hello\")  # Mutable bytearray object\n",
        "view = memoryview(mutable_data)  # Memoryview of the bytearray"
      ],
      "metadata": {
        "id": "7lQpMb9blgpG"
      },
      "execution_count": null,
      "outputs": []
    },
    {
      "cell_type": "markdown",
      "source": [
        "# **NumPy arrays**\n",
        "NumPy arrays are highly efficient, multi-dimensional arrays designed for numerical computations.\n",
        "\n",
        "Unlike Python lists, NumPy arrays provide superior performance and are tailored for mathematical operations. They are a cornerstone in scientific computing, powering tasks such as linear algebra, Fourier transforms, and statistical analysis.\n",
        "\n",
        "They support broadcasting, which allows operations on arrays of different shapes, further enhancing their versatility."
      ],
      "metadata": {
        "id": "S2XKhFoJlgur"
      }
    },
    {
      "cell_type": "code",
      "source": [
        "import numpy as np\n",
        "\n",
        "# Creating a 1D array\n",
        "data = np.array([1, 2, 3, 4])\n",
        "\n",
        "# Creating a 2D array\n",
        "data_2d = np.array([[1, 2], [3, 4]])\n",
        "\n",
        "# Performing element-wise operations\n",
        "squared = data ** 2"
      ],
      "metadata": {
        "id": "ioU219Yilg0r"
      },
      "execution_count": 10,
      "outputs": []
    },
    {
      "cell_type": "markdown",
      "source": [
        "# **Pandas DataFrames**\n",
        "Pandas DataFrames are tabular data structures that offer powerful data manipulation and analysis tools. With labeled rows and columns, they make handling structured data intuitive and efficient.\n",
        "\n",
        "DataFrames are integral to data science workflows, enabling tasks like filtering, grouping, merging, and aggregating large datasets. Additionally, they integrate seamlessly with other libraries, making pandas indispensable for modern data analysis."
      ],
      "metadata": {
        "id": "BM9AnxESl2dN"
      }
    },
    {
      "cell_type": "code",
      "source": [
        "import pandas as pd\n",
        "\n",
        "# Creating a simple DataFrame\n",
        "data = pd.DataFrame({\"Name\": [\"Alice\", \"Bob\"], \"Age\": [25, 30]})\n",
        "\n",
        "# Filtering rows based on a condition\n",
        "adults = data[data[\"Age\"] > 18]\n",
        "\n",
        "# Adding a new column\n",
        "data[\"IsAdult\"] = data[\"Age\"] > 18\n",
        "\n",
        "# show data\n",
        "data"
      ],
      "metadata": {
        "id": "DSusTmGrl2l9"
      },
      "execution_count": null,
      "outputs": []
    },
    {
      "cell_type": "markdown",
      "source": [
        "# **Type Conversion in Python**\n",
        "Type conversion refers to the process of converting a value from one data type to another. In programming, this is often necessary to ensure that operations are performed correctly and that data can be manipulated in the desired way.\n",
        "\n",
        "Python’s handling of type conversion is highly flexible, offering both automatic (implicit) and manual (explicit) methods.\n",
        "\n",
        "**1. Implicit type conversion**\n",
        "Python automatically converts one data type to another in expressions when a smaller or less precise data type is combined with a larger or more precise type.\n",
        "\n",
        "For example, combining an int with a float results in a float, ensuring that no precision is lost during calculations."
      ],
      "metadata": {
        "id": "USic7p5Pl2us"
      }
    },
    {
      "cell_type": "code",
      "source": [
        "result = 5 + 3.5\n",
        "print(result)\n"
      ],
      "metadata": {
        "colab": {
          "base_uri": "https://localhost:8080/"
        },
        "id": "1IZ2RGr-l20d",
        "outputId": "a6251887-e63a-4bb0-ece4-4244ac3e8fc8"
      },
      "execution_count": 11,
      "outputs": [
        {
          "output_type": "stream",
          "name": "stdout",
          "text": [
            "8.5\n"
          ]
        }
      ]
    },
    {
      "cell_type": "markdown",
      "source": [
        "# **Explicit type conversion**\n",
        "Explicit type conversion, or type casting, allows you to manually convert a value from one data type to another using built-in functions like int(), float(), str(), and more.\n",
        "\n",
        "This is useful in scenarios where implicit conversion does not occur or when working with data types like strings that need to be explicitly converted for numerical operations."
      ],
      "metadata": {
        "id": "st23rPWkl261"
      }
    },
    {
      "cell_type": "code",
      "source": [
        "num = int(\"10\")  # Converts string to integer\n",
        "price = float(\"19.99\")  # Converts string to float\n",
        "text = str(123)  # Converts integer to string"
      ],
      "metadata": {
        "id": "odTBMgQ0l3At"
      },
      "execution_count": null,
      "outputs": []
    },
    {
      "cell_type": "markdown",
      "source": [
        "# **Validate input types**\n",
        "Ensuring that the input data is of the expected type can prevent runtime errors and improve code reliability.\n",
        "\n",
        "Python’s isinstance() function is a straightforward way to validate types. This practice is particularly important in applications where inputs are dynamically received, such as from user forms or APIs."
      ],
      "metadata": {
        "id": "k9LEj5WImNRe"
      }
    },
    {
      "cell_type": "code",
      "source": [
        "if not isinstance(age, int):\n",
        "    raise ValueError(\"Age must be an integer\")"
      ],
      "metadata": {
        "id": "FQnnGmJpmNZN"
      },
      "execution_count": null,
      "outputs": []
    },
    {
      "cell_type": "markdown",
      "source": [
        "# **Best Practices for Working with Data Types in Python**\n",
        "Understanding Python’s data types is just the first step—using them effectively is key to writing clean, efficient, and maintainable code. Here are some best practices to keep in mind when working with data types.\n",
        "\n",
        "Use specific types for specific tasks\n",
        "Choose types that align with your task. For example, use set when you need to maintain unique elements, list for ordered data collections, and tuple for immutable sequences.\n",
        "\n",
        "Making deliberate choices about data types ensures your code is efficient and easier to read and maintain."
      ],
      "metadata": {
        "id": "2N53jhf9mNh2"
      }
    }
  ]
}
