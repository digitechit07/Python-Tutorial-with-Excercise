{
  "nbformat": 4,
  "nbformat_minor": 0,
  "metadata": {
    "colab": {
      "provenance": [],
      "authorship_tag": "ABX9TyPx5xY6foxbuzrn3gyy0lyn",
      "include_colab_link": true
    },
    "kernelspec": {
      "name": "python3",
      "display_name": "Python 3"
    },
    "language_info": {
      "name": "python"
    }
  },
  "cells": [
    {
      "cell_type": "markdown",
      "metadata": {
        "id": "view-in-github",
        "colab_type": "text"
      },
      "source": [
        "<a href=\"https://colab.research.google.com/github/digitechit07/Python-Tutorial-with-Excercise/blob/main/Python_Data_Types_2.ipynb\" target=\"_parent\"><img src=\"https://colab.research.google.com/assets/colab-badge.svg\" alt=\"Open In Colab\"/></a>"
      ]
    },
    {
      "cell_type": "markdown",
      "source": [
        "# **Python Data Types**\n",
        "\n",
        "Data types in Python are a way to classify data items. They represent the kind of value, which determines what operations can be performed on that data. Since everything is an object in Python programming, Python data types are classes and variables are instances (objects) of these classes.\n",
        "\n",
        "The following are standard or built-in data types in Python:\n",
        "\n",
        "Numeric: int, float, complex\n",
        "\n",
        "Sequence Type: string, list, tuple\n",
        "\n",
        "Mapping Type: dict\n",
        "\n",
        "Boolean: bool\n",
        "\n",
        "Set Type: set, frozenset\n",
        "\n",
        "Binary Types: bytes, bytearray, memoryview"
      ],
      "metadata": {
        "id": "S_ke6NaOhYiI"
      }
    },
    {
      "cell_type": "code",
      "execution_count": null,
      "metadata": {
        "id": "8cqCYMNAgUtv"
      },
      "outputs": [],
      "source": [
        "x = 50  # int\n",
        "x = 60.5  # float\n",
        "x = \"Hello World\"  # string\n",
        "x = [\"geeks\", \"for\", \"geeks\"]  # list\n",
        "x = (\"geeks\", \"for\", \"geeks\")  # tuple"
      ]
    },
    {
      "cell_type": "markdown",
      "source": [
        "# **1. Numeric Data Types**\n",
        "Python numbers represent data that has a numeric value. A numeric value can be an integer, a floating number or even a complex number. These values are defined as int, float and complex classes.\n",
        "\n",
        "Integers: value is represented by int class. It contains positive or negative whole numbers (without fractions or decimals). There is no limit to how long an integer value can be.\n",
        "\n",
        "Float: value is represented by float class. It is a real number with a floating-point representation. It is specified by a decimal point. Optionally, character e or E followed by a positive or negative integer may be appended to specify scientific notation.\n",
        "\n",
        "Complex Numbers: It is represented by a complex class. It is specified as (real part) + (imaginary part)j. For example - 2+3j"
      ],
      "metadata": {
        "id": "zh6YVdDzhjSY"
      }
    },
    {
      "cell_type": "code",
      "source": [
        "a = 5\n",
        "print(type(a))\n",
        "\n",
        "b = 5.0\n",
        "print(type(b))\n",
        "\n",
        "c = 2 + 4j\n",
        "print(type(c))"
      ],
      "metadata": {
        "colab": {
          "base_uri": "https://localhost:8080/"
        },
        "id": "gbrJRlAzhjpH",
        "outputId": "25a2a8c1-edbc-4df5-ddf8-e428f5b96b90"
      },
      "execution_count": 1,
      "outputs": [
        {
          "output_type": "stream",
          "name": "stdout",
          "text": [
            "<class 'int'>\n",
            "<class 'float'>\n",
            "<class 'complex'>\n"
          ]
        }
      ]
    },
    {
      "cell_type": "markdown",
      "source": [
        "# **2. Sequence Data Types**\n",
        "A sequence is an ordered collection of items, which can be of similar or different data types. Sequences allow storing of multiple values in an organized and efficient fashion. There are several sequence data types of Python:\n",
        "\n",
        "**String Data Type**\n",
        "Python Strings are arrays of bytes representing Unicode characters. In Python, there is no character data type, a character is a string of length one. It is represented by str class.\n",
        "\n",
        "Strings in Python can be created using single quotes, double quotes or even triple quotes. We can access individual characters of a String using index."
      ],
      "metadata": {
        "id": "szaWFWedhjwv"
      }
    },
    {
      "cell_type": "code",
      "source": [
        "s = 'Welcome to the Geeks World'\n",
        "print(s)\n",
        "\n",
        "# check data type\n",
        "print(type(s))\n",
        "\n",
        "# access string with index\n",
        "print(s[1])\n",
        "print(s[2])\n",
        "print(s[-1])"
      ],
      "metadata": {
        "colab": {
          "base_uri": "https://localhost:8080/"
        },
        "id": "VK2JFuD1hj3P",
        "outputId": "d0083752-c794-44b8-e0b1-8797060439dc"
      },
      "execution_count": 2,
      "outputs": [
        {
          "output_type": "stream",
          "name": "stdout",
          "text": [
            "Welcome to the Geeks World\n",
            "<class 'str'>\n",
            "e\n",
            "l\n",
            "d\n"
          ]
        }
      ]
    },
    {
      "cell_type": "markdown",
      "source": [
        "# **List Data Type**\n",
        "Lists are similar to arrays found in other languages. They are an ordered and mutable collection of items. It is very flexible as items in a list do not need to be of the same type.\n",
        "\n",
        "# **Creating a List in Python**\n",
        "\n",
        "Lists in Python can be created by just placing sequence inside the square brackets[]."
      ],
      "metadata": {
        "id": "-i2gfq4Xhj-H"
      }
    },
    {
      "cell_type": "code",
      "source": [
        "# Empty list\n",
        "a = []\n",
        "\n",
        "# list with int values\n",
        "a = [1, 2, 3]\n",
        "print(a)\n",
        "\n",
        "# list with mixed values int and String\n",
        "b = [\"Geeks\", \"For\", \"Geeks\", 4, 5]\n",
        "print(b)\n",
        "\n",
        "a = [\"Geeks\", \"For\", \"Geeks\"]\n",
        "print(\"Accessing element from the list\")\n",
        "print(a[0])\n",
        "print(a[2])\n",
        "\n",
        "print(\"Accessing element using negative indexing\")\n",
        "print(a[-1])\n",
        "print(a[-3])"
      ],
      "metadata": {
        "colab": {
          "base_uri": "https://localhost:8080/"
        },
        "id": "jyYOrKO-hkE_",
        "outputId": "81d1aecc-e1cb-4f21-d259-554fb0230488"
      },
      "execution_count": 4,
      "outputs": [
        {
          "output_type": "stream",
          "name": "stdout",
          "text": [
            "[1, 2, 3]\n",
            "['Geeks', 'For', 'Geeks', 4, 5]\n",
            "Accessing element from the list\n",
            "Geeks\n",
            "Geeks\n",
            "Accessing element using negative indexing\n",
            "Geeks\n",
            "Geeks\n"
          ]
        }
      ]
    },
    {
      "cell_type": "markdown",
      "source": [
        "# **Tuple Data Type**\n",
        "Tuple is an ordered collection of Python objects. The only difference between a tuple and a list is that tuples are immutable. Tuples cannot be modified after it is created.\n",
        "\n",
        "# **Creating a Tuple in Python**\n",
        "\n",
        "In Python, tuples are created by placing a sequence of values separated by a ‘comma’ with or without the use of parentheses for grouping data sequence. Tuples can contain any number of elements and of any datatype (like strings, integers, lists, etc.).\n",
        "\n",
        "Note: Tuples can also be created with a single element, but it is a bit tricky. Having one element in the parentheses is not sufficient, there must be a trailing ‘comma’ to make it a tuple."
      ],
      "metadata": {
        "id": "hSi-6MYxhkLw"
      }
    },
    {
      "cell_type": "code",
      "source": [
        "# initiate empty tuple\n",
        "tup1 = ()\n",
        "\n",
        "tup2 = ('Geeks', 'For')\n",
        "print(\"\\nTuple with the use of String: \", tup2)\n",
        "\n",
        "tup1 = (1, 2, 3, 4, 5)\n",
        "\n",
        "# access tuple items\n",
        "print(tup1[0])\n",
        "print(tup1[-1])\n",
        "print(tup1[-3])"
      ],
      "metadata": {
        "colab": {
          "base_uri": "https://localhost:8080/"
        },
        "id": "jPU3RvQkhkRP",
        "outputId": "72322465-fb6e-42bd-90e8-b035db7bf076"
      },
      "execution_count": 5,
      "outputs": [
        {
          "output_type": "stream",
          "name": "stdout",
          "text": [
            "\n",
            "Tuple with the use of String:  ('Geeks', 'For')\n",
            "1\n",
            "5\n",
            "3\n"
          ]
        }
      ]
    },
    {
      "cell_type": "markdown",
      "source": [
        "# **3. Boolean Data Type**\n",
        "Python Boolean Data type is one of the two built-in values, True or False. Boolean objects that are equal to True are truthy (true) and those equal to False are falsy (false). However non-Boolean objects can be evaluated in a Boolean context as well and determined to be true or false. It is denoted by class bool."
      ],
      "metadata": {
        "id": "gFmne3ePhkX_"
      }
    },
    {
      "cell_type": "code",
      "source": [
        "print(type(True))\n",
        "print(type(False))\n",
        "print(type(true))"
      ],
      "metadata": {
        "id": "MFy_xu45hkeX"
      },
      "execution_count": null,
      "outputs": []
    },
    {
      "cell_type": "markdown",
      "source": [
        "# **Truthy and Falsy Values**\n",
        "In Python, truthy and falsy values are values that evaluate to True or False in a Boolean context. Truthy values behave like True, while falsy values behave like False when used in conditions.\n",
        "\n",
        "\n",
        "\n",
        "\n"
      ],
      "metadata": {
        "id": "E4krXBBFiF6p"
      }
    },
    {
      "cell_type": "code",
      "source": [
        "if 1:\n",
        "    print(\"1 is truthy\")\n",
        "\n",
        "if not 0:\n",
        "    print(\"0 is falsy\")"
      ],
      "metadata": {
        "id": "0hcIAzL4iGCa"
      },
      "execution_count": null,
      "outputs": []
    },
    {
      "cell_type": "markdown",
      "source": [
        "# **4. Set Data Type**\n",
        "In Python Data Types, Set is an unordered collection of data types that is iterable, mutable, and has no duplicate elements. The order of elements in a set is undefined though it may consist of various elements.\n",
        "\n",
        "Create a Set in Python\n",
        "Sets can be created by using the built-in set() function with an iterable object or a sequence by placing the sequence inside curly braces, separated by a ‘comma’. The type of elements in a set need not be the same, various mixed-up data type values can also be passed to the set."
      ],
      "metadata": {
        "id": "UqW-LF3OiGKJ"
      }
    },
    {
      "cell_type": "code",
      "source": [
        "# initializing empty set\n",
        "s1 = set()\n",
        "\n",
        "s1 = set(\"GeeksForGeeks\")\n",
        "print(\"Set with the use of String: \", s1)\n",
        "\n",
        "s2 = set([\"Geeks\", \"For\", \"Geeks\"])\n",
        "print(\"Set with the use of List: \", s2)\n",
        "\n",
        "set1 = set([\"Geeks\", \"For\", \"Geeks\"]) #Duplicates are removed automatically\n",
        "print(set1)\n",
        "\n",
        "# loop through set\n",
        "for i in set1:\n",
        "   print(i, end=\" \") #prints elements one by one\n",
        "\n",
        "# check if item exist in set\n",
        "print(\"Geeks\" in set1)"
      ],
      "metadata": {
        "colab": {
          "base_uri": "https://localhost:8080/"
        },
        "id": "tMrkSl-9iGRB",
        "outputId": "12b3fb9b-4431-42c5-dda1-9501f03c3690"
      },
      "execution_count": 7,
      "outputs": [
        {
          "output_type": "stream",
          "name": "stdout",
          "text": [
            "Set with the use of String:  {'e', 'k', 'F', 's', 'G', 'r', 'o'}\n",
            "Set with the use of List:  {'For', 'Geeks'}\n",
            "{'For', 'Geeks'}\n",
            "For Geeks True\n"
          ]
        }
      ]
    },
    {
      "cell_type": "markdown",
      "source": [
        "# **5. Dictionary Data Type**\n",
        "A dictionary in Python is a collection of data values, used to store data values like a map, unlike other Python Data Types, a Dictionary holds a key: value pair. Key-value is provided in dictionary to make it more optimized. Each key-value pair in a Dictionary is separated by a colon : , whereas each key is separated by a ‘comma’.\n",
        "\n",
        "**Create a Dictionary in Python**\n",
        "Values in a dictionary can be of any datatype and can be duplicated, whereas keys can’t be repeated and must be immutable. The dictionary can also be created by the built-in function dict().\n",
        "\n",
        "Note  - Dictionary keys are case sensitive, the same name but different cases of Key will be treated distinctly."
      ],
      "metadata": {
        "id": "6UiNpw89iGYj"
      }
    },
    {
      "cell_type": "code",
      "source": [
        "# initialize empty dictionary\n",
        "d = {}\n",
        "\n",
        "d = {1: 'Geeks', 2: 'For', 3: 'Geeks'}\n",
        "print(d)\n",
        "\n",
        "# creating dictionary using dict() constructor\n",
        "d1 = dict({1: 'Geeks', 2: 'For', 3: 'Geeks'})\n",
        "print(d1)\n",
        "\n",
        "\n",
        "d = {1: 'Geeks', 'name': 'For', 3: 'Geeks'}\n",
        "\n",
        "# Accessing an element using key\n",
        "print(d['name'])\n",
        "\n",
        "# Accessing a element using get\n",
        "print(d.get(3))"
      ],
      "metadata": {
        "colab": {
          "base_uri": "https://localhost:8080/"
        },
        "id": "x07Dzd08iGfE",
        "outputId": "4bab8aa0-6ccb-4a88-d87c-c1a1d71852cb"
      },
      "execution_count": 8,
      "outputs": [
        {
          "output_type": "stream",
          "name": "stdout",
          "text": [
            "{1: 'Geeks', 2: 'For', 3: 'Geeks'}\n",
            "{1: 'Geeks', 2: 'For', 3: 'Geeks'}\n",
            "For\n",
            "Geeks\n"
          ]
        }
      ]
    },
    {
      "cell_type": "markdown",
      "source": [],
      "metadata": {
        "id": "4ty6BYqCiGmJ"
      }
    },
    {
      "cell_type": "code",
      "source": [],
      "metadata": {
        "id": "Qxcgf7guiGsa"
      },
      "execution_count": null,
      "outputs": []
    },
    {
      "cell_type": "markdown",
      "source": [],
      "metadata": {
        "id": "K1PpvcH3iGzx"
      }
    },
    {
      "cell_type": "code",
      "source": [],
      "metadata": {
        "id": "sqMfKxFNiG5a"
      },
      "execution_count": null,
      "outputs": []
    },
    {
      "cell_type": "markdown",
      "source": [],
      "metadata": {
        "id": "z-kGyT2QiHEy"
      }
    },
    {
      "cell_type": "code",
      "source": [],
      "metadata": {
        "id": "khSBHW6XiHLT"
      },
      "execution_count": null,
      "outputs": []
    }
  ]
}
