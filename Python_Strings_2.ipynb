{
  "nbformat": 4,
  "nbformat_minor": 0,
  "metadata": {
    "colab": {
      "provenance": [],
      "authorship_tag": "ABX9TyOFg6vKT/UEeIheQcEcW6aW",
      "include_colab_link": true
    },
    "kernelspec": {
      "name": "python3",
      "display_name": "Python 3"
    },
    "language_info": {
      "name": "python"
    }
  },
  "cells": [
    {
      "cell_type": "markdown",
      "metadata": {
        "id": "view-in-github",
        "colab_type": "text"
      },
      "source": [
        "<a href=\"https://colab.research.google.com/github/digitechit07/Python-Tutorial-with-Excercise/blob/main/Python_Strings_2.ipynb\" target=\"_parent\"><img src=\"https://colab.research.google.com/assets/colab-badge.svg\" alt=\"Open In Colab\"/></a>"
      ]
    },
    {
      "cell_type": "markdown",
      "source": [
        "# **Creating a String**\n",
        "Strings can be created using either single ('...') or double (\"...\") quotes. Both behave the same."
      ],
      "metadata": {
        "id": "aPfDrhmHPHmU"
      }
    },
    {
      "cell_type": "code",
      "execution_count": 1,
      "metadata": {
        "colab": {
          "base_uri": "https://localhost:8080/"
        },
        "id": "TxeYrbNqPCLh",
        "outputId": "4f6744b3-6653-41c0-848b-0ee69b0120c1"
      },
      "outputs": [
        {
          "output_type": "stream",
          "name": "stdout",
          "text": [
            "G\n",
            "s\n",
            "k\n",
            "G\n",
            "eek\n",
            "Gee\n",
            "ksforGeeks\n",
            "skeeGrofskeeG\n",
            "P\n",
            "y\n",
            "t\n",
            "h\n",
            "o\n",
            "n\n",
            "GeeksforGeeks\n",
            "Hello geeks\n",
            "hello GeeksforGeeks\n",
            "13\n",
            "HELLO WORLD\n",
            "hello world\n",
            "Gfg\n",
            "Python is awesome\n",
            "Hello World\n",
            "Hello Hello Hello \n",
            "Name: Alice, Age: 22\n",
            "My name is Alice and I am 22 years old.\n",
            "True\n",
            "False\n"
          ]
        }
      ],
      "source": [
        "s = \"GeeksforGeeks\"\n",
        "print(s[0])   # first character\n",
        "print(s[4])   # 5th character\n",
        "\n",
        "s = \"GeeksforGeeks\"\n",
        "print(s[-10])   # 3rd character\n",
        "print(s[-5])    # 5th character from end\n",
        "\n",
        "s = \"GeeksforGeeks\"\n",
        "print(s[1:4])    # characters from index 1 to 3\n",
        "print(s[:3])     # from start to index 2\n",
        "print(s[3:])     # from index 3 to end\n",
        "print(s[::-1])   # reverse string\n",
        "\n",
        "\n",
        "s = \"Python\"\n",
        "for char in s:\n",
        "    print(char)\n",
        "\n",
        "s = \"geeksforGeeks\"\n",
        "s = \"G\" + s[1:]   # create new string\n",
        "print(s)\n",
        "\n",
        "s = \"GfG\"\n",
        "#del s\n",
        "\n",
        "s = \"hello geeks\"\n",
        "s1 = \"H\" + s[1:]                   # update first character\n",
        "s2 = s.replace(\"geeks\", \"GeeksforGeeks\")  # replace word\n",
        "print(s1)\n",
        "print(s2)\n",
        "\n",
        "s = \"GeeksforGeeks\"\n",
        "print(len(s))\n",
        "\n",
        "s = \"Hello World\"\n",
        "print(s.upper())\n",
        "print(s.lower())\n",
        "\n",
        "s = \"   Gfg   \"\n",
        "print(s.strip())\n",
        "\n",
        "s = \"Python is fun\"\n",
        "print(s.replace(\"fun\", \"awesome\"))\n",
        "\n",
        "\n",
        "s1 = \"Hello\"\n",
        "s2 = \"World\"\n",
        "print(s1 + \" \" + s2)\n",
        "\n",
        "s = \"Hello \"\n",
        "print(s * 3)\n",
        "\n",
        "name = \"Alice\"\n",
        "age = 22\n",
        "print(f\"Name: {name}, Age: {age}\")\n",
        "\n",
        "s = \"My name is {} and I am {} years old.\".format(\"Alice\", 22)\n",
        "print(s)\n",
        "\n",
        "s = \"GeeksforGeeks\"\n",
        "print(\"Geeks\" in s)\n",
        "print(\"GfG\" in s)\n",
        "\n"
      ]
    },
    {
      "cell_type": "markdown",
      "source": [
        "# **Python Strings**\n",
        "In Python, a string is a sequence of characters. For example, \"hello\" is a string containing a sequence of characters 'h', 'e', 'l', 'l', and 'o'."
      ],
      "metadata": {
        "id": "JBoqclBTPr8u"
      }
    },
    {
      "cell_type": "code",
      "source": [
        "# create string type variables\n",
        "\n",
        "name = \"Python\"\n",
        "print(name)\n",
        "\n",
        "message = \"I love Python.\"\n",
        "print(message)\n",
        "\n",
        "greet = 'hello'\n",
        "\n",
        "# access 1st index element\n",
        "print(greet[1]) # \"e\"\n",
        "\n",
        "greet = 'hello'\n",
        "\n",
        "# access 4th last element\n",
        "print(greet[-4]) # \"e\"\n",
        "\n",
        "greet = 'Hello'\n",
        "\n",
        "# access character from 1st index to 3rd index\n",
        "print(greet[1:4])  # \"ell\"\n",
        "\n",
        "message = 'Hola Amigos'\n",
        "#message[0] = 'H'\n",
        "print(message)\n",
        "\n",
        "message = 'Hola Amigos'\n",
        "\n",
        "# assign new string to message variable\n",
        "message = 'Hello Friends'\n",
        "\n",
        "print(message); # prints \"Hello Friends\"\n",
        "\n",
        "# multiline string\n",
        "message = \"\"\"\n",
        "Never gonna give you up\n",
        "Never gonna let you down\n",
        "\"\"\"\n",
        "\n",
        "print(message)\n",
        "\n",
        "str1 = \"Hello, world!\"\n",
        "str2 = \"I love Swift.\"\n",
        "str3 = \"Hello, world!\"\n",
        "\n",
        "# compare str1 and str2\n",
        "print(str1 == str2)\n",
        "\n",
        "# compare str1 and str3\n",
        "print(str1 == str3)\n",
        "\n",
        "\n",
        "greet = \"Hello, \"\n",
        "name = \"Jack\"\n",
        "\n",
        "# using + operator\n",
        "result = greet + name\n",
        "print(result)\n",
        "\n",
        "# Output: Hello, Jack\n",
        "\n",
        "greet = 'Hello'\n",
        "\n",
        "# iterating through greet string\n",
        "for letter in greet:\n",
        "    print(letter)\n",
        "\n",
        "greet = 'Hello'\n",
        "\n",
        "# count length of greet string\n",
        "print(len(greet))\n",
        "\n",
        "# Output: 5\n",
        "\n",
        "print('a' in 'program') # True\n",
        "print('at' not in 'battle') # False\n",
        "\n",
        "\n"
      ],
      "metadata": {
        "colab": {
          "base_uri": "https://localhost:8080/"
        },
        "id": "hXiS8HbOPt9u",
        "outputId": "dca59b20-2631-415a-fa42-df7960c5125b"
      },
      "execution_count": 3,
      "outputs": [
        {
          "output_type": "stream",
          "name": "stdout",
          "text": [
            "Python\n",
            "I love Python.\n",
            "e\n",
            "e\n",
            "ell\n",
            "Hola Amigos\n",
            "Hello Friends\n",
            "\n",
            "Never gonna give you up\n",
            "Never gonna let you down\n",
            "\n",
            "False\n",
            "True\n",
            "Hello, Jack\n",
            "H\n",
            "e\n",
            "l\n",
            "l\n",
            "o\n",
            "5\n",
            "True\n",
            "False\n"
          ]
        }
      ]
    },
    {
      "cell_type": "markdown",
      "source": [
        "# **Methods\tDescription**\n",
        "upper() \tConverts the string to uppercase\n",
        "\n",
        "lower()\tConverts the string to lowercase\n",
        "\n",
        "partition()\tReturns a tuple\n",
        "\n",
        "replace()\tReplaces substring inside\n",
        "\n",
        "find()\tReturns the index of the first occurrence of substring\n",
        "\n",
        "rstrip()\tRemoves trailing characters\n",
        "\n",
        "split()\tSplits string from left\n",
        "\n",
        "startswith()\tChecks if string starts with the specified string\n",
        "\n",
        "isnumeric()\tChecks numeric characters\n",
        "\n",
        "index()\tReturns index of substring"
      ],
      "metadata": {
        "id": "WWsmkuBnQBnX"
      }
    },
    {
      "cell_type": "code",
      "source": [
        "# escape double quotes\n",
        "example = \"He said, \\\"What's there?\\\"\"\n",
        "\n",
        "# escape single quotes\n",
        "example = 'He said, \"What\\'s there?\"'\n",
        "\n",
        "print(example)\n",
        "\n",
        "# Output: He said, \"What's there?\"\n",
        "\n",
        "name = 'Cathy'\n",
        "country = 'UK'\n",
        "\n",
        "print(f'{name} is from {country}')\n",
        "\n",
        "s = 'hi'\n",
        "print(s[1])          ## i\n",
        "print(len(s))        ## 2\n",
        "print(s + ' there')  ## hi there\n",
        "\n",
        "pi = 3.14\n",
        "##text = 'The value of pi is ' + pi      ## NO, does not work\n",
        "text = 'The value of pi is '  + str(pi)  ## yes\n",
        "\n",
        "\n",
        "\n",
        "raw = r'this\\t\\n and that'\n",
        "\n",
        "# this\\t\\n and that\n",
        "print(raw)\n",
        "\n",
        "multi = \"\"\"It was the best of times.\n",
        "It was the worst of times.\"\"\"\n",
        "\n",
        "# It was the best of times.\n",
        "#   It was the worst of times.\n",
        "print(multi)\n",
        "\n",
        "value = 2.791514\n",
        "print(f'approximate value = {value:.2f}')  # approximate value = 2.79\n",
        "\n",
        "car = {'tires':4, 'doors':2}\n",
        "print(f'car = {car}') # car = {'tires': 4, 'doors': 2}\n",
        "\n",
        "address_book = [{'name':'N.X.', 'addr':'15 Jones St', 'bonus': 70},\n",
        "    {'name':'J.P.', 'addr':'1005 5th St', 'bonus': 400},\n",
        "    {'name':'A.A.', 'addr':'200001 Bdwy', 'bonus': 5},]\n",
        "\n",
        "for person in address_book:\n",
        "  print(f'{person[\"name\"]:8} || {person[\"addr\"]:20} || {person[\"bonus\"]:>5}')\n",
        "\n",
        "  # N.X.     || 15 Jones St          ||    70\n",
        "  # J.P.     || 1005 5th St          ||   400\n",
        "  # A.A.     || 200001 Bdwy          ||     5"
      ],
      "metadata": {
        "colab": {
          "base_uri": "https://localhost:8080/"
        },
        "id": "47wJIx8uQIMm",
        "outputId": "0e92ef51-6adf-4e3e-a1f0-f145c9775f4b"
      },
      "execution_count": 5,
      "outputs": [
        {
          "output_type": "stream",
          "name": "stdout",
          "text": [
            "He said, \"What's there?\"\n",
            "Cathy is from UK\n",
            "i\n",
            "2\n",
            "hi there\n",
            "this\\t\\n and that\n",
            "It was the best of times.\n",
            "It was the worst of times.\n",
            "approximate value = 2.79\n",
            "car = {'tires': 4, 'doors': 2}\n",
            "N.X.     || 15 Jones St          ||    70\n",
            "J.P.     || 1005 5th St          ||   400\n",
            "A.A.     || 200001 Bdwy          ||     5\n"
          ]
        }
      ]
    },
    {
      "cell_type": "markdown",
      "source": [
        "# **String Methods**\n",
        "Here are some of the most common string methods. A method is like a function, but it runs \"on\" an object. If the variable s is a string, then the code\n",
        "s.lower() runs the lower() method on that string object and returns the result (this idea of a method running on an object is one of the basic ideas that make up Object Oriented Programming, OOP). Here are some of the most common string methods:\n",
        "\n",
        "s.lower(), s.upper() -- returns the lowercase or uppercase version of the string\n",
        "\n",
        "s.strip() -- returns a string with whitespace removed from the start and end\n",
        "\n",
        "s.isalpha()/s.isdigit()/s.isspace()... -- tests if all the string chars are in the various character classes\n",
        "\n",
        "s.startswith('other'), s.endswith('other') -- tests if the string starts or ends with the given other string\n",
        "\n",
        "s.find('other') -- searches for the given other string (not a regular expression) within s, and returns the first index where it begins or -1 if not found\n",
        "\n",
        "s.replace('old', 'new') -- returns a string where all occurrences of 'old' have been replaced by 'new'\n",
        "\n",
        "s.split('delim') -- returns a list of substrings separated by the given delimiter. The delimiter is not a regular expression, it's just text. 'aaa,bbb,ccc'.split(',') -> ['aaa', 'bbb', 'ccc']. As a convenient special case s.split() (with no arguments) splits on all whitespace chars.\n",
        "\n",
        "s.join(list) -- opposite of split(), joins the elements in the given list together using the string as the delimiter. e.g. '---'.join(['aaa', 'bbb', 'ccc']) -> aaa---bbb---ccc"
      ],
      "metadata": {
        "id": "53bO5U64RCjK"
      }
    },
    {
      "cell_type": "code",
      "source": [
        "# % operator\n",
        "text = \"%d little pigs come out, or I'll %s, and I'll %s, and I'll blow your %s down.\" % (3, 'huff', 'puff', 'house')\n",
        "\n",
        "# Add parentheses to make the long line work:\n",
        "text = (\n",
        "  \"%d little pigs come out, or I'll %s, and I'll %s, and I'll blow your %s down.\"\n",
        "% (3, 'huff', 'puff', 'house'))\n",
        "\n",
        "# Split the line into chunks, which are concatenated automatically by Python\n",
        "text = (\n",
        "  \"%d little pigs come out, \"\n",
        "  \"or I'll %s, and I'll %s, \"\n",
        "  \"and I'll blow your %s down.\"\n",
        "% (3, 'huff', 'puff', 'house'))\n",
        "\n",
        "time_hour = 12\n",
        "if time_hour < 10: print('coffee')\n",
        "else: print('water')\n",
        ""
      ],
      "metadata": {
        "colab": {
          "base_uri": "https://localhost:8080/"
        },
        "id": "eIjoJ1a_RV6U",
        "outputId": "1b6165fd-02c6-47e1-df31-eeb25cf2a907"
      },
      "execution_count": 6,
      "outputs": [
        {
          "output_type": "stream",
          "name": "stdout",
          "text": [
            "water\n"
          ]
        }
      ]
    },
    {
      "cell_type": "markdown",
      "source": [
        "# **Here is a list of all the escape sequences supported by Python.**\n",
        "\n",
        "Escape Sequence\tDescription\n",
        "\\\\\tBackslash\n",
        "\n",
        "\\'\tSingle quote\n",
        "\n",
        "\\\"\tDouble quote\n",
        "\n",
        "\\a\tASCII Bell\n",
        "\n",
        "\\b\tASCII Backspace\n",
        "\n",
        "\\f\tASCII Formfeed\n",
        "\n",
        "\\n\tASCII Linefeed\n",
        "\n",
        "\\r\tASCII Carriage Return\n",
        "\n",
        "\\t\tASCII Horizontal Tab\n",
        "\n",
        "\\v\tASCII Vertical Tab\n",
        "\n",
        "\\ooo\tCharacter with octal value ooo\n",
        "\n",
        "\\xHH\tCharacter with hexadecimal value HH"
      ],
      "metadata": {
        "id": "xfpzn33eQVXn"
      }
    }
  ]
}