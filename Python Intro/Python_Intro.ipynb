{
  "nbformat": 4,
  "nbformat_minor": 0,
  "metadata": {
    "colab": {
      "provenance": [],
      "authorship_tag": "ABX9TyOvhv50dos0C2x7oDV4mxJk"
    },
    "kernelspec": {
      "name": "python3",
      "display_name": "Python 3"
    },
    "language_info": {
      "name": "python"
    }
  },
  "cells": [
    {
      "cell_type": "code",
      "execution_count": null,
      "metadata": {
        "id": "9slyAqqTDhTk"
      },
      "outputs": [],
      "source": []
    },
    {
      "cell_type": "markdown",
      "source": [
        "# **Python is a high-level, general-purpose, and versatile programming language created by Guido van Rossum and first released in 1991. It is known for its readability and simple syntax, which often requires fewer lines of code compared to other languages.**\n",
        "\n",
        "# Key Characteristics:\n",
        "Interpreted: Python code is executed line by line by an interpreter, making it suitable for rapid prototyping and interactive development.\n",
        "\n",
        "High-Level: It abstracts away complex details like memory management, allowing developers to focus on problem-solving.\n",
        "\n",
        "Multi-paradigm: Python supports various programming paradigms, including object-oriented, procedural, and functional programming.\n",
        "\n",
        "Cross-platform: Python applications can run on different operating systems like Windows, macOS, and Linux without modification.\n",
        "\n",
        "Extensive Libraries and Frameworks: A vast ecosystem of libraries and frameworks exists for various applications, including web development (Django, Flask), data science (NumPy, Pandas, Matplotlib), machine learning (Scikit-learn, TensorFlow, PyTorch), and automation.\n",
        "\n",
        "# Applications of Python:\n",
        "Web Development: Building server-side web applications and APIs.\n",
        "Data Science and Machine Learning: Data analysis, visualization, statistical modeling, and developing AI models.\n",
        "\n",
        "Software Development: Creating desktop applications and supporting software workflows.\n",
        "\n",
        "Automation and Scripting: Automating repetitive tasks and system administration.\n",
        "\n",
        "Scientific Computing and Research: Used in various scientific fields for complex calculations and simulations.\n",
        "\n",
        "# Why Learn Python?\n",
        "\n",
        "Beginner-Friendly: Its clear and concise syntax makes it an excellent first language for aspiring programmers.\n",
        "\n",
        "High Demand: Python skills are highly sought after in various industries.\n",
        "Large Community Support: A thriving community provides ample resources, tutorials, and assistance.\n",
        "\n",
        "Versatility: Applicable to a wide range of tasks and industries."
      ],
      "metadata": {
        "id": "TANsyUPj3KM3"
      }
    },
    {
      "cell_type": "markdown",
      "source": [
        "# **Zen of Python**\n",
        "The principles are listed as follows:[b]\n",
        "\n",
        "Beautiful is better than ugly.\n",
        "\n",
        "Explicit is better than implicit.\n",
        "\n",
        "Simple is better than complex.\n",
        "\n",
        "Complex is better than complicated.\n",
        "\n",
        "Flat is better than nested.\n",
        "\n",
        "Sparse is better than dense.\n",
        "\n",
        "Readability counts.\n",
        "\n",
        "Special cases aren't special enough to break the rules.\n",
        "\n",
        "Although practicality beats purity.\n",
        "\n",
        "Errors should never pass silently.\n",
        "\n",
        "Unless explicitly silenced.\n",
        "\n",
        "In the face of ambiguity, refuse the temptation to guess.\n",
        "\n",
        "There should be one-- and preferably only one --obvious way to do it.\n",
        "\n",
        "Although that way may not be obvious at first unless you're Dutch.\n",
        "\n",
        "Now is better than never.\n",
        "\n",
        "Although never is often better than right now.\n",
        "\n",
        "If the implementation is hard to explain, it's a bad idea.\n",
        "\n",
        "If the implementation is easy to explain, it may be a good idea.\n",
        "\n",
        "Namespaces are one honking great idea – let's do more of those!"
      ],
      "metadata": {
        "id": "AdzLlc1p22rk"
      }
    },
    {
      "cell_type": "markdown",
      "source": [
        "# **Python Programming −**\n",
        "\n",
        "It supports functional and structured programming methods as well as OOP.\n",
        "It can be used as a scripting language or can be compiled to byte-code for building large applications.\n",
        "It provides very high-level dynamic data types and supports dynamic type checking.\n",
        "It supports automatic garbage collection.\n",
        "It can be easily integrated with C, C++, COM, ActiveX, CORBA, and Java.\n",
        "Applications of Python\n",
        "Python is a general purpose programming language known for its readability. It is widely applied in various fields.\n",
        "\n",
        "In Data Science, Python libraries like Numpy, Pandas, and Matplotlib are used for data analysis and visualization.\n",
        "Python frameworks like Django, and Pyramid, make the development and deployment of Web Applications easy.\n",
        "This programming language also extends its applications to computer vision and image processing.\n",
        "It is also favored in many tasks like Automation, Job Scheduling, GUI development, etc.\n",
        "Features of Python\n",
        "The latest release of Python is 3.x. As mentioned before, Python is one of the most widely used languages on the web. I'm going to list a few of them here:\n",
        "\n",
        "Easy-to-learn − Python has few keywords, simple structure, and a clearly defined syntax. This allows the student to pick up the language quickly.\n",
        "\n",
        "Easy-to-read − Python code is more clearly defined and visible to the eyes.\n",
        "\n",
        "Easy-to-maintain − Python's source code is fairly easy-to-maintain.\n",
        "\n",
        "A broad standard library − Python's bulk of the library is very portable and cross-platform compatible on UNIX, Windows, and Macintosh.\n",
        "\n",
        "Interactive Mode − Python has support for an interactive mode that allows interactive testing and debugging of snippets of code.\n",
        "\n",
        "Portable − Python can run on a wide variety of hardware platforms and has the same interface on all platforms.\n",
        "\n",
        "Extendable − You can add low-level modules to the Python interpreter. These modules enable programmers to add to or customize their tools to be more efficient.\n",
        "\n",
        "Databases − Python provides interfaces to all major commercial databases.\n",
        "\n",
        "GUI Programming − Python supports GUI applications that can be created and ported to many system calls, libraries, and Windows systems, such as Windows MFC, Macintosh, and the X Window system of Unix.\n",
        "\n",
        "Scalable − Python provides a better structure and support for large programs than shell scripting."
      ],
      "metadata": {
        "id": "ktHT1q8W5kqF"
      }
    },
    {
      "cell_type": "code",
      "source": [
        "print (\"Hello World\")"
      ],
      "metadata": {
        "colab": {
          "base_uri": "https://localhost:8080/"
        },
        "id": "cOnuWsy93Jwo",
        "outputId": "d36bd1a2-5083-4e96-b110-fc25e90ddd27"
      },
      "execution_count": 1,
      "outputs": [
        {
          "output_type": "stream",
          "name": "stdout",
          "text": [
            "Hello World\n"
          ]
        }
      ]
    },
    {
      "cell_type": "markdown",
      "source": [
        "# **Why to Learn Python?**\n",
        "Requires fewer lines of code compared to other programming languages like Java.\n",
        "\n",
        "Provides Libraries / Frameworks like Django, Flask and many more for Web Development, and Pandas, Tensorflow, Scikit-learn and many more for, AI/ML, Data Science and Data Analysis\n",
        "\n",
        "Cross-platform, works on Windows, Mac and Linux without major changes.\n",
        "Used by top tech companies like Google, Netflix and NASA.\n",
        "Many Python coding job opportunities in Software Development, Data Science and AI/ML."
      ],
      "metadata": {
        "id": "efp7AKFQ6AlZ"
      }
    },
    {
      "cell_type": "code",
      "source": [
        "\"\"\"\n",
        "This is a multi-line comment.\n",
        "It can be used to describe larger sections of code.\n",
        "\"\"\"\n",
        "print(\"Start My python Learning\")"
      ],
      "metadata": {
        "colab": {
          "base_uri": "https://localhost:8080/"
        },
        "id": "yRs19EtX22er",
        "outputId": "dc1c14e8-9ab5-4aa2-ba9f-a946ce37a81b"
      },
      "execution_count": 2,
      "outputs": [
        {
          "output_type": "stream",
          "name": "stdout",
          "text": [
            "Start My python Learning\n"
          ]
        }
      ]
    },
    {
      "cell_type": "markdown",
      "source": [
        "# **Pythonic Code Style**\n",
        "Python leaves you free to choose to program in an object-oriented, procedural, functional, aspect-oriented, or even logic-oriented way. These freedoms make Python a great language to write clean and beautiful code.\n",
        "\n",
        "Pythonic Code Style is actually more of a design philosophy and suggests to write a code which is :\n",
        "\n",
        "Clean\n",
        "Simple\n",
        "Beautiful\n",
        "Explicit\n",
        "Readable"
      ],
      "metadata": {
        "id": "9gfFUQWT6PSs"
      }
    },
    {
      "cell_type": "markdown",
      "source": [
        "# **What's New in Python 3.11?**\n",
        "One of the most important features of Python's version 3.11 is the significant improvement in speed. According to Python's official documentation, this version is faster than the previous version (3.10) by up to 60%. It also states that the standard benchmark suite shows a 25% faster execution rate.\n",
        "\n",
        "Python 3.11 has a better exception messaging. Instead of generating a long traceback on the occurrence of an exception, we now get the exact expression causing the error.\n",
        "\n",
        "As per the recommendations of PEP 678, the add_note() method is added to the BaseException class. You can call this method inside the except clause and pass a custom error message.\n",
        "\n",
        "It also adds the cbroot() function in the maths module. It returns the cube root of a given number.\n",
        "\n",
        "A new module tomllib is added in the standard library. TOML (Tom's Obvious Minimal Language) can be parsed with tomlib module function."
      ],
      "metadata": {
        "id": "_IdG199V6Xow"
      }
    }
  ]
}