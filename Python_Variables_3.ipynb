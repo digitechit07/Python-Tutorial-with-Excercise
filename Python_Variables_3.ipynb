{
  "nbformat": 4,
  "nbformat_minor": 0,
  "metadata": {
    "colab": {
      "provenance": [],
      "authorship_tag": "ABX9TyMeUByqOnmbDCszRUak0Pa3",
      "include_colab_link": true
    },
    "kernelspec": {
      "name": "python3",
      "display_name": "Python 3"
    },
    "language_info": {
      "name": "python"
    }
  },
  "cells": [
    {
      "cell_type": "markdown",
      "metadata": {
        "id": "view-in-github",
        "colab_type": "text"
      },
      "source": [
        "<a href=\"https://colab.research.google.com/github/digitechit07/Python-Tutorial-with-Excercise/blob/main/Python_Variables_3.ipynb\" target=\"_parent\"><img src=\"https://colab.research.google.com/assets/colab-badge.svg\" alt=\"Open In Colab\"/></a>"
      ]
    },
    {
      "cell_type": "markdown",
      "source": [
        "# **Python Variables: Syntax, Usage, and Examples**\n",
        "Python variables are containers with names that store values like numbers, strings, and lists. In essence, variables make it easier to access and modify the values they store as a Python application runs.\n",
        "\n",
        "Quick Answer: How to Use Variables in Python\n",
        "In Python, you create a variable by assigning a value to a name using the equals sign (=). Unlike some languages that use a $ prefix (like PHP or PowerShell), Python variables are just plain names. Python is dynamically typed, meaning you don't need to declare the variable's type; it's determined automatically from the assigned value.\n",
        "\n",
        "Syntax:variable_name = value"
      ],
      "metadata": {
        "id": "Hz3T6mYX0kNU"
      }
    },
    {
      "cell_type": "code",
      "execution_count": null,
      "metadata": {
        "id": "5ZnR8zqy0dqm"
      },
      "outputs": [],
      "source": [
        "# Assigning a string value to a variable\n",
        "greeting = \"Hello, World!\"\n",
        "\n",
        "# Assigning a number value to a variable\n",
        "user_age = 30\n",
        "\n",
        "# Using the variables\n",
        "print(greeting)\n",
        "# Outputs: Hello, World!\n",
        "\n",
        "print(f\"The user is {user_age} years old.\")\n",
        "# Outputs: The user is 30 years old.\n"
      ]
    },
    {
      "cell_type": "markdown",
      "source": [
        "# **How to Use Variables in Python**\n",
        "In Python, defining a variable is straightforward, and updating a variable works the same way. You simply assign a value to a variable name using the equals sign (=). Here's a basic example:\n",
        "\n",
        "my_variable: The name of the variable to create or update\n",
        "=: The operator to assign a value to a variable\n",
        "value: A value, such as a number, string, or list for the variable to store\n",
        "In Python, variables aren't declared like they are in many other programming languages. Instead, you create a variable right when you assign a value to it.\n",
        "\n",
        "\n"
      ],
      "metadata": {
        "id": "Rw97HTkI0nkr"
      }
    },
    {
      "cell_type": "code",
      "source": [
        "# Defining or updating a variable\n",
        "my_variable = value"
      ],
      "metadata": {
        "id": "-Y1bEgRW0nqd"
      },
      "execution_count": null,
      "outputs": []
    },
    {
      "cell_type": "markdown",
      "source": [
        "# **User Input Storage**\n",
        "Variables are perfect for temporary data storage, i.e., storing information while a Python application runs. Consider a login form, which might store a username and password in variables."
      ],
      "metadata": {
        "id": "rF_7wolE0nxk"
      }
    },
    {
      "cell_type": "code",
      "source": [
        "username = input(\"Enter a username: \")\n",
        "password = input(\"Enter a password: \")"
      ],
      "metadata": {
        "id": "Psh1qqGt0n4M"
      },
      "execution_count": null,
      "outputs": []
    },
    {
      "cell_type": "markdown",
      "source": [
        "# **Calculators**\n",
        "In applications with calculations, variables might be helpful to make such calculations easier to understand. For example, a salary calculator might store the individual components that make up a salary using variables."
      ],
      "metadata": {
        "id": "N_IGvNhA0n_0"
      }
    },
    {
      "cell_type": "code",
      "source": [
        "base_salary = 50000\n",
        "experience_multiplier = 1.3\n",
        "\n",
        "salary = base_salary * experience_multiplier\n",
        "print(salary)"
      ],
      "metadata": {
        "id": "OdXMfTup0oF8"
      },
      "execution_count": null,
      "outputs": []
    },
    {
      "cell_type": "markdown",
      "source": [
        "# **Loop Control and Iteration**\n",
        "Variables are essential for controlling the flow of loops and their iterations. Consider iterating through a range from 0 to 10 as an example. A variable might store the value of the current element of the range."
      ],
      "metadata": {
        "id": "g7cbJudX0oN0"
      }
    },
    {
      "cell_type": "code",
      "source": [
        "for i in range(10):  # the 'i' represents the current iteration\n",
        "    print(i)"
      ],
      "metadata": {
        "id": "pwpoz83o0oVU"
      },
      "execution_count": null,
      "outputs": []
    },
    {
      "cell_type": "markdown",
      "source": [
        "# **Conditional Logic**\n",
        "Variables can store the results of logical operations and conditions. Such results might be important for making decisions, like checking if a login attempt was successful."
      ],
      "metadata": {
        "id": "h15-MnTP10ji"
      }
    },
    {
      "cell_type": "code",
      "source": [
        "login_successful = attempt_login(username, password)\n",
        "if login_successful:\n",
        "    print(\"Login succeeded.\")\n",
        "else:\n",
        "    print(\"Login failed.\")"
      ],
      "metadata": {
        "id": "9IDgdA9710vD"
      },
      "execution_count": null,
      "outputs": []
    },
    {
      "cell_type": "markdown",
      "source": [
        "# **Function Arguments and Return Values**\n",
        "When defining functions, variables pass information into the function as arguments. Functions can also return information through variables as return values."
      ],
      "metadata": {
        "id": "2rDtRH4b102C"
      }
    },
    {
      "cell_type": "code",
      "source": [
        "def calculate_area(width, height):  # 'width' and 'height' are variables\n",
        "    return width * height"
      ],
      "metadata": {
        "id": "mKEQk8dC10-6"
      },
      "execution_count": null,
      "outputs": []
    },
    {
      "cell_type": "markdown",
      "source": [
        "# **Managing State**\n",
        "In more complex Python applications, variables can be helpful for managing the state of an object. This is particularly useful in object-oriented programming, where instance variables store object state. As an example, consider a class for cars with make and model attributes."
      ],
      "metadata": {
        "id": "SpN5QSp611FT"
      }
    },
    {
      "cell_type": "code",
      "source": [
        "class Car:\n",
        "    def __init__(self, make, model):\n",
        "        self.make = make  # 'make' and 'model' are variables storing state\n",
        "        self.model = model"
      ],
      "metadata": {
        "id": "1qFkOJJ911Lj"
      },
      "execution_count": null,
      "outputs": []
    },
    {
      "cell_type": "markdown",
      "source": [
        "# **Temporary Storage**\n",
        "During data processing, variables can serve as temporary storage for intermediate results. For example, think of swapping the values of two variables that track the height and width of an image. A temporary variable might help store the width value before the height value replaces it."
      ],
      "metadata": {
        "id": "6nH2di7A2ELo"
      }
    },
    {
      "cell_type": "code",
      "source": [
        "temp_variable = width  # a variable to keep the value of width\n",
        "width = height\n",
        "height = temp_variable"
      ],
      "metadata": {
        "id": "skz6Ris12ESZ"
      },
      "execution_count": null,
      "outputs": []
    },
    {
      "cell_type": "markdown",
      "source": [
        "# **Variable Names**\n",
        "A variable’s name identifies the variable and often indicates its purpose and the type of value it stores. Choosing meaningful and descriptive names helps in understanding Python code without needing excessive comments or documentation.\n",
        "\n",
        "The Python programming language has some rules for naming variables:\n",
        "\n",
        "Variable names must start with a letter (a-z, A-Z) or an underscore (_)\n",
        "Variable names can contain letters, numbers, and underscores but cannot begin with a number\n",
        "Avoid using any of Python's reserved keywords (e.g., for, if, while, etc.) as variable names\n",
        "Python variable names typically follow the “snake case” naming convention. Snake-case names start with a letter or underscore followed by letters, underscores, or numbers. As examples, consider base_salary and experience_multiplier.\n",
        "\n",
        "In Python, variable names are case-sensitive, which means base_salary and BASE_SALARY are two different variable names. This feature allows for a flexible naming scheme but requires careful attention to avoid errors.\n",
        "\n",
        "# **Variable Types**\n",
        "In Python, there are different types of variables, like integers, floats (floating-point numbers), strings, lists, and dictionaries. Each type has a specific purpose and operations it can handle. As opposed to many other programming languages, Python is dynamically typed. In Python, the variable type is determined at runtime based on the assigned value."
      ],
      "metadata": {
        "id": "h2t-qiGX2EZ4"
      }
    },
    {
      "cell_type": "code",
      "source": [
        "age = 25  # Integer\n",
        "balance = 100.50  # Float\n",
        "name = \"Alex\"  # String\n",
        "favorite_colors = [\"blue\", \"green\", \"red\"]  # List\n",
        "user_profile = {\"username\": \"alex25\", \"active\": True}  # Dictionary"
      ],
      "metadata": {
        "id": "gQKsqXRj2Eg_"
      },
      "execution_count": null,
      "outputs": []
    },
    {
      "cell_type": "markdown",
      "source": [
        "# **Type Conversions**\n",
        "Python also allows for type conversions, where you can explicitly change a variable from a certain type to another. Type conversions require type functions like int(), float(), and str(). Converting types can be particularly useful for performing arithmetic operations on numbers input as strings. For example, converting a string to an integer: int(\"123\") turns the string \"123\" into the integer 123."
      ],
      "metadata": {
        "id": "VbxpB4uZ2Tml"
      }
    },
    {
      "cell_type": "code",
      "source": [
        "number_string = input(\"Enter a number: \")  # gets user input as string\n",
        "number_int = int(number_string)  # converts string to integer\n",
        "print(number_int + 1) ## adds 1 to the integer"
      ],
      "metadata": {
        "id": "SFqtuDf82TtF"
      },
      "execution_count": null,
      "outputs": []
    },
    {
      "cell_type": "markdown",
      "source": [
        "# **Python Local Variables**\n",
        "Local variables live within a function and are only accessible inside that function. They're not available outside the function, making them temporary and function-specific. Consider a variable inside a function that counts how often the function has been called. This variable will only be available for use within that function."
      ],
      "metadata": {
        "id": "eKn1kE6l2Tzt"
      }
    },
    {
      "cell_type": "code",
      "source": [
        "def print_local_var():\n",
        "    local_var = 5  # Local variable, accessible only within 'function'\n",
        "    print(local_var)\n",
        "\n",
        "print_local_var()  # This will print 5\n",
        "# print(local_var)  # This would raise an error because local_var is not accessible here"
      ],
      "metadata": {
        "id": "wrvBejoI2T8N"
      },
      "execution_count": null,
      "outputs": []
    },
    {
      "cell_type": "markdown",
      "source": [
        "# **Python Global Variables**\n",
        "In Python, global variables are defined outside functions. Global variables are accessible throughout a program, including inside functions.\n",
        "\n",
        "\n"
      ],
      "metadata": {
        "id": "aXJVcQ3L2UD2"
      }
    },
    {
      "cell_type": "code",
      "source": [
        "global_var = 10  # Global variable\n",
        "\n",
        "def function():\n",
        "    print(global_var)  # Accessing global variable inside a function\n",
        "\n",
        "function()  # This will print 10\n",
        "print(global_var)  # This will also print 10\n"
      ],
      "metadata": {
        "id": "0rVoiG3q2UJ9"
      },
      "execution_count": null,
      "outputs": []
    },
    {
      "cell_type": "markdown",
      "source": [
        "# **Constants**\n",
        "In Python, constants are variables meant to remain unchanged throughout the execution of a program. The naming convention of constants requires uppercase letters with underscores separating any words, such as BASE_SALARY or EXPERIENCE_MULTIPLIER. Typically, such constants are defined at the top of a Python file.\n",
        "\n",
        "In reality, Python has no enforcement for constants. Constants are only meant to remain unchanged and can technically be changed at any time.\n",
        "\n",
        "Key Takeaways for Python Variables\n",
        "No $ or Keywords Needed: Variables are created through simple assignment (name = value). You do not use $ prefixes or declaration keywords like var or let.\n",
        "Dynamically Typed: You don't have to specify the data type of a variable. Python determines the type automatically based on the value you assign.\n",
        "snake_case is the Convention: The standard style for variable names in Python is to use all lowercase letters with underscores to separate words (e.g., first_name).\n",
        "Case-Sensitive: my_variable and My_Variable are treated as two completely different variables.\n",
        "Scope Matters: Variables defined inside a function are local and only exist within that function. Variables defined outside of any function are global and can be accessed throughout"
      ],
      "metadata": {
        "id": "SkNSKt7i2jGS"
      }
    }
  ]
}